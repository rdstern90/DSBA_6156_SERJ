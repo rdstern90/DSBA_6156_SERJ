{
 "cells": [
  {
   "cell_type": "markdown",
   "metadata": {},
   "source": [
    "#### Pick last statements of customers for train and test both"
   ]
  },
  {
   "cell_type": "code",
   "execution_count": 2,
   "metadata": {},
   "outputs": [],
   "source": [
    "import pandas as pd\n",
    "import numpy as np\n",
    "from sklearn.base import BaseEstimator, TransformerMixin\n",
    "from sklearn.impute import SimpleImputer\n",
    "from sklearn.pipeline import Pipeline\n",
    "from sklearn.preprocessing import OneHotEncoder\n",
    "from sklearn.preprocessing import StandardScaler\n",
    "from sklearn.compose import ColumnTransformer\n",
    "from sklearn.model_selection import train_test_split\n",
    "import statsmodels.api as sm\n",
    "from sklearn.linear_model import LogisticRegression\n",
    "from sklearn.metrics import classification_report,confusion_matrix,roc_curve,roc_auc_score, accuracy_score\n",
    "import matplotlib.pyplot as plt"
   ]
  },
  {
   "cell_type": "code",
   "execution_count": 3,
   "metadata": {},
   "outputs": [],
   "source": [
    "# Read training data \n",
    "df_train_x = pd.read_parquet('D:/Sakshi/DSBA_6156_SERJ/data/train.parquet')\n",
    "df_train_x.columns = df_train_x.columns.str.lower()\n",
    "# Read training data labels\n",
    "df_train_y = pd.read_csv('D:/Sakshi/DSBA_6156_SERJ/data/train_labels.csv')\n",
    "df_train_y.columns = df_train_y.columns.str.lower()\n",
    "df_train_y = df_train_y.set_index('customer_id')\n",
    "\n",
    "df_train_x = df_train_x.sort_values(['customer_id', 's_2'])\n",
    "df_train = pd.merge(df_train_x, df_train_y, on='customer_id')\n",
    "del(df_train_x, df_train_y)"
   ]
  },
  {
   "cell_type": "code",
   "execution_count": 3,
   "metadata": {},
   "outputs": [],
   "source": [
    "# # Before doing any transformation see the datatypes of the features\n",
    "# df_train.dtypes.to_csv('../ignore/final/before_transformations.csv')"
   ]
  },
  {
   "cell_type": "code",
   "execution_count": 4,
   "metadata": {},
   "outputs": [],
   "source": [
    "df_train['last_statement_flag'] = (df_train.groupby('customer_id')['s_2']\n",
    "                      .rank(method='dense', ascending=False)\n",
    "                      .astype(int)\n",
    "                   )\n",
    "df_train = df_train[df_train['last_statement_flag']== 1]                                      "
   ]
  },
  {
   "cell_type": "code",
   "execution_count": 5,
   "metadata": {},
   "outputs": [
    {
     "data": {
      "text/html": [
       "<div>\n",
       "<style scoped>\n",
       "    .dataframe tbody tr th:only-of-type {\n",
       "        vertical-align: middle;\n",
       "    }\n",
       "\n",
       "    .dataframe tbody tr th {\n",
       "        vertical-align: top;\n",
       "    }\n",
       "\n",
       "    .dataframe thead th {\n",
       "        text-align: right;\n",
       "    }\n",
       "</style>\n",
       "<table border=\"1\" class=\"dataframe\">\n",
       "  <thead>\n",
       "    <tr style=\"text-align: right;\">\n",
       "      <th></th>\n",
       "      <th>customer_id</th>\n",
       "      <th>s_2</th>\n",
       "      <th>target</th>\n",
       "      <th>last_statement_flag</th>\n",
       "    </tr>\n",
       "  </thead>\n",
       "  <tbody>\n",
       "    <tr>\n",
       "      <th>116</th>\n",
       "      <td>0000f99513770170a1aba690daeeb8a96da4a39f11fc27...</td>\n",
       "      <td>2018-03-01</td>\n",
       "      <td>1</td>\n",
       "      <td>1</td>\n",
       "    </tr>\n",
       "  </tbody>\n",
       "</table>\n",
       "</div>"
      ],
      "text/plain": [
       "                                           customer_id         s_2  target  \\\n",
       "116  0000f99513770170a1aba690daeeb8a96da4a39f11fc27...  2018-03-01       1   \n",
       "\n",
       "     last_statement_flag  \n",
       "116                    1  "
      ]
     },
     "execution_count": 5,
     "metadata": {},
     "output_type": "execute_result"
    }
   ],
   "source": [
    "df_train[df_train['customer_id']== '0000f99513770170a1aba690daeeb8a96da4a39f11fc27da5c30a79db61c1e85']\\\n",
    "    [['customer_id','s_2','target','last_statement_flag']]"
   ]
  },
  {
   "cell_type": "code",
   "execution_count": 6,
   "metadata": {},
   "outputs": [],
   "source": [
    "df_train.drop(columns = 'last_statement_flag', inplace=True)"
   ]
  },
  {
   "cell_type": "code",
   "execution_count": 7,
   "metadata": {},
   "outputs": [
    {
     "data": {
      "text/plain": [
       "d_63     0.0\n",
       "d_64     0.0\n",
       "d_66     0.0\n",
       "d_68     0.0\n",
       "b_30     0.0\n",
       "b_31     0.0\n",
       "b_38     0.0\n",
       "d_114    0.0\n",
       "d_116    0.0\n",
       "d_117    0.0\n",
       "d_120    0.0\n",
       "d_126    0.0\n",
       "dtype: float64"
      ]
     },
     "execution_count": 7,
     "metadata": {},
     "output_type": "execute_result"
    }
   ],
   "source": [
    "pipeline = Pipeline(steps=[])\n",
    "# 89% of d_66 column values were missing, but it has been filled with -1 while parquet generation.\n",
    "# Also assign the column names in sequence in which it appars in the file  \n",
    "categorical_cols = ['d_63', 'd_64', 'd_66', 'd_68', 'b_30', 'b_31', 'b_38', 'd_114', 'd_116',\n",
    "                     'd_117', 'd_120', 'd_126']\n",
    "df_train[categorical_cols].isnull().sum() / len(df_train)"
   ]
  },
  {
   "cell_type": "code",
   "execution_count": 8,
   "metadata": {},
   "outputs": [],
   "source": [
    "# # Check the percentage of missing values\n",
    "# null_series = df_train.isna().sum() / df_train.shape[0]\n",
    "# null_series.to_csv('../ignore/final/column_null_values_prop.csv')\n",
    "# del null_series"
   ]
  },
  {
   "cell_type": "code",
   "execution_count": 8,
   "metadata": {},
   "outputs": [
    {
     "name": "stdout",
     "output_type": "stream",
     "text": [
      "The unique values for column d_63 is [0 3 4 5 1 2]\n",
      "The unique values for column d_64 is [ 0  2  3 -1]\n",
      "The unique values for column d_66 is [-1  1]\n",
      "The unique values for column d_68 is [ 6  3  5  4  2  1 -1]\n",
      "The unique values for column b_30 is [ 0  1  2 -1]\n",
      "The unique values for column b_31 is [1 0]\n",
      "The unique values for column b_38 is [ 2  1  3  7  5  6  4 -1]\n",
      "The unique values for column d_114 is [ 1  0 -1]\n",
      "The unique values for column d_116 is [ 0 -1  1]\n",
      "The unique values for column d_117 is [ 5  0  7  2  3  6  4 -1]\n",
      "The unique values for column d_120 is [ 0  1 -1]\n",
      "The unique values for column d_126 is [2 1]\n"
     ]
    }
   ],
   "source": [
    "# Check for the unique values for all the categorical features\n",
    "for i in categorical_cols:\n",
    "    print(f'The unique values for column {i} is {df_train[i].unique()}')"
   ]
  },
  {
   "cell_type": "code",
   "execution_count": 9,
   "metadata": {},
   "outputs": [
    {
     "name": "stdout",
     "output_type": "stream",
     "text": [
      "The shape of the original file is:(458913, 191)\n"
     ]
    }
   ],
   "source": [
    "print(f'The shape of the original file is:{df_train.shape}')"
   ]
  },
  {
   "cell_type": "code",
   "execution_count": 10,
   "metadata": {},
   "outputs": [],
   "source": [
    "class PreProcessing(BaseEstimator, TransformerMixin):\n",
    "    def __init__(self, categorical_cols):\n",
    "        self.categorical_cols = categorical_cols\n",
    "\n",
    "    def fit(self, X, y=None):\n",
    "        # Get the list of columns that have missing values greater than equal to 40%\n",
    "        missing_perc = round((X.isnull().sum() / len(X)) * 100, 2)\n",
    "        # Prepare final List of columns to drop\n",
    "        self.cols_to_drop = missing_perc[missing_perc.ge(40)].index.tolist() \n",
    "\n",
    "        return self\n",
    "\n",
    "    def transform(self, X):\n",
    "        numeric_cols = list(set(X.columns.tolist(\n",
    "        )) - set(self.categorical_cols + self.cols_to_drop + ['target', 'customer_id', 's_2']))\n",
    "\n",
    "        # Impute the mean of the numeric columns\n",
    "        for col in numeric_cols:\n",
    "            # Check if the column has any null value, then only apply the imputation\n",
    "            if X[col].isnull().any():\n",
    "                X[col] = X[col].fillna(X[col].mean())\n",
    "                            \n",
    "            # Scale\n",
    "            mean = X[col].mean()\n",
    "            std = X[col].std()\n",
    "            if std > 0:\n",
    "                X[col] = ((X[col] - mean) / std).astype('float32')\n",
    "\n",
    "        X = X.drop(columns = self.cols_to_drop)\n",
    "\n",
    "        return X\n",
    "\n",
    "# use all the statements of a customer where all stmts are marked with the same target value\n",
    "preprocessing = PreProcessing(categorical_cols)\n",
    "df_processed = preprocessing.fit_transform(df_train)\n",
    "\n",
    "pipeline.steps.append(('preprocessing', preprocessing))"
   ]
  },
  {
   "cell_type": "code",
   "execution_count": 11,
   "metadata": {},
   "outputs": [
    {
     "data": {
      "text/plain": [
       "False"
      ]
     },
     "execution_count": 11,
     "metadata": {},
     "output_type": "execute_result"
    }
   ],
   "source": [
    "df_processed.isnull().values.any()"
   ]
  },
  {
   "cell_type": "code",
   "execution_count": 12,
   "metadata": {},
   "outputs": [
    {
     "name": "stdout",
     "output_type": "stream",
     "text": [
      "After processing the shape is :(458913, 173)\n"
     ]
    }
   ],
   "source": [
    "del (df_train)\n",
    "print(f'After processing the shape is :{df_processed.shape}')"
   ]
  },
  {
   "cell_type": "code",
   "execution_count": 13,
   "metadata": {},
   "outputs": [],
   "source": [
    "# Check the correlation for the numeric columns\n",
    "df_corr = df_processed.drop(columns = categorical_cols + ['target','customer_id','s_2']).corr()\n",
    "df_corr.to_csv(\"D:/Sakshi/DSBA_6156_SERJ/ignore/final/single_num_corr_results.csv\")"
   ]
  },
  {
   "cell_type": "code",
   "execution_count": 14,
   "metadata": {},
   "outputs": [],
   "source": [
    "from sklearn.linear_model import LinearRegression\n",
    "\n",
    "def sklearn_vif(data):\n",
    "\n",
    "    # initialize dictionaries\n",
    "    result = {}\n",
    "\n",
    "    # form input data for each exogenous variable\n",
    "    exogs = data.columns.to_list()\n",
    "    for exog in exogs:\n",
    "        # print(exog)\n",
    "        not_exog = [i for i in exogs if i != exog]\n",
    "        # exog would be for which the VIF has to be calculated based on the combination of other columns\n",
    "        X, y = data[not_exog], data[exog]  \n",
    "        # extract r-squared from the fit\n",
    "        r_squared = LinearRegression(n_jobs=12).fit(X, y).score(X, y)\n",
    "\n",
    "        # calculate VIF\n",
    "        vif = 1/(1 - r_squared)\n",
    "        result[exog] = vif\n",
    "    return result\n",
    "\n",
    "vif_data1 = sklearn_vif(df_processed.drop(columns = categorical_cols + ['target','customer_id','s_2']))\n",
    "# Convert the results from the dictionary to dataframe\n",
    "df_vif = pd.DataFrame({\n",
    "    'feature': vif_data1.keys(),\n",
    "    'VIF': vif_data1.values()\n",
    "})\n",
    "del(vif_data1)\n",
    "df_vif.to_csv(\"D:/Sakshi/DSBA_6156_SERJ/ignore/final/single_num_VIF_data_results.csv\",index=False)"
   ]
  },
  {
   "cell_type": "code",
   "execution_count": 16,
   "metadata": {},
   "outputs": [],
   "source": [
    "# df_vif = pd.read_csv(\"D:/Sakshi/DSBA_6156_SERJ/ignore/final/single_num_VIF_data_results.csv\")"
   ]
  },
  {
   "cell_type": "code",
   "execution_count": 15,
   "metadata": {},
   "outputs": [
    {
     "name": "stdout",
     "output_type": "stream",
     "text": [
      "The remaining columns of the data after dropping columns with high VIF : 142\n"
     ]
    }
   ],
   "source": [
    "# Plainly drop all the columns with higher VIF values\n",
    "df_processed.drop(columns = df_vif[df_vif['VIF']> 10]['feature'].to_list(), inplace=True)\n",
    "print(f'The remaining columns of the data after dropping columns with high VIF : {df_processed.shape[1]}')"
   ]
  },
  {
   "cell_type": "code",
   "execution_count": 16,
   "metadata": {},
   "outputs": [],
   "source": [
    "X, y = df_processed.drop(columns=['target','customer_id','s_2']), df_processed['target']\n",
    "X_train, X_test, y_train, y_test = train_test_split(X, y,\n",
    "                                                    test_size=0.2, random_state=2303, stratify = y)                                               "
   ]
  },
  {
   "cell_type": "code",
   "execution_count": 17,
   "metadata": {},
   "outputs": [
    {
     "name": "stdout",
     "output_type": "stream",
     "text": [
      "Optimization terminated successfully.\n",
      "         Current function value: 0.237577\n",
      "         Iterations 9\n",
      "                           Logit Regression Results                           \n",
      "==============================================================================\n",
      "Dep. Variable:                 target   No. Observations:               367130\n",
      "Model:                          Logit   Df Residuals:                   366991\n",
      "Method:                           MLE   Df Model:                          138\n",
      "Date:                Tue, 13 Dec 2022   Pseudo R-squ.:                  0.5846\n",
      "Time:                        22:48:04   Log-Likelihood:                -87222.\n",
      "converged:                       True   LL-Null:                   -2.0998e+05\n",
      "Covariance Type:            nonrobust   LLR p-value:                     0.000\n",
      "==============================================================================\n",
      "                 coef    std err          z      P>|z|      [0.025      0.975]\n",
      "------------------------------------------------------------------------------\n",
      "p_2           -0.8610      0.015    -58.051      0.000      -0.890      -0.832\n",
      "d_39           0.3579      0.010     37.128      0.000       0.339       0.377\n",
      "s_3            0.1291      0.013      9.738      0.000       0.103       0.155\n",
      "d_41           0.1920      0.013     14.347      0.000       0.166       0.218\n",
      "b_3            0.3228      0.010     31.557      0.000       0.303       0.343\n",
      "d_43           0.1075      0.009     12.213      0.000       0.090       0.125\n",
      "d_44           0.0507      0.009      5.493      0.000       0.033       0.069\n",
      "b_4            0.4211      0.009     47.780      0.000       0.404       0.438\n",
      "d_45          -0.0874      0.014     -6.249      0.000      -0.115      -0.060\n",
      "b_5           -0.2061      0.018    -11.281      0.000      -0.242      -0.170\n",
      "r_2            0.0860      0.015      5.883      0.000       0.057       0.115\n",
      "d_46           0.1428      0.007     19.336      0.000       0.128       0.157\n",
      "d_47          -0.1712      0.011    -15.559      0.000      -0.193      -0.150\n",
      "d_48           0.1815      0.015     12.437      0.000       0.153       0.210\n",
      "d_49           0.0730      0.008      8.711      0.000       0.057       0.089\n",
      "b_6           -0.1100      0.022     -5.009      0.000      -0.153      -0.067\n",
      "b_8            0.1619      0.011     14.830      0.000       0.140       0.183\n",
      "d_51          -0.2380      0.014    -16.539      0.000      -0.266      -0.210\n",
      "b_9            0.1754      0.009     20.413      0.000       0.159       0.192\n",
      "r_3            0.1697      0.008     20.242      0.000       0.153       0.186\n",
      "d_52          -0.0255      0.008     -3.322      0.001      -0.041      -0.010\n",
      "p_3           -0.0083      0.008     -1.053      0.292      -0.024       0.007\n",
      "b_10          -0.0444      0.022     -2.000      0.045      -0.088      -0.001\n",
      "s_5            0.0391      0.007      5.750      0.000       0.026       0.052\n",
      "s_6            0.0540      0.009      6.236      0.000       0.037       0.071\n",
      "d_54          -0.0856      0.009    -10.013      0.000      -0.102      -0.069\n",
      "r_4            0.1686      0.014     12.230      0.000       0.142       0.196\n",
      "s_7            0.0580      0.013      4.300      0.000       0.032       0.084\n",
      "b_12          -0.0895      0.025     -3.607      0.000      -0.138      -0.041\n",
      "s_8           -0.0971      0.014     -6.808      0.000      -0.125      -0.069\n",
      "d_55          -0.0906      0.014     -6.322      0.000      -0.119      -0.063\n",
      "b_13           0.0886      0.014      6.494      0.000       0.062       0.115\n",
      "d_59           0.0199      0.007      2.696      0.007       0.005       0.034\n",
      "d_60           0.1450      0.010     14.753      0.000       0.126       0.164\n",
      "d_61           0.0674      0.012      5.451      0.000       0.043       0.092\n",
      "s_11          -0.0971      0.007    -13.168      0.000      -0.112      -0.083\n",
      "d_62          -0.2168      0.014    -15.351      0.000      -0.245      -0.189\n",
      "d_63          -0.0565      0.007     -7.560      0.000      -0.071      -0.042\n",
      "d_64           0.0116      0.006      2.056      0.040       0.001       0.023\n",
      "d_65           0.1219      0.015      8.226      0.000       0.093       0.151\n",
      "b_16           0.1958      0.016     12.539      0.000       0.165       0.226\n",
      "b_19           0.0976      0.010     10.127      0.000       0.079       0.116\n",
      "d_66          -0.1794      0.011    -16.681      0.000      -0.200      -0.158\n",
      "b_20          -0.1703      0.014    -12.561      0.000      -0.197      -0.144\n",
      "d_68          -0.0530      0.006     -8.689      0.000      -0.065      -0.041\n",
      "s_12           0.0448      0.006      7.886      0.000       0.034       0.056\n",
      "r_6            0.0095      0.010      0.970      0.332      -0.010       0.029\n",
      "s_13           0.0222      0.011      1.954      0.051    -6.4e-05       0.044\n",
      "b_21           0.0412      0.011      3.834      0.000       0.020       0.062\n",
      "d_69           0.0179      0.006      2.829      0.005       0.005       0.030\n",
      "b_22           0.0544      0.009      5.835      0.000       0.036       0.073\n",
      "d_70           0.0611      0.006      9.545      0.000       0.049       0.074\n",
      "d_71          -0.1786      0.032     -5.576      0.000      -0.241      -0.116\n",
      "d_72           0.0075      0.009      0.830      0.407      -0.010       0.025\n",
      "s_15           0.0142      0.010      1.467      0.142      -0.005       0.033\n",
      "p_4            0.0795      0.008     10.306      0.000       0.064       0.095\n",
      "b_24           0.0033      0.012      0.289      0.772      -0.019       0.026\n",
      "r_7            0.0017      0.008      0.200      0.842      -0.015       0.018\n",
      "b_26           0.0136      0.007      1.915      0.056      -0.000       0.027\n",
      "d_78          -0.0083      0.009     -0.972      0.331      -0.025       0.008\n",
      "d_79           0.0081      0.011      0.748      0.455      -0.013       0.029\n",
      "r_9            0.0079      0.006      1.378      0.168      -0.003       0.019\n",
      "s_16           0.0005      0.008      0.065      0.948      -0.015       0.016\n",
      "d_80           0.0347      0.007      5.233      0.000       0.022       0.048\n",
      "r_10           0.1021      0.008     13.192      0.000       0.087       0.117\n",
      "r_11           0.0796      0.005     14.485      0.000       0.069       0.090\n",
      "b_27          -0.0014      0.007     -0.194      0.846      -0.016       0.013\n",
      "d_81           0.0241      0.010      2.330      0.020       0.004       0.044\n",
      "d_82           0.0812      0.010      8.462      0.000       0.062       0.100\n",
      "s_17           0.0141      0.005      2.623      0.009       0.004       0.025\n",
      "r_12          -0.0117      0.008     -1.461      0.144      -0.027       0.004\n",
      "d_83           0.0143      0.006      2.571      0.010       0.003       0.025\n",
      "r_14           0.0296      0.009      3.218      0.001       0.012       0.048\n",
      "r_15           0.0172      0.007      2.391      0.017       0.003       0.031\n",
      "d_84           0.0154      0.017      0.915      0.360      -0.018       0.048\n",
      "r_16          -0.0260      0.007     -3.695      0.000      -0.040      -0.012\n",
      "b_30           0.0700      0.021      3.315      0.001       0.029       0.111\n",
      "s_18          -0.0059      0.007     -0.890      0.373      -0.019       0.007\n",
      "d_86          -0.0526      0.009     -5.964      0.000      -0.070      -0.035\n",
      "d_87          -0.0088      0.009     -1.034      0.301      -0.025       0.008\n",
      "r_18           0.0008      0.008      0.105      0.917      -0.015       0.016\n",
      "b_31          -1.9244      0.049    -39.296      0.000      -2.020      -1.828\n",
      "s_19           0.0095      0.006      1.582      0.114      -0.002       0.021\n",
      "r_19          -0.0268      0.005     -5.114      0.000      -0.037      -0.017\n",
      "b_32          -0.0123      0.005     -2.325      0.020      -0.023      -0.002\n",
      "s_20           0.0074      0.008      0.920      0.358      -0.008       0.023\n",
      "r_20          -0.0257      0.013     -1.948      0.051      -0.052       0.000\n",
      "r_21           0.0766      0.009      8.939      0.000       0.060       0.093\n",
      "d_89          -0.0084      0.013     -0.636      0.525      -0.034       0.017\n",
      "r_22          -0.0019      0.005     -0.400      0.689      -0.011       0.007\n",
      "r_23           0.0037      0.005      0.732      0.464      -0.006       0.014\n",
      "d_91          -0.0718      0.011     -6.716      0.000      -0.093      -0.051\n",
      "d_92          -0.0474      0.016     -2.887      0.004      -0.080      -0.015\n",
      "d_93           0.0148      0.009      1.667      0.095      -0.003       0.032\n",
      "d_94           0.0302      0.019      1.569      0.117      -0.008       0.068\n",
      "r_24           0.0193      0.011      1.699      0.089      -0.003       0.042\n",
      "r_25          -0.0286      0.008     -3.404      0.001      -0.045      -0.012\n",
      "d_96          -0.0273      0.009     -3.124      0.002      -0.044      -0.010\n",
      "s_23           0.0666      0.013      5.201      0.000       0.042       0.092\n",
      "s_25          -0.0221      0.005     -4.070      0.000      -0.033      -0.011\n",
      "s_26           0.0078      0.015      0.528      0.597      -0.021       0.037\n",
      "d_102         -0.0394      0.008     -5.076      0.000      -0.055      -0.024\n",
      "d_106         -0.0286      0.006     -4.689      0.000      -0.040      -0.017\n",
      "d_107          0.0244      0.008      3.202      0.001       0.009       0.039\n",
      "b_36           0.0173      0.009      1.922      0.055      -0.000       0.035\n",
      "r_26           0.0066      0.008      0.867      0.386      -0.008       0.022\n",
      "r_27          -0.0693      0.006    -11.203      0.000      -0.081      -0.057\n",
      "b_38           0.0017      0.005      0.313      0.755      -0.009       0.012\n",
      "d_108          0.0189      0.005      3.706      0.000       0.009       0.029\n",
      "d_109         -0.0131      0.012     -1.087      0.277      -0.037       0.011\n",
      "d_111          0.0557      0.009      6.139      0.000       0.038       0.073\n",
      "d_112         -0.1645      0.008    -20.449      0.000      -0.180      -0.149\n",
      "b_40           0.0194      0.015      1.324      0.186      -0.009       0.048\n",
      "s_27          -0.0090      0.005     -1.718      0.086      -0.019       0.001\n",
      "d_113         -0.0055      0.008     -0.658      0.510      -0.022       0.011\n",
      "d_114         -0.1241      0.017     -7.395      0.000      -0.157      -0.091\n",
      "d_115         -0.0475      0.011     -4.465      0.000      -0.068      -0.027\n",
      "d_116         -0.1807      0.064     -2.838      0.005      -0.306      -0.056\n",
      "d_117         -0.0187      0.003     -6.115      0.000      -0.025      -0.013\n",
      "d_120          0.2010      0.017     11.549      0.000       0.167       0.235\n",
      "d_121          0.1701      0.012     14.784      0.000       0.148       0.193\n",
      "d_122         -0.0213      0.009     -2.290      0.022      -0.039      -0.003\n",
      "d_123          0.0151      0.008      1.890      0.059      -0.001       0.031\n",
      "d_124          0.0285      0.008      3.501      0.000       0.013       0.044\n",
      "d_125         -0.0094      0.008     -1.132      0.258      -0.026       0.007\n",
      "d_126         -0.0179      0.017     -1.066      0.286      -0.051       0.015\n",
      "d_127         -0.1330      0.018     -7.529      0.000      -0.168      -0.098\n",
      "d_128         -0.0246      0.011     -2.302      0.021      -0.046      -0.004\n",
      "d_129         -0.1103      0.011    -10.468      0.000      -0.131      -0.090\n",
      "b_41           0.0438      0.007      5.875      0.000       0.029       0.058\n",
      "d_130          0.0087      0.008      1.087      0.277      -0.007       0.024\n",
      "d_131          0.2016      0.013     16.110      0.000       0.177       0.226\n",
      "d_133         -0.1266      0.007    -16.881      0.000      -0.141      -0.112\n",
      "r_28           0.0046      0.004      1.068      0.286      -0.004       0.013\n",
      "d_136         -0.0254      0.008     -3.333      0.001      -0.040      -0.010\n",
      "d_138          0.0564      0.008      7.293      0.000       0.041       0.071\n",
      "d_140          0.0379      0.005      7.471      0.000       0.028       0.048\n",
      "d_144         -0.0294      0.006     -4.726      0.000      -0.042      -0.017\n",
      "d_145         -0.0188      0.005     -3.492      0.000      -0.029      -0.008\n",
      "==============================================================================\n"
     ]
    }
   ],
   "source": [
    "# Model\n",
    "sm_logit1 = sm.Logit(y_train,X_train).fit()\n",
    "print(sm_logit1.summary())"
   ]
  },
  {
   "cell_type": "code",
   "execution_count": 18,
   "metadata": {},
   "outputs": [
    {
     "name": "stdout",
     "output_type": "stream",
     "text": [
      "The columns remaining after removing insignificant ones : (458913, 99)\n",
      "Optimization terminated successfully.\n",
      "         Current function value: 0.237659\n",
      "         Iterations 9\n",
      "                           Logit Regression Results                           \n",
      "==============================================================================\n",
      "Dep. Variable:                 target   No. Observations:               367130\n",
      "Model:                          Logit   Df Residuals:                   367031\n",
      "Method:                           MLE   Df Model:                           98\n",
      "Date:                Tue, 13 Dec 2022   Pseudo R-squ.:                  0.5845\n",
      "Time:                        22:48:14   Log-Likelihood:                -87252.\n",
      "converged:                       True   LL-Null:                   -2.0998e+05\n",
      "Covariance Type:            nonrobust   LLR p-value:                     0.000\n",
      "==============================================================================\n",
      "                 coef    std err          z      P>|z|      [0.025      0.975]\n",
      "------------------------------------------------------------------------------\n",
      "p_2           -0.8763      0.014    -64.875      0.000      -0.903      -0.850\n",
      "d_39           0.3560      0.010     37.223      0.000       0.337       0.375\n",
      "s_3            0.1310      0.013     10.132      0.000       0.106       0.156\n",
      "d_41           0.1905      0.013     14.329      0.000       0.164       0.217\n",
      "b_3            0.3228      0.010     31.733      0.000       0.303       0.343\n",
      "d_43           0.1078      0.009     12.280      0.000       0.091       0.125\n",
      "d_44           0.0467      0.009      5.236      0.000       0.029       0.064\n",
      "b_4            0.4230      0.009     48.627      0.000       0.406       0.440\n",
      "d_45          -0.0887      0.014     -6.358      0.000      -0.116      -0.061\n",
      "b_5           -0.2038      0.018    -11.384      0.000      -0.239      -0.169\n",
      "r_2            0.0994      0.011      9.184      0.000       0.078       0.121\n",
      "d_46           0.1441      0.007     20.273      0.000       0.130       0.158\n",
      "d_47          -0.1694      0.011    -15.453      0.000      -0.191      -0.148\n",
      "d_48           0.1836      0.015     12.658      0.000       0.155       0.212\n",
      "d_49           0.0754      0.008      9.530      0.000       0.060       0.091\n",
      "b_6           -0.1111      0.022     -5.046      0.000      -0.154      -0.068\n",
      "b_8            0.1602      0.011     14.719      0.000       0.139       0.182\n",
      "d_51          -0.2333      0.014    -16.638      0.000      -0.261      -0.206\n",
      "b_9            0.1761      0.009     20.687      0.000       0.159       0.193\n",
      "r_3            0.1700      0.008     20.310      0.000       0.154       0.186\n",
      "d_52          -0.0240      0.008     -3.191      0.001      -0.039      -0.009\n",
      "b_10          -0.0445      0.022     -2.004      0.045      -0.088      -0.001\n",
      "s_5            0.0398      0.006      6.152      0.000       0.027       0.052\n",
      "s_6            0.0514      0.009      5.987      0.000       0.035       0.068\n",
      "d_54          -0.0832      0.009     -9.778      0.000      -0.100      -0.067\n",
      "r_4            0.1651      0.011     14.374      0.000       0.143       0.188\n",
      "s_7            0.0597      0.013      4.466      0.000       0.034       0.086\n",
      "b_12          -0.0766      0.023     -3.332      0.001      -0.122      -0.032\n",
      "s_8           -0.1009      0.009    -11.261      0.000      -0.118      -0.083\n",
      "d_55          -0.0935      0.014     -6.606      0.000      -0.121      -0.066\n",
      "b_13           0.0871      0.014      6.414      0.000       0.060       0.114\n",
      "d_59           0.0193      0.007      2.626      0.009       0.005       0.034\n",
      "d_60           0.1491      0.010     15.683      0.000       0.130       0.168\n",
      "d_61           0.0681      0.012      5.516      0.000       0.044       0.092\n",
      "s_11          -0.0938      0.007    -13.311      0.000      -0.108      -0.080\n",
      "d_62          -0.2169      0.014    -15.418      0.000      -0.244      -0.189\n",
      "d_63          -0.0559      0.007     -7.509      0.000      -0.071      -0.041\n",
      "d_64           0.0114      0.006      2.049      0.040       0.000       0.022\n",
      "d_65           0.1311      0.014      9.285      0.000       0.103       0.159\n",
      "b_16           0.1974      0.015     12.989      0.000       0.168       0.227\n",
      "b_19           0.0964      0.009     10.568      0.000       0.079       0.114\n",
      "d_66          -0.1801      0.011    -16.775      0.000      -0.201      -0.159\n",
      "b_20          -0.1708      0.014    -12.639      0.000      -0.197      -0.144\n",
      "d_68          -0.0514      0.005     -9.588      0.000      -0.062      -0.041\n",
      "s_12           0.0465      0.006      8.238      0.000       0.035       0.058\n",
      "b_21           0.0434      0.010      4.455      0.000       0.024       0.062\n",
      "d_69           0.0185      0.006      2.943      0.003       0.006       0.031\n",
      "b_22           0.0548      0.009      5.909      0.000       0.037       0.073\n",
      "d_70           0.0610      0.006      9.550      0.000       0.048       0.073\n",
      "d_71          -0.1495      0.025     -5.886      0.000      -0.199      -0.100\n",
      "p_4            0.0784      0.008     10.238      0.000       0.063       0.093\n",
      "d_80           0.0348      0.007      5.271      0.000       0.022       0.048\n",
      "r_10           0.1002      0.008     13.307      0.000       0.085       0.115\n",
      "r_11           0.0798      0.005     14.545      0.000       0.069       0.091\n",
      "d_81           0.0283      0.008      3.341      0.001       0.012       0.045\n",
      "d_82           0.0831      0.009      8.817      0.000       0.065       0.102\n",
      "s_17           0.0144      0.005      2.689      0.007       0.004       0.025\n",
      "d_83           0.0150      0.006      2.722      0.006       0.004       0.026\n",
      "r_14           0.0346      0.008      4.183      0.000       0.018       0.051\n",
      "r_15           0.0176      0.007      2.535      0.011       0.004       0.031\n",
      "r_16          -0.0261      0.007     -3.717      0.000      -0.040      -0.012\n",
      "b_30           0.0657      0.021      3.126      0.002       0.025       0.107\n",
      "d_86          -0.0511      0.009     -5.816      0.000      -0.068      -0.034\n",
      "b_31          -1.9581      0.038    -51.779      0.000      -2.032      -1.884\n",
      "r_19          -0.0264      0.005     -5.045      0.000      -0.037      -0.016\n",
      "b_32          -0.0122      0.005     -2.334      0.020      -0.022      -0.002\n",
      "r_21           0.0821      0.007     12.484      0.000       0.069       0.095\n",
      "d_91          -0.0730      0.011     -6.891      0.000      -0.094      -0.052\n",
      "d_92          -0.0475      0.016     -2.913      0.004      -0.079      -0.016\n",
      "r_25          -0.0241      0.007     -3.604      0.000      -0.037      -0.011\n",
      "d_96          -0.0246      0.009     -2.843      0.004      -0.042      -0.008\n",
      "s_23           0.0670      0.013      5.245      0.000       0.042       0.092\n",
      "s_25          -0.0217      0.005     -4.014      0.000      -0.032      -0.011\n",
      "d_102         -0.0386      0.008     -4.987      0.000      -0.054      -0.023\n",
      "d_106         -0.0294      0.006     -4.946      0.000      -0.041      -0.018\n",
      "d_107          0.0246      0.008      3.248      0.001       0.010       0.039\n",
      "r_27          -0.0722      0.006    -12.928      0.000      -0.083      -0.061\n",
      "d_108          0.0191      0.005      3.736      0.000       0.009       0.029\n",
      "d_111          0.0706      0.005     14.708      0.000       0.061       0.080\n",
      "d_112         -0.1641      0.008    -20.451      0.000      -0.180      -0.148\n",
      "d_114         -0.1258      0.017     -7.547      0.000      -0.158      -0.093\n",
      "d_115         -0.0456      0.011     -4.313      0.000      -0.066      -0.025\n",
      "d_116         -0.1696      0.059     -2.866      0.004      -0.286      -0.054\n",
      "d_117         -0.0189      0.003     -6.338      0.000      -0.025      -0.013\n",
      "d_120          0.1990      0.017     11.518      0.000       0.165       0.233\n",
      "d_121          0.1692      0.011     15.554      0.000       0.148       0.191\n",
      "d_122         -0.0226      0.009     -2.456      0.014      -0.041      -0.005\n",
      "d_124          0.0275      0.008      3.517      0.000       0.012       0.043\n",
      "d_127         -0.1324      0.018     -7.498      0.000      -0.167      -0.098\n",
      "d_128         -0.0241      0.011     -2.278      0.023      -0.045      -0.003\n",
      "d_129         -0.1079      0.010    -10.366      0.000      -0.128      -0.088\n",
      "b_41           0.0501      0.007      7.521      0.000       0.037       0.063\n",
      "d_131          0.2120      0.009     23.022      0.000       0.194       0.230\n",
      "d_133         -0.1257      0.007    -16.884      0.000      -0.140      -0.111\n",
      "d_136         -0.0252      0.008     -3.315      0.001      -0.040      -0.010\n",
      "d_138          0.0565      0.008      7.322      0.000       0.041       0.072\n",
      "d_140          0.0377      0.005      7.446      0.000       0.028       0.048\n",
      "d_144         -0.0292      0.006     -4.686      0.000      -0.041      -0.017\n",
      "d_145         -0.0189      0.005     -3.522      0.000      -0.029      -0.008\n",
      "==============================================================================\n"
     ]
    }
   ],
   "source": [
    "del(df_processed)\n",
    "# Remove the insignificant features and train the model again. I will keep the alpha level as 0.05\n",
    "logit_pvalues = round(sm_logit1.pvalues,3)\n",
    "high_pval_col = logit_pvalues.index[logit_pvalues > 0.05]\n",
    "\n",
    "# Drop these columns\n",
    "X = X.drop(columns = high_pval_col)\n",
    "print(f'The columns remaining after removing insignificant ones : {X.shape}')\n",
    "X_train, X_test,y_train, y_test= train_test_split(X, y, test_size=0.2,\n",
    "                                                     random_state=2303, stratify = y)\n",
    "\n",
    "# Model\n",
    "sm_logit2 = sm.Logit(y_train,X_train).fit()\n",
    "print(sm_logit2.summary())"
   ]
  },
  {
   "cell_type": "code",
   "execution_count": 19,
   "metadata": {},
   "outputs": [
    {
     "data": {
      "text/plain": [
       "array([[63811,  4206],\n",
       "       [ 5359, 18407]], dtype=int64)"
      ]
     },
     "execution_count": 19,
     "metadata": {},
     "output_type": "execute_result"
    }
   ],
   "source": [
    "# Calculate the confusion matrix\n",
    "prediction_probab = sm_logit2.predict(X_test)\n",
    "prediction = list(map(round,prediction_probab))\n",
    "confusion_matrix(y_test,prediction)"
   ]
  },
  {
   "cell_type": "code",
   "execution_count": 20,
   "metadata": {},
   "outputs": [
    {
     "name": "stdout",
     "output_type": "stream",
     "text": [
      "Validation accuracy is: 0.8957868014773978\n",
      "Logistic : ROC AUC = 0.956\n"
     ]
    },
    {
     "data": {
      "image/png": "[encoded data removed]",
      "text/plain": [
       "<Figure size 640x480 with 1 Axes>"
      ]
     },
     "metadata": {},
     "output_type": "display_data"
    }
   ],
   "source": [
    "print(f'Validation accuracy is: {accuracy_score(y_test, prediction)}')\n",
    "\n",
    "# Calculate roc metric \n",
    "print('Logistic : ROC AUC = %.3f' % (roc_auc_score(y_test,prediction_probab)))\n",
    "\n",
    "fpr,tpr,_ = roc_curve(y_test,prediction_probab)\n",
    "plt.plot(fpr,tpr,marker = '.')\n",
    "plt.xlabel('False Positive Rate')\n",
    "plt.ylabel('True Positive Rate')\n",
    "plt.show()"
   ]
  },
  {
   "cell_type": "code",
   "execution_count": 21,
   "metadata": {},
   "outputs": [],
   "source": [
    "# Clear the memory before loading the test data to predict\n",
    "del(fpr,tpr,X_test,X_train,y_test,y_train,X,y,prediction,prediction_probab)"
   ]
  },
  {
   "cell_type": "code",
   "execution_count": 22,
   "metadata": {},
   "outputs": [],
   "source": [
    "def execute_model(df):\n",
    "    # Just add extra columns with 0 value so that pipeline does not\n",
    "    # fail --> these are the extra columns that we had in the training data\n",
    "    extra_cols = ['target']\n",
    "    print(df.shape)\n",
    "    # Concatenate the dataframe of extra columns with the dataframe of the test data\n",
    "    df['target'] = np.zeros((df.shape[0], 1))\n",
    "    print(df.shape)\n",
    "\n",
    "    # Use the pipeline to transform\n",
    "    X = pipeline.transform(df)\n",
    "    print(X.shape)\n",
    "    s = X.isnull().values.any()\n",
    "    print(s)\n",
    "    # Drop target & the insignificant variables found during the training using statsmodel p-value\n",
    "    X.drop(columns=['target','customer_id','s_2'] + df_vif[df_vif['VIF']> 10]['feature'].to_list()\n",
    "                    + high_pval_col.tolist(), inplace=True)\n",
    "\n",
    "    # return log_reg.predict(X), log_reg.predict_proba(X)\n",
    "    # In the statsmodel predict will give the probability\n",
    "    return list(map(round,sm_logit2.predict(X))), sm_logit2.predict(X).tolist()\n",
    "    "
   ]
  },
  {
   "cell_type": "code",
   "execution_count": 23,
   "metadata": {},
   "outputs": [],
   "source": [
    "del(sm_logit1)\n",
    "df_test = pd.read_parquet('D:/Sakshi/DSBA_6156_SERJ/data/test.parquet')\n",
    "df_test.columns= df_test.columns.str.lower()\n",
    "df_test['last_statement_flag'] = (df_test.groupby('customer_id')['s_2']\n",
    "                      .rank(method='dense', ascending=False)\n",
    "                      .astype(np.int8)\n",
    "                   )\n",
    "df_test = df_test[df_test['last_statement_flag']== 1].copy()\n",
    "df_test.drop(columns='last_statement_flag', inplace=True)"
   ]
  },
  {
   "cell_type": "code",
   "execution_count": 24,
   "metadata": {},
   "outputs": [
    {
     "data": {
      "text/plain": [
       "(924621, 190)"
      ]
     },
     "execution_count": 24,
     "metadata": {},
     "output_type": "execute_result"
    }
   ],
   "source": [
    "df_test.shape"
   ]
  },
  {
   "cell_type": "code",
   "execution_count": 25,
   "metadata": {},
   "outputs": [
    {
     "name": "stdout",
     "output_type": "stream",
     "text": [
      "(924621, 190)\n",
      "(924621, 191)\n",
      "(924621, 173)\n",
      "False\n"
     ]
    }
   ],
   "source": [
    "# Define the result mdf\n",
    "mdf = pd.DataFrame(columns=['customer_id', 's_2', 'pred', 'proba'])\n",
    "y, y_proba = execute_model(df_test)\n",
    "\n",
    "mdf = pd.concat([\n",
    "    mdf,\n",
    "    pd.DataFrame({\n",
    "        'customer_id': df_test['customer_id'].values,\n",
    "        's_2': df_test['s_2'].values,\n",
    "        'pred': y,\n",
    "        'proba': y_proba\n",
    "    })\n",
    "]) \n",
    "# mdf.to_csv('../ignore/final/logisticregression_baseline_prediction.csv', index=False)"
   ]
  },
  {
   "cell_type": "code",
   "execution_count": 26,
   "metadata": {},
   "outputs": [
    {
     "data": {
      "text/plain": [
       "dtype('<M8[ns]')"
      ]
     },
     "execution_count": 26,
     "metadata": {},
     "output_type": "execute_result"
    }
   ],
   "source": [
    "mdf['s_2'] = pd.to_datetime(mdf['s_2'])\n",
    "mdf['s_2'].dtype"
   ]
  },
  {
   "cell_type": "code",
   "execution_count": 27,
   "metadata": {},
   "outputs": [],
   "source": [
    "# Get the last statement probability of each of the customer\n",
    "# df_result_last = mdf.sort_values(by = 's_2').groupby('customer_id')[['customer_id','proba']].tail(1)\n",
    "mdf.rename(columns= {'proba' : 'prediction'},inplace=True)\n",
    "mdf.to_csv('D:/Sakshi/DSBA_6156_SERJ/ignore/ppt_analysis/logistic_baseline2_sub.csv', index=False)"
   ]
  }
 ],
 "metadata": {
  "kernelspec": {
   "display_name": "Python 3.10.4 ('venv': venv)",
   "language": "python",
   "name": "python3"
  },
  "language_info": {
   "codemirror_mode": {
    "name": "ipython",
    "version": 3
   },
   "file_extension": ".py",
   "mimetype": "text/x-python",
   "name": "python",
   "nbconvert_exporter": "python",
   "pygments_lexer": "ipython3",
   "version": "3.10.4"
  },
  "orig_nbformat": 4,
  "vscode": {
   "interpreter": {
    "hash": "89a73c21ecc9236fdbb84984cd9e615404f96fb7d0e8948f841b3ff5dee670ca"
   }
  }
 },
 "nbformat": 4,
 "nbformat_minor": 2
}

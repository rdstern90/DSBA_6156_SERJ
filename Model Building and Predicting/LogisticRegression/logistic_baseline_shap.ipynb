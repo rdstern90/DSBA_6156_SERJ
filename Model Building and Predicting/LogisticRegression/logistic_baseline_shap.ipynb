{
 "cells": [
  {
   "cell_type": "markdown",
   "metadata": {},
   "source": [
    "# If the customer has default assigning all statements the value 1"
   ]
  },
  {
   "cell_type": "code",
   "execution_count": 1,
   "metadata": {},
   "outputs": [],
   "source": [
    "import pandas as pd\n",
    "import numpy as np\n",
    "from sklearn.base import BaseEstimator, TransformerMixin\n",
    "from sklearn.impute import SimpleImputer\n",
    "from sklearn.pipeline import Pipeline\n",
    "from sklearn.preprocessing import OneHotEncoder\n",
    "from sklearn.preprocessing import StandardScaler\n",
    "from sklearn.compose import ColumnTransformer\n",
    "from sklearn.model_selection import train_test_split\n",
    "import statsmodels.api as sm\n",
    "from sklearn.linear_model import LogisticRegression\n",
    "from sklearn.metrics import classification_report,confusion_matrix,roc_curve,roc_auc_score, accuracy_score\n",
    "import matplotlib.pyplot as plt"
   ]
  },
  {
   "cell_type": "code",
   "execution_count": 2,
   "metadata": {},
   "outputs": [],
   "source": [
    "# Read training data \n",
    "df_train_x = pd.read_parquet('../data/train.parquet')\n",
    "df_train_x.columns = df_train_x.columns.str.lower()\n",
    "# Read training data labels\n",
    "df_train_y = pd.read_csv('../data/train_labels.csv')\n",
    "df_train_y.columns = df_train_y.columns.str.lower()\n",
    "df_train_y = df_train_y.set_index('customer_id')\n",
    "\n",
    "df_train_x = df_train_x.sort_values(['customer_id', 's_2'])\n",
    "df_train = pd.merge(df_train_x, df_train_y, on='customer_id')\n",
    "del (df_train_x)"
   ]
  },
  {
   "cell_type": "code",
   "execution_count": 3,
   "metadata": {},
   "outputs": [
    {
     "data": {
      "text/html": [
       "<div>\n",
       "<style scoped>\n",
       "    .dataframe tbody tr th:only-of-type {\n",
       "        vertical-align: middle;\n",
       "    }\n",
       "\n",
       "    .dataframe tbody tr th {\n",
       "        vertical-align: top;\n",
       "    }\n",
       "\n",
       "    .dataframe thead th {\n",
       "        text-align: right;\n",
       "    }\n",
       "</style>\n",
       "<table border=\"1\" class=\"dataframe\">\n",
       "  <thead>\n",
       "    <tr style=\"text-align: right;\">\n",
       "      <th></th>\n",
       "      <th>customer_id</th>\n",
       "      <th>s_2</th>\n",
       "      <th>target</th>\n",
       "    </tr>\n",
       "  </thead>\n",
       "  <tbody>\n",
       "    <tr>\n",
       "      <th>104</th>\n",
       "      <td>0000f99513770170a1aba690daeeb8a96da4a39f11fc27...</td>\n",
       "      <td>2017-03-15</td>\n",
       "      <td>1</td>\n",
       "    </tr>\n",
       "    <tr>\n",
       "      <th>105</th>\n",
       "      <td>0000f99513770170a1aba690daeeb8a96da4a39f11fc27...</td>\n",
       "      <td>2017-04-14</td>\n",
       "      <td>1</td>\n",
       "    </tr>\n",
       "    <tr>\n",
       "      <th>106</th>\n",
       "      <td>0000f99513770170a1aba690daeeb8a96da4a39f11fc27...</td>\n",
       "      <td>2017-05-15</td>\n",
       "      <td>1</td>\n",
       "    </tr>\n",
       "    <tr>\n",
       "      <th>107</th>\n",
       "      <td>0000f99513770170a1aba690daeeb8a96da4a39f11fc27...</td>\n",
       "      <td>2017-06-14</td>\n",
       "      <td>1</td>\n",
       "    </tr>\n",
       "    <tr>\n",
       "      <th>108</th>\n",
       "      <td>0000f99513770170a1aba690daeeb8a96da4a39f11fc27...</td>\n",
       "      <td>2017-07-15</td>\n",
       "      <td>1</td>\n",
       "    </tr>\n",
       "    <tr>\n",
       "      <th>109</th>\n",
       "      <td>0000f99513770170a1aba690daeeb8a96da4a39f11fc27...</td>\n",
       "      <td>2017-08-15</td>\n",
       "      <td>1</td>\n",
       "    </tr>\n",
       "    <tr>\n",
       "      <th>110</th>\n",
       "      <td>0000f99513770170a1aba690daeeb8a96da4a39f11fc27...</td>\n",
       "      <td>2017-09-14</td>\n",
       "      <td>1</td>\n",
       "    </tr>\n",
       "    <tr>\n",
       "      <th>111</th>\n",
       "      <td>0000f99513770170a1aba690daeeb8a96da4a39f11fc27...</td>\n",
       "      <td>2017-10-14</td>\n",
       "      <td>1</td>\n",
       "    </tr>\n",
       "    <tr>\n",
       "      <th>112</th>\n",
       "      <td>0000f99513770170a1aba690daeeb8a96da4a39f11fc27...</td>\n",
       "      <td>2017-11-14</td>\n",
       "      <td>1</td>\n",
       "    </tr>\n",
       "    <tr>\n",
       "      <th>113</th>\n",
       "      <td>0000f99513770170a1aba690daeeb8a96da4a39f11fc27...</td>\n",
       "      <td>2017-12-17</td>\n",
       "      <td>1</td>\n",
       "    </tr>\n",
       "    <tr>\n",
       "      <th>114</th>\n",
       "      <td>0000f99513770170a1aba690daeeb8a96da4a39f11fc27...</td>\n",
       "      <td>2018-01-17</td>\n",
       "      <td>1</td>\n",
       "    </tr>\n",
       "    <tr>\n",
       "      <th>115</th>\n",
       "      <td>0000f99513770170a1aba690daeeb8a96da4a39f11fc27...</td>\n",
       "      <td>2018-02-05</td>\n",
       "      <td>1</td>\n",
       "    </tr>\n",
       "    <tr>\n",
       "      <th>116</th>\n",
       "      <td>0000f99513770170a1aba690daeeb8a96da4a39f11fc27...</td>\n",
       "      <td>2018-03-01</td>\n",
       "      <td>1</td>\n",
       "    </tr>\n",
       "  </tbody>\n",
       "</table>\n",
       "</div>"
      ],
      "text/plain": [
       "                                           customer_id         s_2  target\n",
       "104  0000f99513770170a1aba690daeeb8a96da4a39f11fc27...  2017-03-15       1\n",
       "105  0000f99513770170a1aba690daeeb8a96da4a39f11fc27...  2017-04-14       1\n",
       "106  0000f99513770170a1aba690daeeb8a96da4a39f11fc27...  2017-05-15       1\n",
       "107  0000f99513770170a1aba690daeeb8a96da4a39f11fc27...  2017-06-14       1\n",
       "108  0000f99513770170a1aba690daeeb8a96da4a39f11fc27...  2017-07-15       1\n",
       "109  0000f99513770170a1aba690daeeb8a96da4a39f11fc27...  2017-08-15       1\n",
       "110  0000f99513770170a1aba690daeeb8a96da4a39f11fc27...  2017-09-14       1\n",
       "111  0000f99513770170a1aba690daeeb8a96da4a39f11fc27...  2017-10-14       1\n",
       "112  0000f99513770170a1aba690daeeb8a96da4a39f11fc27...  2017-11-14       1\n",
       "113  0000f99513770170a1aba690daeeb8a96da4a39f11fc27...  2017-12-17       1\n",
       "114  0000f99513770170a1aba690daeeb8a96da4a39f11fc27...  2018-01-17       1\n",
       "115  0000f99513770170a1aba690daeeb8a96da4a39f11fc27...  2018-02-05       1\n",
       "116  0000f99513770170a1aba690daeeb8a96da4a39f11fc27...  2018-03-01       1"
      ]
     },
     "execution_count": 3,
     "metadata": {},
     "output_type": "execute_result"
    }
   ],
   "source": [
    "df_train[df_train['customer_id']== '0000f99513770170a1aba690daeeb8a96da4a39f11fc27da5c30a79db61c1e85'][['customer_id','s_2','target']]"
   ]
  },
  {
   "cell_type": "code",
   "execution_count": 4,
   "metadata": {},
   "outputs": [],
   "source": [
    "# Before doing any transformation see the datatypes of the features\n",
    "df_train.dtypes.to_csv('../ignore/final/before_transformations.csv')"
   ]
  },
  {
   "cell_type": "code",
   "execution_count": 5,
   "metadata": {},
   "outputs": [
    {
     "data": {
      "text/plain": [
       "d_63     0.0\n",
       "d_64     0.0\n",
       "d_66     0.0\n",
       "d_68     0.0\n",
       "b_30     0.0\n",
       "b_31     0.0\n",
       "b_38     0.0\n",
       "d_114    0.0\n",
       "d_116    0.0\n",
       "d_117    0.0\n",
       "d_120    0.0\n",
       "d_126    0.0\n",
       "dtype: float64"
      ]
     },
     "execution_count": 5,
     "metadata": {},
     "output_type": "execute_result"
    }
   ],
   "source": [
    "pipeline = Pipeline(steps=[])\n",
    "# 89% of d_66 column values were missing, but it has been filled with -1 while parquet generation.\n",
    "# Also assign the column names in sequence in which it appars in the file  \n",
    "categorical_cols = ['d_63', 'd_64', 'd_66', 'd_68', 'b_30', 'b_31', 'b_38', 'd_114', 'd_116',\n",
    "                     'd_117', 'd_120', 'd_126']\n",
    "df_train[categorical_cols].isnull().sum() / len(df_train)"
   ]
  },
  {
   "cell_type": "code",
   "execution_count": 6,
   "metadata": {},
   "outputs": [],
   "source": [
    "# Check the percentage of missing values\n",
    "null_series = df_train.isna().sum() / df_train.shape[0]\n",
    "null_series.to_csv('../ignore/final/column_null_values_prop.csv')\n",
    "del null_series"
   ]
  },
  {
   "cell_type": "code",
   "execution_count": 7,
   "metadata": {},
   "outputs": [
    {
     "name": "stdout",
     "output_type": "stream",
     "text": [
      "The unique values for column d_63 is [0 3 4 1 2 5]\n",
      "The unique values for column d_64 is [ 0  2 -1  3  1]\n",
      "The unique values for column d_66 is [-1  1  0]\n",
      "The unique values for column d_68 is [ 6  2  3 -1  5  4  0  1]\n",
      "The unique values for column b_30 is [ 0  2  1 -1]\n",
      "The unique values for column b_31 is [1 0]\n",
      "The unique values for column b_38 is [ 2  1  3  5  6  7  4 -1]\n",
      "The unique values for column d_114 is [ 1  0 -1]\n",
      "The unique values for column d_116 is [ 0 -1  1]\n",
      "The unique values for column d_117 is [ 5  0  7  3  2 -1  4  6]\n",
      "The unique values for column d_120 is [ 0  1 -1]\n",
      "The unique values for column d_126 is [ 2 -1  1  0]\n"
     ]
    }
   ],
   "source": [
    "# Check for the unique values for all the categorical features\n",
    "for i in categorical_cols:\n",
    "    print(f'The unique values for column {i} is {df_train[i].unique()}')"
   ]
  },
  {
   "cell_type": "code",
   "execution_count": 8,
   "metadata": {},
   "outputs": [
    {
     "name": "stdout",
     "output_type": "stream",
     "text": [
      "The shape of the original file is:(5531451, 191)\n"
     ]
    }
   ],
   "source": [
    "print(f'The shape of the original file is:{df_train.shape}')"
   ]
  },
  {
   "cell_type": "code",
   "execution_count": 9,
   "metadata": {},
   "outputs": [],
   "source": [
    "class PreProcessing(BaseEstimator, TransformerMixin):\n",
    "    def __init__(self, categorical_cols):\n",
    "        self.categorical_cols = categorical_cols\n",
    "\n",
    "    def fit(self, X, y=None):\n",
    "        # Get the list of columns that have missing values greater than equal to 40%\n",
    "        missing_perc = round((X.isnull().sum() / len(X)) * 100, 2)\n",
    "        # Prepare final List of columns to drop\n",
    "        self.cols_to_drop = missing_perc[missing_perc.ge(40)].index.tolist()\n",
    "\n",
    "        return self\n",
    "\n",
    "    def transform(self, X):\n",
    "        numeric_cols = list(set(X.columns.tolist(\n",
    "        )) - set(self.categorical_cols + self.cols_to_drop + ['target', 'customer_id', 's_2']))\n",
    "\n",
    "        # Impute the mean of the numeric columns\n",
    "        for col in numeric_cols:\n",
    "            # Check if the column has any null value, then only apply the imputation\n",
    "            if X[col].isnull().any():\n",
    "                X[col] = X[col].fillna(X[col].mean())\n",
    "                            \n",
    "            # Scale\n",
    "            mean = X[col].mean()\n",
    "            std = X[col].std()\n",
    "            if std > 0:\n",
    "                X[col] = ((X[col] - mean) / std).astype('float32')\n",
    "\n",
    "        X = X.drop(columns = self.cols_to_drop)\n",
    "\n",
    "        return X\n",
    "\n",
    "# use all the statements of a customer where all stmts are marked with the same target value\n",
    "preprocessing = PreProcessing(categorical_cols)\n",
    "df_processed = preprocessing.fit_transform(df_train)\n",
    "\n",
    "pipeline.steps.append(('preprocessing', preprocessing))"
   ]
  },
  {
   "cell_type": "code",
   "execution_count": 10,
   "metadata": {},
   "outputs": [
    {
     "name": "stdout",
     "output_type": "stream",
     "text": [
      "After processing the shape is :(5531451, 173)\n"
     ]
    }
   ],
   "source": [
    "del (df_train)\n",
    "print(f'After processing the shape is :{df_processed.shape}')"
   ]
  },
  {
   "cell_type": "code",
   "execution_count": 11,
   "metadata": {},
   "outputs": [],
   "source": [
    "df_vif = pd.read_csv(\"../ignore/final/num_VIF_data_results.csv\")"
   ]
  },
  {
   "cell_type": "code",
   "execution_count": 24,
   "metadata": {},
   "outputs": [
    {
     "ename": "KeyError",
     "evalue": "\"['b_1', 'b_2', 'b_7', 'b_11', 'r_5', 'd_58', 'b_14', 'b_15', 'b_23', 'd_74', 'd_75', 'b_25', 'r_8', 'b_28', 'r_13', 'r_17', 'b_33', 's_22', 's_24', 'd_103', 'd_104', 'b_37', 'd_118', 'd_119', 'd_135', 'd_137', 'd_139', 'd_141', 'd_143'] not found in axis\"",
     "output_type": "error",
     "traceback": [
      "\u001b[1;31m---------------------------------------------------------------------------\u001b[0m",
      "\u001b[1;31mKeyError\u001b[0m                                  Traceback (most recent call last)",
      "Cell \u001b[1;32mIn [24], line 2\u001b[0m\n\u001b[0;32m      1\u001b[0m \u001b[39m# Plainly drop all the columns with higher VIF values\u001b[39;00m\n\u001b[1;32m----> 2\u001b[0m df_processed\u001b[39m.\u001b[39;49mdrop(columns \u001b[39m=\u001b[39;49m df_vif[df_vif[\u001b[39m'\u001b[39;49m\u001b[39mVIF\u001b[39;49m\u001b[39m'\u001b[39;49m]\u001b[39m>\u001b[39;49m \u001b[39m11\u001b[39;49m][\u001b[39m'\u001b[39;49m\u001b[39mfeature\u001b[39;49m\u001b[39m'\u001b[39;49m]\u001b[39m.\u001b[39;49mto_list(), inplace\u001b[39m=\u001b[39;49m\u001b[39mTrue\u001b[39;49;00m)\n\u001b[0;32m      3\u001b[0m \u001b[39mprint\u001b[39m(\u001b[39mf\u001b[39m\u001b[39m'\u001b[39m\u001b[39mThe remaining columns of the data after dropping columns with high VIF : \u001b[39m\u001b[39m{\u001b[39;00mdf_processed\u001b[39m.\u001b[39mshape[\u001b[39m1\u001b[39m]\u001b[39m}\u001b[39;00m\u001b[39m'\u001b[39m)\n",
      "File \u001b[1;32md:\\Sakshi\\DSBA_6156_SERJ\\venv\\lib\\site-packages\\pandas\\util\\_decorators.py:331\u001b[0m, in \u001b[0;36mdeprecate_nonkeyword_arguments.<locals>.decorate.<locals>.wrapper\u001b[1;34m(*args, **kwargs)\u001b[0m\n\u001b[0;32m    325\u001b[0m \u001b[39mif\u001b[39;00m \u001b[39mlen\u001b[39m(args) \u001b[39m>\u001b[39m num_allow_args:\n\u001b[0;32m    326\u001b[0m     warnings\u001b[39m.\u001b[39mwarn(\n\u001b[0;32m    327\u001b[0m         msg\u001b[39m.\u001b[39mformat(arguments\u001b[39m=\u001b[39m_format_argument_list(allow_args)),\n\u001b[0;32m    328\u001b[0m         \u001b[39mFutureWarning\u001b[39;00m,\n\u001b[0;32m    329\u001b[0m         stacklevel\u001b[39m=\u001b[39mfind_stack_level(),\n\u001b[0;32m    330\u001b[0m     )\n\u001b[1;32m--> 331\u001b[0m \u001b[39mreturn\u001b[39;00m func(\u001b[39m*\u001b[39margs, \u001b[39m*\u001b[39m\u001b[39m*\u001b[39mkwargs)\n",
      "File \u001b[1;32md:\\Sakshi\\DSBA_6156_SERJ\\venv\\lib\\site-packages\\pandas\\core\\frame.py:5388\u001b[0m, in \u001b[0;36mDataFrame.drop\u001b[1;34m(self, labels, axis, index, columns, level, inplace, errors)\u001b[0m\n\u001b[0;32m   5240\u001b[0m \u001b[39m@deprecate_nonkeyword_arguments\u001b[39m(version\u001b[39m=\u001b[39m\u001b[39mNone\u001b[39;00m, allowed_args\u001b[39m=\u001b[39m[\u001b[39m\"\u001b[39m\u001b[39mself\u001b[39m\u001b[39m\"\u001b[39m, \u001b[39m\"\u001b[39m\u001b[39mlabels\u001b[39m\u001b[39m\"\u001b[39m])\n\u001b[0;32m   5241\u001b[0m \u001b[39mdef\u001b[39;00m \u001b[39mdrop\u001b[39m(  \u001b[39m# type: ignore[override]\u001b[39;00m\n\u001b[0;32m   5242\u001b[0m     \u001b[39mself\u001b[39m,\n\u001b[1;32m   (...)\u001b[0m\n\u001b[0;32m   5249\u001b[0m     errors: IgnoreRaise \u001b[39m=\u001b[39m \u001b[39m\"\u001b[39m\u001b[39mraise\u001b[39m\u001b[39m\"\u001b[39m,\n\u001b[0;32m   5250\u001b[0m ) \u001b[39m-\u001b[39m\u001b[39m>\u001b[39m DataFrame \u001b[39m|\u001b[39m \u001b[39mNone\u001b[39;00m:\n\u001b[0;32m   5251\u001b[0m     \u001b[39m\"\"\"\u001b[39;00m\n\u001b[0;32m   5252\u001b[0m \u001b[39m    Drop specified labels from rows or columns.\u001b[39;00m\n\u001b[0;32m   5253\u001b[0m \n\u001b[1;32m   (...)\u001b[0m\n\u001b[0;32m   5386\u001b[0m \u001b[39m            weight  1.0     0.8\u001b[39;00m\n\u001b[0;32m   5387\u001b[0m \u001b[39m    \"\"\"\u001b[39;00m\n\u001b[1;32m-> 5388\u001b[0m     \u001b[39mreturn\u001b[39;00m \u001b[39msuper\u001b[39;49m()\u001b[39m.\u001b[39;49mdrop(\n\u001b[0;32m   5389\u001b[0m         labels\u001b[39m=\u001b[39;49mlabels,\n\u001b[0;32m   5390\u001b[0m         axis\u001b[39m=\u001b[39;49maxis,\n\u001b[0;32m   5391\u001b[0m         index\u001b[39m=\u001b[39;49mindex,\n\u001b[0;32m   5392\u001b[0m         columns\u001b[39m=\u001b[39;49mcolumns,\n\u001b[0;32m   5393\u001b[0m         level\u001b[39m=\u001b[39;49mlevel,\n\u001b[0;32m   5394\u001b[0m         inplace\u001b[39m=\u001b[39;49minplace,\n\u001b[0;32m   5395\u001b[0m         errors\u001b[39m=\u001b[39;49merrors,\n\u001b[0;32m   5396\u001b[0m     )\n",
      "File \u001b[1;32md:\\Sakshi\\DSBA_6156_SERJ\\venv\\lib\\site-packages\\pandas\\util\\_decorators.py:331\u001b[0m, in \u001b[0;36mdeprecate_nonkeyword_arguments.<locals>.decorate.<locals>.wrapper\u001b[1;34m(*args, **kwargs)\u001b[0m\n\u001b[0;32m    325\u001b[0m \u001b[39mif\u001b[39;00m \u001b[39mlen\u001b[39m(args) \u001b[39m>\u001b[39m num_allow_args:\n\u001b[0;32m    326\u001b[0m     warnings\u001b[39m.\u001b[39mwarn(\n\u001b[0;32m    327\u001b[0m         msg\u001b[39m.\u001b[39mformat(arguments\u001b[39m=\u001b[39m_format_argument_list(allow_args)),\n\u001b[0;32m    328\u001b[0m         \u001b[39mFutureWarning\u001b[39;00m,\n\u001b[0;32m    329\u001b[0m         stacklevel\u001b[39m=\u001b[39mfind_stack_level(),\n\u001b[0;32m    330\u001b[0m     )\n\u001b[1;32m--> 331\u001b[0m \u001b[39mreturn\u001b[39;00m func(\u001b[39m*\u001b[39margs, \u001b[39m*\u001b[39m\u001b[39m*\u001b[39mkwargs)\n",
      "File \u001b[1;32md:\\Sakshi\\DSBA_6156_SERJ\\venv\\lib\\site-packages\\pandas\\core\\generic.py:4505\u001b[0m, in \u001b[0;36mNDFrame.drop\u001b[1;34m(self, labels, axis, index, columns, level, inplace, errors)\u001b[0m\n\u001b[0;32m   4503\u001b[0m \u001b[39mfor\u001b[39;00m axis, labels \u001b[39min\u001b[39;00m axes\u001b[39m.\u001b[39mitems():\n\u001b[0;32m   4504\u001b[0m     \u001b[39mif\u001b[39;00m labels \u001b[39mis\u001b[39;00m \u001b[39mnot\u001b[39;00m \u001b[39mNone\u001b[39;00m:\n\u001b[1;32m-> 4505\u001b[0m         obj \u001b[39m=\u001b[39m obj\u001b[39m.\u001b[39;49m_drop_axis(labels, axis, level\u001b[39m=\u001b[39;49mlevel, errors\u001b[39m=\u001b[39;49merrors)\n\u001b[0;32m   4507\u001b[0m \u001b[39mif\u001b[39;00m inplace:\n\u001b[0;32m   4508\u001b[0m     \u001b[39mself\u001b[39m\u001b[39m.\u001b[39m_update_inplace(obj)\n",
      "File \u001b[1;32md:\\Sakshi\\DSBA_6156_SERJ\\venv\\lib\\site-packages\\pandas\\core\\generic.py:4546\u001b[0m, in \u001b[0;36mNDFrame._drop_axis\u001b[1;34m(self, labels, axis, level, errors, only_slice)\u001b[0m\n\u001b[0;32m   4544\u001b[0m         new_axis \u001b[39m=\u001b[39m axis\u001b[39m.\u001b[39mdrop(labels, level\u001b[39m=\u001b[39mlevel, errors\u001b[39m=\u001b[39merrors)\n\u001b[0;32m   4545\u001b[0m     \u001b[39melse\u001b[39;00m:\n\u001b[1;32m-> 4546\u001b[0m         new_axis \u001b[39m=\u001b[39m axis\u001b[39m.\u001b[39;49mdrop(labels, errors\u001b[39m=\u001b[39;49merrors)\n\u001b[0;32m   4547\u001b[0m     indexer \u001b[39m=\u001b[39m axis\u001b[39m.\u001b[39mget_indexer(new_axis)\n\u001b[0;32m   4549\u001b[0m \u001b[39m# Case for non-unique axis\u001b[39;00m\n\u001b[0;32m   4550\u001b[0m \u001b[39melse\u001b[39;00m:\n",
      "File \u001b[1;32md:\\Sakshi\\DSBA_6156_SERJ\\venv\\lib\\site-packages\\pandas\\core\\indexes\\base.py:6975\u001b[0m, in \u001b[0;36mIndex.drop\u001b[1;34m(self, labels, errors)\u001b[0m\n\u001b[0;32m   6973\u001b[0m \u001b[39mif\u001b[39;00m mask\u001b[39m.\u001b[39many():\n\u001b[0;32m   6974\u001b[0m     \u001b[39mif\u001b[39;00m errors \u001b[39m!=\u001b[39m \u001b[39m\"\u001b[39m\u001b[39mignore\u001b[39m\u001b[39m\"\u001b[39m:\n\u001b[1;32m-> 6975\u001b[0m         \u001b[39mraise\u001b[39;00m \u001b[39mKeyError\u001b[39;00m(\u001b[39mf\u001b[39m\u001b[39m\"\u001b[39m\u001b[39m{\u001b[39;00m\u001b[39mlist\u001b[39m(labels[mask])\u001b[39m}\u001b[39;00m\u001b[39m not found in axis\u001b[39m\u001b[39m\"\u001b[39m)\n\u001b[0;32m   6976\u001b[0m     indexer \u001b[39m=\u001b[39m indexer[\u001b[39m~\u001b[39mmask]\n\u001b[0;32m   6977\u001b[0m \u001b[39mreturn\u001b[39;00m \u001b[39mself\u001b[39m\u001b[39m.\u001b[39mdelete(indexer)\n",
      "\u001b[1;31mKeyError\u001b[0m: \"['b_1', 'b_2', 'b_7', 'b_11', 'r_5', 'd_58', 'b_14', 'b_15', 'b_23', 'd_74', 'd_75', 'b_25', 'r_8', 'b_28', 'r_13', 'r_17', 'b_33', 's_22', 's_24', 'd_103', 'd_104', 'b_37', 'd_118', 'd_119', 'd_135', 'd_137', 'd_139', 'd_141', 'd_143'] not found in axis\""
     ]
    }
   ],
   "source": [
    "# Plainly drop all the columns with higher VIF values\n",
    "df_processed.drop(columns = df_vif[df_vif['VIF']> 11]['feature'].to_list(), inplace=True)\n",
    "print(f'The remaining columns of the data after dropping columns with high VIF : {df_processed.shape[1]}')"
   ]
  },
  {
   "cell_type": "code",
   "execution_count": 23,
   "metadata": {},
   "outputs": [],
   "source": [
    "def train_test_split_on_customer(df, df_labels):\n",
    "    train_customers, test_customers, _, _ = train_test_split(\n",
    "        df_labels.index, df_labels['target'], test_size=0.2, random_state=2303, stratify=df_labels['target'])\n",
    "\n",
    "    C_train = df[df['customer_id'].isin(train_customers)][['customer_id', 's_2']]\n",
    "    X_train = df[df['customer_id'].isin(train_customers)].drop(columns=['customer_id', 's_2', 'target'])\n",
    "    y_train = df[df['customer_id'].isin(train_customers)]['target']\n",
    "    C_test = df[df['customer_id'].isin(test_customers)][['customer_id', 's_2']]\n",
    "    X_test = df[df['customer_id'].isin(test_customers)].drop(columns=['customer_id', 's_2', 'target'])\n",
    "    y_test = df[df['customer_id'].isin(test_customers)]['target']\n",
    "\n",
    "    return C_train, C_test, X_train, X_test, y_train, y_test\n"
   ]
  },
  {
   "cell_type": "code",
   "execution_count": 25,
   "metadata": {},
   "outputs": [
    {
     "name": "stdout",
     "output_type": "stream",
     "text": [
      "Optimization terminated successfully.\n",
      "         Current function value: 0.285258\n",
      "         Iterations 8\n",
      "                           Logit Regression Results                           \n",
      "==============================================================================\n",
      "Dep. Variable:                 target   No. Observations:              4426595\n",
      "Model:                          Logit   Df Residuals:                  4426454\n",
      "Method:                           MLE   Df Model:                          140\n",
      "Date:                Sat, 03 Dec 2022   Pseudo R-squ.:                  0.4918\n",
      "Time:                        23:15:56   Log-Likelihood:            -1.2627e+06\n",
      "converged:                       True   LL-Null:                   -2.4849e+06\n",
      "Covariance Type:            nonrobust   LLR p-value:                     0.000\n",
      "==============================================================================\n",
      "                 coef    std err          z      P>|z|      [0.025      0.975]\n",
      "------------------------------------------------------------------------------\n",
      "p_2           -0.8062      0.003   -230.795      0.000      -0.813      -0.799\n",
      "d_39           0.1163      0.002     63.150      0.000       0.113       0.120\n",
      "r_1            0.0997      0.004     23.288      0.000       0.091       0.108\n",
      "s_3            0.1139      0.003     33.325      0.000       0.107       0.121\n",
      "d_41           0.0988      0.002     39.857      0.000       0.094       0.104\n",
      "b_3            0.2485      0.003     95.104      0.000       0.243       0.254\n",
      "d_43           0.0985      0.002     43.549      0.000       0.094       0.103\n",
      "d_44           0.0162      0.002      7.033      0.000       0.012       0.021\n",
      "b_4            0.2974      0.002    131.612      0.000       0.293       0.302\n",
      "d_45          -0.1181      0.004    -33.244      0.000      -0.125      -0.111\n",
      "b_5           -0.1025      0.004    -23.681      0.000      -0.111      -0.094\n",
      "r_2            0.0320      0.003     10.307      0.000       0.026       0.038\n",
      "d_46           0.1377      0.002     73.239      0.000       0.134       0.141\n",
      "d_47          -0.1681      0.003    -59.621      0.000      -0.174      -0.163\n",
      "d_48           0.0893      0.004     25.214      0.000       0.082       0.096\n",
      "d_49           0.0540      0.002     25.238      0.000       0.050       0.058\n",
      "b_6           -0.1774      0.011    -16.013      0.000      -0.199      -0.156\n",
      "b_8            0.1764      0.003     63.985      0.000       0.171       0.182\n",
      "d_51          -0.2475      0.004    -65.162      0.000      -0.255      -0.240\n",
      "b_9            0.0816      0.002     38.997      0.000       0.077       0.086\n",
      "r_3            0.1789      0.002     82.187      0.000       0.175       0.183\n",
      "d_52          -0.0558      0.002    -27.622      0.000      -0.060      -0.052\n",
      "p_3            0.0631      0.002     33.591      0.000       0.059       0.067\n",
      "b_10           0.0002      0.002      0.139      0.890      -0.003       0.004\n",
      "s_5            0.0221      0.002     13.883      0.000       0.019       0.025\n",
      "s_6            0.0450      0.002     19.640      0.000       0.041       0.050\n",
      "d_54          -0.0451      0.002    -27.066      0.000      -0.048      -0.042\n",
      "r_4            0.0315      0.003      9.857      0.000       0.025       0.038\n",
      "s_7            0.0628      0.003     18.179      0.000       0.056       0.070\n",
      "b_12          -0.0735      0.008     -9.691      0.000      -0.088      -0.059\n",
      "s_8           -0.0958      0.004    -25.387      0.000      -0.103      -0.088\n",
      "d_55          -0.0282      0.004     -8.006      0.000      -0.035      -0.021\n",
      "b_13           0.0821      0.006     14.578      0.000       0.071       0.093\n",
      "d_59          -0.0494      0.002    -28.017      0.000      -0.053      -0.046\n",
      "d_60           0.1316      0.003     50.881      0.000       0.127       0.137\n",
      "d_61           0.0736      0.005     16.106      0.000       0.065       0.083\n",
      "s_11          -0.1092      0.002    -56.480      0.000      -0.113      -0.105\n",
      "d_62          -0.2399      0.004    -66.711      0.000      -0.247      -0.233\n",
      "d_63          -0.0141      0.002     -7.394      0.000      -0.018      -0.010\n",
      "d_64           0.0174      0.001     11.735      0.000       0.014       0.020\n",
      "d_65           0.0235      0.002     10.152      0.000       0.019       0.028\n",
      "b_16           0.1879      0.004     46.733      0.000       0.180       0.196\n",
      "b_18          -0.3105      0.004    -79.144      0.000      -0.318      -0.303\n",
      "b_19           0.0877      0.003     34.747      0.000       0.083       0.093\n",
      "d_66          -0.1786      0.003    -62.881      0.000      -0.184      -0.173\n",
      "b_20          -0.2223      0.003    -64.018      0.000      -0.229      -0.215\n",
      "d_68          -0.0347      0.001    -23.315      0.000      -0.038      -0.032\n",
      "s_12           0.0450      0.002     26.124      0.000       0.042       0.048\n",
      "r_6            0.0139      0.002      6.732      0.000       0.010       0.018\n",
      "s_13           0.0689      0.003     23.335      0.000       0.063       0.075\n",
      "b_21           0.0244      0.002      9.855      0.000       0.020       0.029\n",
      "d_69           0.0006      0.001      0.589      0.556      -0.001       0.002\n",
      "b_22           0.0323      0.002     13.147      0.000       0.027       0.037\n",
      "d_70           0.0577      0.002     35.398      0.000       0.055       0.061\n",
      "d_71          -0.0253      0.006     -4.359      0.000      -0.037      -0.014\n",
      "d_72          -0.0126      0.002     -6.160      0.000      -0.017      -0.009\n",
      "s_15           0.0237      0.003      9.144      0.000       0.019       0.029\n",
      "p_4            0.1328      0.002     66.171      0.000       0.129       0.137\n",
      "b_24          -0.0079      0.003     -2.886      0.004      -0.013      -0.003\n",
      "r_7            0.0020      0.002      1.164      0.244      -0.001       0.005\n",
      "b_26           0.0117      0.002      6.174      0.000       0.008       0.015\n",
      "d_78          -0.0183      0.002     -9.625      0.000      -0.022      -0.015\n",
      "d_79          -0.0215      0.003     -7.859      0.000      -0.027      -0.016\n",
      "r_9            0.0068      0.001      4.586      0.000       0.004       0.010\n",
      "s_16           0.0061      0.002      3.253      0.001       0.002       0.010\n",
      "d_80           0.0204      0.002     11.915      0.000       0.017       0.024\n",
      "r_10           0.0054      0.003      2.100      0.036       0.000       0.011\n",
      "r_11           0.0621      0.001     42.258      0.000       0.059       0.065\n",
      "b_27           0.0003      0.002      0.189      0.850      -0.003       0.004\n",
      "d_81          -0.0025      0.002     -1.132      0.258      -0.007       0.002\n",
      "d_82           0.0972      0.003     38.560      0.000       0.092       0.102\n",
      "s_17           0.0139      0.001      9.844      0.000       0.011       0.017\n",
      "r_12          -0.0208      0.002    -10.313      0.000      -0.025      -0.017\n",
      "d_83           0.0111      0.002      7.242      0.000       0.008       0.014\n",
      "r_14           0.0110      0.002      7.207      0.000       0.008       0.014\n",
      "r_15           0.0028      0.002      1.397      0.162      -0.001       0.007\n",
      "d_84           0.0045      0.003      1.488      0.137      -0.001       0.011\n",
      "r_16          -0.0294      0.002    -15.750      0.000      -0.033      -0.026\n",
      "b_30           0.0169      0.006      2.920      0.003       0.006       0.028\n",
      "s_18           0.0322      0.002     18.148      0.000       0.029       0.036\n",
      "d_86          -0.0595      0.002    -25.925      0.000      -0.064      -0.055\n",
      "d_87           0.0005      0.002      0.267      0.790      -0.003       0.004\n",
      "r_18          -0.0041      0.001     -3.140      0.002      -0.007      -0.002\n",
      "b_31          -2.0162      0.012   -174.110      0.000      -2.039      -1.994\n",
      "s_19           0.0086      0.002      5.489      0.000       0.006       0.012\n",
      "r_19          -0.0344      0.001    -23.432      0.000      -0.037      -0.032\n",
      "b_32          -0.0276      0.001    -20.044      0.000      -0.030      -0.025\n",
      "s_20           0.0168      0.002      7.689      0.000       0.012       0.021\n",
      "r_20          -0.0074      0.003     -2.822      0.005      -0.013      -0.002\n",
      "r_21           0.0330      0.003     12.824      0.000       0.028       0.038\n",
      "d_89          -0.0393      0.002    -18.355      0.000      -0.044      -0.035\n",
      "r_22          -0.0129      0.001    -10.208      0.000      -0.015      -0.010\n",
      "r_23           0.0136      0.001     10.199      0.000       0.011       0.016\n",
      "d_91          -0.0554      0.003    -18.982      0.000      -0.061      -0.050\n",
      "d_92           0.0181      0.004      4.772      0.000       0.011       0.026\n",
      "d_93           0.0223      0.002      9.795      0.000       0.018       0.027\n",
      "d_94          -0.0164      0.004     -3.795      0.000      -0.025      -0.008\n",
      "r_24          -0.0118      0.003     -4.343      0.000      -0.017      -0.006\n",
      "r_25          -0.0367      0.002    -18.574      0.000      -0.041      -0.033\n",
      "d_96          -0.0309      0.002    -13.934      0.000      -0.035      -0.027\n",
      "s_23           0.0088      0.004      2.439      0.015       0.002       0.016\n",
      "s_25          -0.0010      0.001     -0.758      0.449      -0.004       0.002\n",
      "s_26          -0.0418      0.004     -9.934      0.000      -0.050      -0.034\n",
      "d_102         -0.0289      0.002    -14.251      0.000      -0.033      -0.025\n",
      "d_106          0.0062      0.004      1.708      0.088      -0.001       0.013\n",
      "d_107          0.0324      0.002     16.040      0.000       0.028       0.036\n",
      "b_36           0.0111      0.002      4.696      0.000       0.006       0.016\n",
      "r_26           0.0231      0.002     11.131      0.000       0.019       0.027\n",
      "r_27          -0.0988      0.002    -61.457      0.000      -0.102      -0.096\n",
      "b_38          -0.0071      0.001     -4.797      0.000      -0.010      -0.004\n",
      "d_108          0.0213      0.001     14.973      0.000       0.019       0.024\n",
      "d_109         -0.0127      0.002     -5.299      0.000      -0.017      -0.008\n",
      "d_111          0.0642      0.002     27.101      0.000       0.060       0.069\n",
      "d_112         -0.1257      0.002    -63.099      0.000      -0.130      -0.122\n",
      "b_40           0.0007      0.001      0.464      0.642      -0.002       0.003\n",
      "s_27          -0.0339      0.001    -24.312      0.000      -0.037      -0.031\n",
      "d_113         -0.0119      0.002     -5.363      0.000      -0.016      -0.008\n",
      "d_114         -0.1326      0.004    -29.992      0.000      -0.141      -0.124\n",
      "d_115         -0.0545      0.003    -19.929      0.000      -0.060      -0.049\n",
      "d_116          0.0244      0.018      1.393      0.164      -0.010       0.059\n",
      "d_117         -0.0216      0.001    -26.812      0.000      -0.023      -0.020\n",
      "d_120          0.0238      0.005      4.900      0.000       0.014       0.033\n",
      "d_121          0.1580      0.003     53.694      0.000       0.152       0.164\n",
      "d_122         -0.0093      0.002     -3.763      0.000      -0.014      -0.004\n",
      "d_123          0.0158      0.002      7.046      0.000       0.011       0.020\n",
      "d_124          0.0348      0.002     15.998      0.000       0.031       0.039\n",
      "d_125          0.0109      0.002      5.039      0.000       0.007       0.015\n",
      "d_126         -0.0151      0.003     -5.013      0.000      -0.021      -0.009\n",
      "d_127         -0.1030      0.004    -25.676      0.000      -0.111      -0.095\n",
      "d_128         -0.0205      0.003     -7.844      0.000      -0.026      -0.015\n",
      "d_129         -0.1394      0.003    -53.944      0.000      -0.144      -0.134\n",
      "b_41           0.0285      0.002     16.686      0.000       0.025       0.032\n",
      "d_130          0.0239      0.002     11.757      0.000       0.020       0.028\n",
      "d_131          0.1897      0.003     57.972      0.000       0.183       0.196\n",
      "d_133         -0.1116      0.002    -55.641      0.000      -0.116      -0.108\n",
      "r_28           0.0019      0.001      1.593      0.111      -0.000       0.004\n",
      "d_136         -0.0053      0.002     -2.561      0.010      -0.009      -0.001\n",
      "d_138          0.0389      0.002     18.748      0.000       0.035       0.043\n",
      "d_140          0.0154      0.001     11.207      0.000       0.013       0.018\n",
      "d_144         -0.0315      0.002    -19.420      0.000      -0.035      -0.028\n",
      "d_145         -0.0088      0.001     -6.225      0.000      -0.012      -0.006\n",
      "==============================================================================\n"
     ]
    }
   ],
   "source": [
    "# Model\n",
    "C_train, C_test, X_train, X_test, y_train, y_test = train_test_split_on_customer(\n",
    "    df_processed, df_train_y)\n",
    "\n",
    "sm_logit1 = sm.Logit(y_train, X_train).fit()\n",
    "print(sm_logit1.summary())"
   ]
  },
  {
   "cell_type": "code",
   "execution_count": 26,
   "metadata": {},
   "outputs": [
    {
     "name": "stdout",
     "output_type": "stream",
     "text": [
      "The columns remaining after removing insignificant ones : (5531451, 131)\n"
     ]
    }
   ],
   "source": [
    "# Remove the insignificant features and train the model again. I will keep the alpha level as 0.05\n",
    "logit_pvalues = round(sm_logit1.pvalues, 3)\n",
    "high_pval_col = logit_pvalues.index[logit_pvalues > 0.05]\n",
    "\n",
    "# Drop these columns\n",
    "df_processed = df_processed.drop(columns=high_pval_col)\n",
    "print(\n",
    "    f'The columns remaining after removing insignificant ones : {df_processed.shape}')\n",
    "C_train, C_test, X_train, X_test, y_train, y_test = train_test_split_on_customer(\n",
    "    df_processed, df_train_y)\n",
    "\n",
    "# Model\n",
    "logit2 = LogisticRegression(solver='saga', random_state=2303).fit(X_train, y_train)"
   ]
  },
  {
   "cell_type": "code",
   "execution_count": 32,
   "metadata": {},
   "outputs": [
    {
     "data": {
      "text/plain": [
       "array([[768942,  60751],\n",
       "       [ 88486, 186677]], dtype=int64)"
      ]
     },
     "execution_count": 32,
     "metadata": {},
     "output_type": "execute_result"
    }
   ],
   "source": [
    "# Calculate the confusion matrix\n",
    "prediction = logit2.predict(X_test)\n",
    "prediction_probab = logit2.predict_proba(X_test)\n",
    "confusion_matrix(y_test, prediction)"
   ]
  },
  {
   "cell_type": "code",
   "execution_count": 33,
   "metadata": {},
   "outputs": [
    {
     "name": "stdout",
     "output_type": "stream",
     "text": [
      "Validation accuracy is: 0.8649262890367614\n",
      "Logistic : ROC AUC = 0.928\n"
     ]
    },
    {
     "data": {
      "image/png": "[encoded data removed]",
      "text/plain": [
       "<Figure size 640x480 with 1 Axes>"
      ]
     },
     "metadata": {},
     "output_type": "display_data"
    }
   ],
   "source": [
    "print(f'Validation accuracy is: {accuracy_score(y_test, prediction)}')\n",
    "\n",
    "# Calculate roc metric \n",
    "print('Logistic : ROC AUC = %.3f' % (roc_auc_score(y_test,prediction_probab[:,1])))\n",
    "\n",
    "fpr,tpr,_ = roc_curve(y_test,prediction_probab[:,1])\n",
    "plt.plot(fpr,tpr,marker = '.')\n",
    "plt.xlabel('False Positive Rate')\n",
    "plt.ylabel('True Positive Rate')\n",
    "plt.show()"
   ]
  },
  {
   "cell_type": "code",
   "execution_count": 34,
   "metadata": {},
   "outputs": [],
   "source": [
    "# Clear the memory before loading the test data to predict\n",
    "del(fpr,tpr)"
   ]
  },
  {
   "cell_type": "code",
   "execution_count": 35,
   "metadata": {},
   "outputs": [],
   "source": [
    "def amex_metric(y_true: pd.DataFrame, y_pred: pd.DataFrame) -> float:\n",
    "\n",
    "    def top_four_percent_captured(y_true: pd.DataFrame, y_pred: pd.DataFrame) -> float:\n",
    "        df = (pd.concat([y_true, y_pred], axis='columns')\n",
    "              .sort_values('prediction', ascending=False))\n",
    "        df['weight'] = df['target'].apply(lambda x: 20 if x==0 else 1)\n",
    "        four_pct_cutoff = int(0.04 * df['weight'].sum())\n",
    "        df['weight_cumsum'] = df['weight'].cumsum()\n",
    "        df_cutoff = df.loc[df['weight_cumsum'] <= four_pct_cutoff]\n",
    "        return (df_cutoff['target'] == 1).sum() / (df['target'] == 1).sum()\n",
    "        \n",
    "    def weighted_gini(y_true: pd.DataFrame, y_pred: pd.DataFrame) -> float:\n",
    "        df = (pd.concat([y_true, y_pred], axis='columns')\n",
    "              .sort_values('prediction', ascending=False))\n",
    "        df['weight'] = df['target'].apply(lambda x: 20 if x==0 else 1)\n",
    "        df['random'] = (df['weight'] / df['weight'].sum()).cumsum()\n",
    "        total_pos = (df['target'] * df['weight']).sum()\n",
    "        df['cum_pos_found'] = (df['target'] * df['weight']).cumsum()\n",
    "        df['lorentz'] = df['cum_pos_found'] / total_pos\n",
    "        df['gini'] = (df['lorentz'] - df['random']) * df['weight']\n",
    "        return df['gini'].sum()\n",
    "\n",
    "    def normalized_weighted_gini(y_true: pd.DataFrame, y_pred: pd.DataFrame) -> float:\n",
    "        y_true_pred = y_true.rename(columns={'target': 'prediction'})\n",
    "        return weighted_gini(y_true, y_pred) / weighted_gini(y_true, y_true_pred)\n",
    "\n",
    "    g = normalized_weighted_gini(y_true, y_pred)\n",
    "    d = top_four_percent_captured(y_true, y_pred)\n",
    "\n",
    "    return 0.5 * (g + d)"
   ]
  },
  {
   "cell_type": "code",
   "execution_count": 38,
   "metadata": {},
   "outputs": [
    {
     "name": "stdout",
     "output_type": "stream",
     "text": [
      "Original Accuracy: 0.86493, ROC AUC: 0.92782, Amex: 0.75226\n"
     ]
    }
   ],
   "source": [
    "# Original Accuracy\n",
    "original_accuracy = accuracy_score(y_test, prediction)\n",
    "\n",
    "# Calculate original roc metric\n",
    "original_roc_auc = roc_auc_score(y_test, prediction_probab[:, 1])\n",
    "\n",
    "# Calculate original Amex Score\n",
    "y_pred = pd.DataFrame({\n",
    "    'customer_id': C_test.customer_id,\n",
    "    's_2': C_test.s_2,\n",
    "    'target': y_test,\n",
    "    'prediction': prediction_probab[:, 1]\n",
    "}).sort_values(by=['customer_id', 's_2']).groupby('customer_id').agg('last')\n",
    "original_amex_score = amex_metric(y_pred[['target']], y_pred[['prediction']])\n",
    "\n",
    "print('Original Accuracy: %.5f, ROC AUC: %.5f, Amex: %.5f' %\n",
    "      (original_accuracy, original_roc_auc, original_amex_score))\n",
    "\n",
    "del y_pred\n"
   ]
  },
  {
   "cell_type": "code",
   "execution_count": 39,
   "metadata": {},
   "outputs": [
    {
     "name": "stderr",
     "output_type": "stream",
     "text": [
      "The option feature_dependence has been renamed to feature_perturbation!\n",
      "The option feature_perturbation=\"independent\" is has been renamed to feature_perturbation=\"interventional\"!\n",
      "The feature_perturbation option is now deprecated in favor of using the appropriate masker (maskers.Independent, or maskers.Impute)\n"
     ]
    },
    {
     "data": {
      "image/png": "[encoded data removed]",
      "text/plain": [
       "<Figure size 800x950 with 1 Axes>"
      ]
     },
     "metadata": {},
     "output_type": "display_data"
    }
   ],
   "source": [
    "import shap\n",
    "\n",
    "explainer = shap.LinearExplainer(logit2, X_train, feature_dependence=\"independent\")\n",
    "shap_values = explainer.shap_values(X_test)\n",
    "\n",
    "# Summarize the effect of all the features\n",
    "shap.summary_plot(shap_values, features=X_test, feature_names=X_test.columns, plot_type='bar')"
   ]
  },
  {
   "cell_type": "code",
   "execution_count": 40,
   "metadata": {},
   "outputs": [
    {
     "name": "stdout",
     "output_type": "stream",
     "text": [
      "{'r_18': 2.7551934e-05, 'r_24': 0.00018015565, 'r_23': 0.00021869536, 'd_109': 0.00037420707, 'b_26': 0.00039391057, 'r_14': 0.00039750792, 'r_25': 0.00045091924, 'b_12': 0.00070427055, 'r_22': 0.0007408659, 's_16': 0.0011860062, 'd_82': 0.0013097456, 'd_108': 0.001461243, 'b_32': 0.0014879447, 'b_31': 0.0016136746, 's_23': 0.0016397132, 'd_94': 0.0021046721, 'r_6': 0.0021596225, 'd_89': 0.0023203245, 'r_20': 0.0024744547, 'b_13': 0.0025858148, 'b_21': 0.0027763322, 's_26': 0.0030868414, 's_19': 0.0035798582, 's_17': 0.0042664954, 'r_19': 0.0047471775, 'd_140': 0.004763219, 'd_65': 0.0047714193, 'b_6': 0.0049112304, 'r_16': 0.004926365, 'b_41': 0.0057139774, 'd_71': 0.005791282, 'd_93': 0.005973977, 'd_120': 0.0060483497, 's_20': 0.006063055, 'b_30': 0.0064443136, 's_5': 0.006796408, 'd_125': 0.0068711694, 'd_145': 0.006950421, 'b_24': 0.007154493, 'b_5': 0.0074105547, 's_18': 0.007475224, 'r_21': 0.0081052, 'd_86': 0.009101372, 'd_96': 0.009160086, 'b_36': 0.009235506, 'd_78': 0.009448551, 'd_111': 0.009713272, 'd_123': 0.009889335, 'r_4': 0.010305315, 's_12': 0.010887506, 's_27': 0.01117352, 'd_136': 0.012044935, 'd_49': 0.012361385, 'd_72': 0.012441004, 'd_54': 0.012603048, 'd_115': 0.012611844, 'r_26': 0.01313634, 'd_66': 0.013777388, 'd_59': 0.01471676, 's_13': 0.014881445, 'r_12': 0.015256628, 'd_138': 0.015402528, 'd_92': 0.01663481, 'd_83': 0.016738392, 'd_107': 0.018962847, 'r_10': 0.019017339, 'r_11': 0.02086989, 'd_144': 0.022751682, 'd_79': 0.023252446, 'r_2': 0.024895577, 'd_80': 0.025494156, 'd_102': 0.025841758, 'd_122': 0.026216527, 's_6': 0.026580438, 'd_60': 0.026855357, 'd_133': 0.027619554, 'd_91': 0.028419318, 'd_64': 0.028660586, 'd_127': 0.031362284, 'd_114': 0.032029815, 'r_9': 0.033474576, 'd_46': 0.034562983, 's_8': 0.034785405, 'd_113': 0.03604839, 'd_126': 0.03700032, 'd_41': 0.039440256, 'd_52': 0.039612338, 'd_130': 0.040167417, 'p_3': 0.04183156, 'd_131': 0.042029843, 'b_38': 0.043538637, 's_11': 0.04578555, 's_15': 0.04690872, 'd_43': 0.04716828, 'd_124': 0.04902867, 'd_61': 0.0491444, 'r_1': 0.05089749, 'd_121': 0.05109091, 'd_70': 0.052283496, 's_3': 0.056738134, 'b_20': 0.0589226, 'r_27': 0.059936658, 'b_22': 0.06146424, 's_7': 0.06646225, 'd_128': 0.06656824, 'd_39': 0.06902083, 'b_19': 0.069610916, 'd_44': 0.069801174, 'r_3': 0.07589233, 'd_47': 0.07684024, 'd_112': 0.08148855, 'd_45': 0.083584234, 'b_16': 0.08370866, 'd_55': 0.08493406, 'b_3': 0.08795695, 'd_62': 0.09140741, 'b_4': 0.09571297, 'd_51': 0.096261136, 'p_4': 0.09952433, 'd_129': 0.10563407, 'b_9': 0.1119066, 'd_117': 0.11292458, 'd_48': 0.115032054, 'd_63': 0.117021255, 'b_18': 0.12494445, 'b_8': 0.12577413, 'p_2': 0.20848875, 'd_68': 0.23774417}\n"
     ]
    }
   ],
   "source": [
    "# Generate global shap values and associate with the column\n",
    "global_shap_values = {k:v for k, v in sorted(zip(X_test.columns, np.abs(shap_values).mean(0)), reverse=False, key=lambda value: value[1])}\n",
    "print(global_shap_values)"
   ]
  },
  {
   "cell_type": "markdown",
   "metadata": {},
   "source": [
    "## Feature Reduction using SHAP"
   ]
  },
  {
   "cell_type": "code",
   "execution_count": 42,
   "metadata": {},
   "outputs": [
    {
     "name": "stdout",
     "output_type": "stream",
     "text": [
      "-------------------------------Iteration 1------------------------\n",
      "Cols Dropped:  ['r_18']\n",
      "Max Accuracy: 0.86493, Current Accuracy: 0.86492, Difference: -0.00001, Percentage Diff: -0.00001\n",
      "Max ROC AUC: 0.92782, Current ROC AUC: 0.92782, Difference: -0.00000, Percentage Diff: -0.00000\n",
      "Max Amex Score: 0.75226, Current Amex Score: 0.75231, Difference: 0.00005, Percentage Diff: 0.00006\n",
      "-------------------------------Iteration 2------------------------\n",
      "Cols Dropped:  ['r_18', 'r_24']\n",
      "Max Accuracy: 0.86493, Current Accuracy: 0.86495, Difference: 0.00002, Percentage Diff: 0.00003\n",
      "Max ROC AUC: 0.92782, Current ROC AUC: 0.92782, Difference: 0.00000, Percentage Diff: 0.00000\n",
      "Max Amex Score: 0.75231, Current Amex Score: 0.75238, Difference: 0.00007, Percentage Diff: 0.00010\n",
      "-------------------------------Iteration 3------------------------\n",
      "Cols Dropped:  ['r_18', 'r_24', 'r_23']\n",
      "Max Accuracy: 0.86495, Current Accuracy: 0.86492, Difference: -0.00003, Percentage Diff: -0.00003\n",
      "Max ROC AUC: 0.92782, Current ROC AUC: 0.92781, Difference: -0.00001, Percentage Diff: -0.00001\n",
      "Max Amex Score: 0.75238, Current Amex Score: 0.75233, Difference: -0.00005, Percentage Diff: -0.00006\n",
      "-------------------------------Iteration 4------------------------\n",
      "Cols Dropped:  ['r_18', 'r_24', 'r_23', 'd_109']\n",
      "Max Accuracy: 0.86495, Current Accuracy: 0.86492, Difference: -0.00003, Percentage Diff: -0.00003\n",
      "Max ROC AUC: 0.92782, Current ROC AUC: 0.92781, Difference: -0.00001, Percentage Diff: -0.00001\n",
      "Max Amex Score: 0.75238, Current Amex Score: 0.75231, Difference: -0.00007, Percentage Diff: -0.00009\n",
      "-------------------------------Iteration 5------------------------\n",
      "Cols Dropped:  ['r_18', 'r_24', 'r_23', 'd_109', 'b_26']\n",
      "Max Accuracy: 0.86495, Current Accuracy: 0.86492, Difference: -0.00003, Percentage Diff: -0.00003\n",
      "Max ROC AUC: 0.92782, Current ROC AUC: 0.92782, Difference: 0.00000, Percentage Diff: 0.00000\n",
      "Max Amex Score: 0.75238, Current Amex Score: 0.75225, Difference: -0.00012, Percentage Diff: -0.00017\n",
      "-------------------------------Iteration 6------------------------\n",
      "Cols Dropped:  ['r_18', 'r_24', 'r_23', 'd_109', 'b_26', 'r_14']\n",
      "Max Accuracy: 0.86495, Current Accuracy: 0.86492, Difference: -0.00003, Percentage Diff: -0.00004\n",
      "Max ROC AUC: 0.92782, Current ROC AUC: 0.92782, Difference: -0.00000, Percentage Diff: -0.00000\n",
      "Max Amex Score: 0.75238, Current Amex Score: 0.75234, Difference: -0.00004, Percentage Diff: -0.00005\n",
      "-------------------------------Iteration 7------------------------\n",
      "Cols Dropped:  ['r_18', 'r_24', 'r_23', 'd_109', 'b_26', 'r_14', 'r_25']\n",
      "Max Accuracy: 0.86495, Current Accuracy: 0.86493, Difference: -0.00002, Percentage Diff: -0.00002\n",
      "Max ROC AUC: 0.92782, Current ROC AUC: 0.92782, Difference: -0.00000, Percentage Diff: -0.00000\n",
      "Max Amex Score: 0.75238, Current Amex Score: 0.75217, Difference: -0.00021, Percentage Diff: -0.00028\n",
      "-------------------------------Iteration 8------------------------\n",
      "Cols Dropped:  ['r_18', 'r_24', 'r_23', 'd_109', 'b_26', 'r_14', 'r_25', 'b_12']\n",
      "Max Accuracy: 0.86495, Current Accuracy: 0.86493, Difference: -0.00002, Percentage Diff: -0.00002\n",
      "Max ROC AUC: 0.92782, Current ROC AUC: 0.92782, Difference: -0.00000, Percentage Diff: -0.00001\n",
      "Max Amex Score: 0.75238, Current Amex Score: 0.75217, Difference: -0.00021, Percentage Diff: -0.00028\n",
      "-------------------------------Iteration 9------------------------\n",
      "Cols Dropped:  ['r_18', 'r_24', 'r_23', 'd_109', 'b_26', 'r_14', 'r_25', 'b_12', 'r_22']\n",
      "Max Accuracy: 0.86495, Current Accuracy: 0.86488, Difference: -0.00007, Percentage Diff: -0.00008\n",
      "Max ROC AUC: 0.92782, Current ROC AUC: 0.92781, Difference: -0.00001, Percentage Diff: -0.00001\n",
      "Max Amex Score: 0.75238, Current Amex Score: 0.75229, Difference: -0.00009, Percentage Diff: -0.00012\n",
      "-------------------------------Iteration 10------------------------\n",
      "Cols Dropped:  ['r_18', 'r_24', 'r_23', 'd_109', 'b_26', 'r_14', 'r_25', 'b_12', 'r_22', 's_16']\n",
      "Max Accuracy: 0.86495, Current Accuracy: 0.86489, Difference: -0.00006, Percentage Diff: -0.00007\n",
      "Max ROC AUC: 0.92782, Current ROC AUC: 0.92782, Difference: -0.00000, Percentage Diff: -0.00000\n",
      "Max Amex Score: 0.75238, Current Amex Score: 0.75233, Difference: -0.00004, Percentage Diff: -0.00006\n",
      "-------------------------------Iteration 11------------------------\n",
      "Cols Dropped:  ['r_18', 'r_24', 'r_23', 'd_109', 'b_26', 'r_14', 'r_25', 'b_12', 'r_22', 's_16', 'd_82']\n",
      "Max Accuracy: 0.86495, Current Accuracy: 0.86489, Difference: -0.00005, Percentage Diff: -0.00006\n",
      "Max ROC AUC: 0.92782, Current ROC AUC: 0.92782, Difference: -0.00000, Percentage Diff: -0.00000\n",
      "Max Amex Score: 0.75238, Current Amex Score: 0.75238, Difference: -0.00000, Percentage Diff: -0.00000\n",
      "-------------------------------Iteration 12------------------------\n",
      "Cols Dropped:  ['r_18', 'r_24', 'r_23', 'd_109', 'b_26', 'r_14', 'r_25', 'b_12', 'r_22', 's_16', 'd_82', 'd_108']\n",
      "Max Accuracy: 0.86495, Current Accuracy: 0.86488, Difference: -0.00007, Percentage Diff: -0.00008\n",
      "Max ROC AUC: 0.92782, Current ROC AUC: 0.92780, Difference: -0.00002, Percentage Diff: -0.00002\n",
      "Max Amex Score: 0.75238, Current Amex Score: 0.75225, Difference: -0.00013, Percentage Diff: -0.00017\n",
      "-------------------------------Iteration 13------------------------\n",
      "Cols Dropped:  ['r_18', 'r_24', 'r_23', 'd_109', 'b_26', 'r_14', 'r_25', 'b_12', 'r_22', 's_16', 'd_82', 'd_108', 'b_32']\n",
      "Max Accuracy: 0.86495, Current Accuracy: 0.86488, Difference: -0.00007, Percentage Diff: -0.00008\n",
      "Max ROC AUC: 0.92782, Current ROC AUC: 0.92779, Difference: -0.00003, Percentage Diff: -0.00003\n",
      "Max Amex Score: 0.75238, Current Amex Score: 0.75228, Difference: -0.00010, Percentage Diff: -0.00013\n",
      "-------------------------------Iteration 14------------------------\n",
      "Cols Dropped:  ['r_18', 'r_24', 'r_23', 'd_109', 'b_26', 'r_14', 'r_25', 'b_12', 'r_22', 's_16', 'd_82', 'd_108', 'b_32', 'b_31']\n",
      "Max Accuracy: 0.86495, Current Accuracy: 0.86468, Difference: -0.00026, Percentage Diff: -0.00030\n",
      "Max ROC AUC: 0.92782, Current ROC AUC: 0.92748, Difference: -0.00034, Percentage Diff: -0.00036\n",
      "Max Amex Score: 0.75238, Current Amex Score: 0.75168, Difference: -0.00069, Percentage Diff: -0.00092\n",
      "-------------------------------Iteration 15------------------------\n",
      "Cols Dropped:  ['r_18', 'r_24', 'r_23', 'd_109', 'b_26', 'r_14', 'r_25', 'b_12', 'r_22', 's_16', 'd_82', 'd_108', 'b_32', 'b_31', 's_23']\n",
      "Max Accuracy: 0.86495, Current Accuracy: 0.86467, Difference: -0.00028, Percentage Diff: -0.00032\n",
      "Max ROC AUC: 0.92782, Current ROC AUC: 0.92747, Difference: -0.00035, Percentage Diff: -0.00038\n",
      "Max Amex Score: 0.75238, Current Amex Score: 0.75154, Difference: -0.00084, Percentage Diff: -0.00111\n",
      "-------------------------------Iteration 16------------------------\n",
      "Cols Dropped:  ['r_18', 'r_24', 'r_23', 'd_109', 'b_26', 'r_14', 'r_25', 'b_12', 'r_22', 's_16', 'd_82', 'd_108', 'b_32', 'b_31', 's_23', 'd_94']\n",
      "Max Accuracy: 0.86495, Current Accuracy: 0.86467, Difference: -0.00028, Percentage Diff: -0.00032\n",
      "Max ROC AUC: 0.92782, Current ROC AUC: 0.92747, Difference: -0.00035, Percentage Diff: -0.00038\n",
      "Max Amex Score: 0.75238, Current Amex Score: 0.75154, Difference: -0.00084, Percentage Diff: -0.00111\n",
      "-------------------------------Iteration 17------------------------\n",
      "Cols Dropped:  ['r_18', 'r_24', 'r_23', 'd_109', 'b_26', 'r_14', 'r_25', 'b_12', 'r_22', 's_16', 'd_82', 'd_108', 'b_32', 'b_31', 's_23', 'd_94', 'r_6']\n",
      "Max Accuracy: 0.86495, Current Accuracy: 0.86467, Difference: -0.00027, Percentage Diff: -0.00032\n",
      "Max ROC AUC: 0.92782, Current ROC AUC: 0.92747, Difference: -0.00036, Percentage Diff: -0.00038\n",
      "Max Amex Score: 0.75238, Current Amex Score: 0.75170, Difference: -0.00068, Percentage Diff: -0.00090\n",
      "-------------------------------Iteration 18------------------------\n",
      "Cols Dropped:  ['r_18', 'r_24', 'r_23', 'd_109', 'b_26', 'r_14', 'r_25', 'b_12', 'r_22', 's_16', 'd_82', 'd_108', 'b_32', 'b_31', 's_23', 'd_94', 'r_6', 'd_89']\n",
      "Max Accuracy: 0.86495, Current Accuracy: 0.86467, Difference: -0.00028, Percentage Diff: -0.00033\n",
      "Max ROC AUC: 0.92782, Current ROC AUC: 0.92746, Difference: -0.00036, Percentage Diff: -0.00039\n",
      "Max Amex Score: 0.75238, Current Amex Score: 0.75160, Difference: -0.00078, Percentage Diff: -0.00104\n",
      "-------------------------------Iteration 19------------------------\n",
      "Cols Dropped:  ['r_18', 'r_24', 'r_23', 'd_109', 'b_26', 'r_14', 'r_25', 'b_12', 'r_22', 's_16', 'd_82', 'd_108', 'b_32', 'b_31', 's_23', 'd_94', 'r_6', 'd_89', 'r_20']\n",
      "Max Accuracy: 0.86495, Current Accuracy: 0.86465, Difference: -0.00030, Percentage Diff: -0.00034\n",
      "Max ROC AUC: 0.92782, Current ROC AUC: 0.92746, Difference: -0.00036, Percentage Diff: -0.00039\n",
      "Max Amex Score: 0.75238, Current Amex Score: 0.75160, Difference: -0.00077, Percentage Diff: -0.00103\n",
      "-------------------------------Iteration 20------------------------\n",
      "Cols Dropped:  ['r_18', 'r_24', 'r_23', 'd_109', 'b_26', 'r_14', 'r_25', 'b_12', 'r_22', 's_16', 'd_82', 'd_108', 'b_32', 'b_31', 's_23', 'd_94', 'r_6', 'd_89', 'r_20', 'b_13']\n",
      "Max Accuracy: 0.86495, Current Accuracy: 0.86466, Difference: -0.00029, Percentage Diff: -0.00034\n",
      "Max ROC AUC: 0.92782, Current ROC AUC: 0.92746, Difference: -0.00037, Percentage Diff: -0.00039\n",
      "Max Amex Score: 0.75238, Current Amex Score: 0.75161, Difference: -0.00077, Percentage Diff: -0.00103\n",
      "-------------------------------Iteration 21------------------------\n",
      "Cols Dropped:  ['r_18', 'r_24', 'r_23', 'd_109', 'b_26', 'r_14', 'r_25', 'b_12', 'r_22', 's_16', 'd_82', 'd_108', 'b_32', 'b_31', 's_23', 'd_94', 'r_6', 'd_89', 'r_20', 'b_13', 'b_21']\n",
      "Max Accuracy: 0.86495, Current Accuracy: 0.86462, Difference: -0.00033, Percentage Diff: -0.00038\n",
      "Max ROC AUC: 0.92782, Current ROC AUC: 0.92744, Difference: -0.00038, Percentage Diff: -0.00041\n",
      "Max Amex Score: 0.75238, Current Amex Score: 0.75124, Difference: -0.00114, Percentage Diff: -0.00152\n"
     ]
    }
   ],
   "source": [
    "cols_to_remove = []\n",
    "\n",
    "# Initialize with scores from all columns\n",
    "max_accuracy, max_roc_auc, max_amex_score = original_accuracy, original_roc_auc, original_amex_score\n",
    "\n",
    "# Train/Test dropping one feature at a time\n",
    "i = 0\n",
    "for col, _ in global_shap_values.items():\n",
    "    i += 1\n",
    "\n",
    "    X_train_reduced = X_train.drop(columns=cols_to_remove + [col])\n",
    "    X_test_reduced = X_test.drop(columns=cols_to_remove + [col])\n",
    "\n",
    "    # Model\n",
    "    logit2_reduced = LogisticRegression(\n",
    "        solver='saga', random_state=2303, n_jobs=12).fit(X_train_reduced, y_train)\n",
    "\n",
    "    y_pred_reduced = logit2_reduced.predict(X_test_reduced)\n",
    "    y_pred_proba_reduced = logit2_reduced.predict_proba(X_test_reduced)\n",
    "\n",
    "    # Calculate scores for this iteration\n",
    "    accuracy = accuracy_score(y_test, y_pred_reduced)\n",
    "    roc_auc = roc_auc_score(y_test, y_pred_proba_reduced[:, 1])\n",
    "    y_pred = pd.DataFrame({\n",
    "        'customer_id': C_test.customer_id,\n",
    "        's_2': C_test.s_2,\n",
    "        'target': y_test,\n",
    "        'prediction': y_pred_proba_reduced[:, 1]\n",
    "    }).sort_values(by=['customer_id', 's_2']).groupby('customer_id').agg('last')\n",
    "    amex_score = amex_metric(y_pred[['target']], y_pred[['prediction']])\n",
    "\n",
    "    print('-------------------------------Iteration %d------------------------' % i)\n",
    "    print('Cols Dropped: ', cols_to_remove + [col])\n",
    "\n",
    "    diff = accuracy - max_accuracy\n",
    "    percent_diff = diff / max_accuracy\n",
    "    print('Max Accuracy: %.5f, Current Accuracy: %.5f, Difference: %.5f, Percentage Diff: %.5f' % (\n",
    "        max_accuracy, accuracy, diff, percent_diff))\n",
    "    max_accuracy = max(max_accuracy, accuracy)\n",
    "\n",
    "    diff = roc_auc - max_roc_auc\n",
    "    percent_diff = diff / max_roc_auc\n",
    "    print('Max ROC AUC: %.5f, Current ROC AUC: %.5f, Difference: %.5f, Percentage Diff: %.5f' % (\n",
    "        max_roc_auc, roc_auc, diff, percent_diff))\n",
    "    max_roc_auc = max(max_roc_auc, roc_auc)\n",
    "\n",
    "    diff = amex_score - max_amex_score\n",
    "    percent_diff = diff / max_amex_score\n",
    "    print('Max Amex Score: %.5f, Current Amex Score: %.5f, Difference: %.5f, Percentage Diff: %.5f' % (\n",
    "        max_amex_score, amex_score, diff, percent_diff))\n",
    "    max_amex_score = max(max_amex_score, amex_score)\n",
    "\n",
    "    # If the accuracy increases after dropping the column\n",
    "    # then drop the column\n",
    "    if diff <= -0.001:\n",
    "        break\n",
    "\n",
    "    cols_to_remove.append(col)\n"
   ]
  },
  {
   "cell_type": "code",
   "execution_count": 43,
   "metadata": {},
   "outputs": [],
   "source": [
    "# Prepare final reduced model\n",
    "X_train_reduced = X_train.drop(columns=cols_to_remove)\n",
    "X_test_reduced = X_test.drop(columns=cols_to_remove)\n",
    "\n",
    "# Model\n",
    "logit2_reduced = LogisticRegression(\n",
    "    solver='saga', random_state=2303, n_jobs=12).fit(X_train_reduced, y_train)\n",
    "\n",
    "y_pred_reduced = logit2_reduced.predict(X_test_reduced)\n",
    "y_pred_proba_reduced = logit2_reduced.predict_proba(X_test_reduced)"
   ]
  },
  {
   "cell_type": "code",
   "execution_count": 46,
   "metadata": {},
   "outputs": [],
   "source": [
    "def execute_model(df):\n",
    "    # Just add extra columns with 0 value so that pipeline does not fail --> these are the extra columns that we had in the training data\n",
    "    extra_cols = ['target']\n",
    "    # Concatenate the dataframe of extra columns with the dataframe of the test data\n",
    "    df = pd.concat([\n",
    "        df,\n",
    "        pd.DataFrame(\n",
    "            np.zeros((df.shape[0], len(extra_cols))), columns=extra_cols)\n",
    "    ], axis=1)\n",
    "\n",
    "    # Use the pipeline to transform\n",
    "    X = pipeline.transform(df)\n",
    "\n",
    "    # Drop target & the insignificant variables found during the training using statsmodel p-value\n",
    "    X.drop(columns=['target', 'customer_id', 's_2'] + df_vif[df_vif['VIF'] > 11]['feature'].to_list()\n",
    "           + high_pval_col.tolist() + cols_to_remove, inplace=True)\n",
    "\n",
    "    # return log_reg.predict(X), log_reg.predict_proba(X)\n",
    "    # In the statsmodel predict will give the probability\n",
    "    return logit2_reduced.predict_proba(X)[:,1]\n"
   ]
  },
  {
   "cell_type": "code",
   "execution_count": 47,
   "metadata": {},
   "outputs": [],
   "source": [
    "# del (sm_logit1)\n",
    "df_test = pd.read_parquet('../data/test.parquet')\n",
    "df_test.columns = df_test.columns.str.lower()\n",
    "# Define the result mdf\n",
    "mdf = pd.DataFrame(columns=['customer_id', 's_2', 'proba'])\n",
    "y_proba = execute_model(df_test)\n",
    "\n",
    "mdf = pd.concat([\n",
    "    mdf,\n",
    "    pd.DataFrame({\n",
    "        'customer_id': df_test['customer_id'].values,\n",
    "        's_2': df_test['s_2'].values,\n",
    "        'proba': y_proba\n",
    "    })\n",
    "])\n",
    "mdf.to_csv(\n",
    "    '../ignore/final/logistic_vif_shap/logisticregression_baseline_prediction.csv', index=False)\n"
   ]
  },
  {
   "cell_type": "code",
   "execution_count": 48,
   "metadata": {},
   "outputs": [
    {
     "data": {
      "text/plain": [
       "dtype('<M8[ns]')"
      ]
     },
     "execution_count": 48,
     "metadata": {},
     "output_type": "execute_result"
    }
   ],
   "source": [
    "mdf['s_2'] = pd.to_datetime(mdf['s_2'])\n",
    "mdf['s_2'].dtype"
   ]
  },
  {
   "cell_type": "markdown",
   "metadata": {},
   "source": [
    "## Just take the last statement probability of each customer"
   ]
  },
  {
   "cell_type": "code",
   "execution_count": 49,
   "metadata": {},
   "outputs": [],
   "source": [
    "# Get the last statement probability of each of the customer\n",
    "df_result_last = mdf.sort_values(by = 's_2').groupby('customer_id')[['customer_id','proba']].tail(1)\n",
    "df_result_last.rename(columns= {'proba' : 'prediction'},inplace=True)\n",
    "df_result_last.head()\n",
    "df_result_last.to_csv('../ignore/final/logistic_vif_shap/logistic_baseline_laststmt_submission.csv', index=False)"
   ]
  }
 ],
 "metadata": {
  "kernelspec": {
   "display_name": "Python 3.10.4 ('venv': venv)",
   "language": "python",
   "name": "python3"
  },
  "language_info": {
   "codemirror_mode": {
    "name": "ipython",
    "version": 3
   },
   "file_extension": ".py",
   "mimetype": "text/x-python",
   "name": "python",
   "nbconvert_exporter": "python",
   "pygments_lexer": "ipython3",
   "version": "3.10.4"
  },
  "orig_nbformat": 4,
  "vscode": {
   "interpreter": {
    "hash": "89a73c21ecc9236fdbb84984cd9e615404f96fb7d0e8948f841b3ff5dee670ca"
   }
  }
 },
 "nbformat": 4,
 "nbformat_minor": 2
}

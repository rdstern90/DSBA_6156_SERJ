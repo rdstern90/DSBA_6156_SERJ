{
 "cells": [
  {
   "attachments": {},
   "cell_type": "markdown",
   "metadata": {},
   "source": [
    "### If the customer has defaulted assigning all statements the value 1"
   ]
  },
  {
   "cell_type": "code",
   "execution_count": 1,
   "metadata": {},
   "outputs": [],
   "source": [
    "import pandas as pd\n",
    "import numpy as np\n",
    "from sklearn.base import BaseEstimator, TransformerMixin\n",
    "from sklearn.impute import SimpleImputer\n",
    "from sklearn.pipeline import Pipeline\n",
    "from sklearn.preprocessing import OneHotEncoder\n",
    "from sklearn.preprocessing import StandardScaler\n",
    "from sklearn.compose import ColumnTransformer\n",
    "from sklearn.model_selection import train_test_split\n",
    "import statsmodels.api as sm\n",
    "from sklearn.linear_model import LogisticRegression\n",
    "from sklearn.metrics import classification_report,confusion_matrix,roc_curve,roc_auc_score, accuracy_score\n",
    "import matplotlib.pyplot as plt"
   ]
  },
  {
   "cell_type": "code",
   "execution_count": 2,
   "metadata": {},
   "outputs": [],
   "source": [
    "# Read training data \n",
    "df_train_x = pd.read_parquet('D:/Sakshi/DSBA_6156_SERJ/data/train.parquet')\n",
    "df_train_x.columns = df_train_x.columns.str.lower()\n",
    "# Read training data labels\n",
    "df_train_y = pd.read_csv('D:/Sakshi/DSBA_6156_SERJ/data/train_labels.csv')\n",
    "df_train_y.columns = df_train_y.columns.str.lower()\n",
    "df_train_y = df_train_y.set_index('customer_id')\n",
    "\n",
    "df_train_x = df_train_x.sort_values(['customer_id', 's_2'])\n",
    "df_train = pd.merge(df_train_x, df_train_y, on='customer_id')\n",
    "del(df_train_x, df_train_y)"
   ]
  },
  {
   "cell_type": "code",
   "execution_count": 3,
   "metadata": {},
   "outputs": [
    {
     "data": {
      "text/html": [
       "<div>\n",
       "<style scoped>\n",
       "    .dataframe tbody tr th:only-of-type {\n",
       "        vertical-align: middle;\n",
       "    }\n",
       "\n",
       "    .dataframe tbody tr th {\n",
       "        vertical-align: top;\n",
       "    }\n",
       "\n",
       "    .dataframe thead th {\n",
       "        text-align: right;\n",
       "    }\n",
       "</style>\n",
       "<table border=\"1\" class=\"dataframe\">\n",
       "  <thead>\n",
       "    <tr style=\"text-align: right;\">\n",
       "      <th></th>\n",
       "      <th>customer_id</th>\n",
       "      <th>s_2</th>\n",
       "      <th>target</th>\n",
       "    </tr>\n",
       "  </thead>\n",
       "  <tbody>\n",
       "    <tr>\n",
       "      <th>104</th>\n",
       "      <td>0000f99513770170a1aba690daeeb8a96da4a39f11fc27...</td>\n",
       "      <td>2017-03-15</td>\n",
       "      <td>1</td>\n",
       "    </tr>\n",
       "    <tr>\n",
       "      <th>105</th>\n",
       "      <td>0000f99513770170a1aba690daeeb8a96da4a39f11fc27...</td>\n",
       "      <td>2017-04-14</td>\n",
       "      <td>1</td>\n",
       "    </tr>\n",
       "    <tr>\n",
       "      <th>106</th>\n",
       "      <td>0000f99513770170a1aba690daeeb8a96da4a39f11fc27...</td>\n",
       "      <td>2017-05-15</td>\n",
       "      <td>1</td>\n",
       "    </tr>\n",
       "    <tr>\n",
       "      <th>107</th>\n",
       "      <td>0000f99513770170a1aba690daeeb8a96da4a39f11fc27...</td>\n",
       "      <td>2017-06-14</td>\n",
       "      <td>1</td>\n",
       "    </tr>\n",
       "    <tr>\n",
       "      <th>108</th>\n",
       "      <td>0000f99513770170a1aba690daeeb8a96da4a39f11fc27...</td>\n",
       "      <td>2017-07-15</td>\n",
       "      <td>1</td>\n",
       "    </tr>\n",
       "    <tr>\n",
       "      <th>109</th>\n",
       "      <td>0000f99513770170a1aba690daeeb8a96da4a39f11fc27...</td>\n",
       "      <td>2017-08-15</td>\n",
       "      <td>1</td>\n",
       "    </tr>\n",
       "    <tr>\n",
       "      <th>110</th>\n",
       "      <td>0000f99513770170a1aba690daeeb8a96da4a39f11fc27...</td>\n",
       "      <td>2017-09-14</td>\n",
       "      <td>1</td>\n",
       "    </tr>\n",
       "    <tr>\n",
       "      <th>111</th>\n",
       "      <td>0000f99513770170a1aba690daeeb8a96da4a39f11fc27...</td>\n",
       "      <td>2017-10-14</td>\n",
       "      <td>1</td>\n",
       "    </tr>\n",
       "    <tr>\n",
       "      <th>112</th>\n",
       "      <td>0000f99513770170a1aba690daeeb8a96da4a39f11fc27...</td>\n",
       "      <td>2017-11-14</td>\n",
       "      <td>1</td>\n",
       "    </tr>\n",
       "    <tr>\n",
       "      <th>113</th>\n",
       "      <td>0000f99513770170a1aba690daeeb8a96da4a39f11fc27...</td>\n",
       "      <td>2017-12-17</td>\n",
       "      <td>1</td>\n",
       "    </tr>\n",
       "    <tr>\n",
       "      <th>114</th>\n",
       "      <td>0000f99513770170a1aba690daeeb8a96da4a39f11fc27...</td>\n",
       "      <td>2018-01-17</td>\n",
       "      <td>1</td>\n",
       "    </tr>\n",
       "    <tr>\n",
       "      <th>115</th>\n",
       "      <td>0000f99513770170a1aba690daeeb8a96da4a39f11fc27...</td>\n",
       "      <td>2018-02-05</td>\n",
       "      <td>1</td>\n",
       "    </tr>\n",
       "    <tr>\n",
       "      <th>116</th>\n",
       "      <td>0000f99513770170a1aba690daeeb8a96da4a39f11fc27...</td>\n",
       "      <td>2018-03-01</td>\n",
       "      <td>1</td>\n",
       "    </tr>\n",
       "  </tbody>\n",
       "</table>\n",
       "</div>"
      ],
      "text/plain": [
       "                                           customer_id         s_2  target\n",
       "104  0000f99513770170a1aba690daeeb8a96da4a39f11fc27...  2017-03-15       1\n",
       "105  0000f99513770170a1aba690daeeb8a96da4a39f11fc27...  2017-04-14       1\n",
       "106  0000f99513770170a1aba690daeeb8a96da4a39f11fc27...  2017-05-15       1\n",
       "107  0000f99513770170a1aba690daeeb8a96da4a39f11fc27...  2017-06-14       1\n",
       "108  0000f99513770170a1aba690daeeb8a96da4a39f11fc27...  2017-07-15       1\n",
       "109  0000f99513770170a1aba690daeeb8a96da4a39f11fc27...  2017-08-15       1\n",
       "110  0000f99513770170a1aba690daeeb8a96da4a39f11fc27...  2017-09-14       1\n",
       "111  0000f99513770170a1aba690daeeb8a96da4a39f11fc27...  2017-10-14       1\n",
       "112  0000f99513770170a1aba690daeeb8a96da4a39f11fc27...  2017-11-14       1\n",
       "113  0000f99513770170a1aba690daeeb8a96da4a39f11fc27...  2017-12-17       1\n",
       "114  0000f99513770170a1aba690daeeb8a96da4a39f11fc27...  2018-01-17       1\n",
       "115  0000f99513770170a1aba690daeeb8a96da4a39f11fc27...  2018-02-05       1\n",
       "116  0000f99513770170a1aba690daeeb8a96da4a39f11fc27...  2018-03-01       1"
      ]
     },
     "execution_count": 3,
     "metadata": {},
     "output_type": "execute_result"
    }
   ],
   "source": [
    "df_train[df_train['customer_id']== '0000f99513770170a1aba690daeeb8a96da4a39f11fc27da5c30a79db61c1e85'][['customer_id','s_2','target']]"
   ]
  },
  {
   "cell_type": "code",
   "execution_count": 4,
   "metadata": {},
   "outputs": [],
   "source": [
    "# # Before doing any transformation see the datatypes of the features\n",
    "# df_train.dtypes.to_csv('../ignore/final/before_transformations.csv')"
   ]
  },
  {
   "cell_type": "code",
   "execution_count": 5,
   "metadata": {},
   "outputs": [
    {
     "data": {
      "text/plain": [
       "d_63     0.0\n",
       "d_64     0.0\n",
       "d_66     0.0\n",
       "d_68     0.0\n",
       "b_30     0.0\n",
       "b_31     0.0\n",
       "b_38     0.0\n",
       "d_114    0.0\n",
       "d_116    0.0\n",
       "d_117    0.0\n",
       "d_120    0.0\n",
       "d_126    0.0\n",
       "dtype: float64"
      ]
     },
     "execution_count": 5,
     "metadata": {},
     "output_type": "execute_result"
    }
   ],
   "source": [
    "pipeline = Pipeline(steps=[])\n",
    "# 89% of d_66 column values were missing, but it has been filled with -1 while parquet generation.\n",
    "# Also assign the column names in sequence in which it appars in the file  \n",
    "categorical_cols = ['d_63', 'd_64', 'd_66', 'd_68', 'b_30', 'b_31', 'b_38', 'd_114', 'd_116',\n",
    "                     'd_117', 'd_120', 'd_126']\n",
    "df_train[categorical_cols].isnull().sum() / len(df_train)"
   ]
  },
  {
   "cell_type": "code",
   "execution_count": 6,
   "metadata": {},
   "outputs": [],
   "source": [
    "# # Check the percentage of missing values\n",
    "# null_series = df_train.isna().sum() / df_train.shape[0]\n",
    "# null_series.to_csv('../ignore/final/column_null_values_prop.csv')\n",
    "# del null_series"
   ]
  },
  {
   "cell_type": "code",
   "execution_count": 6,
   "metadata": {},
   "outputs": [
    {
     "name": "stdout",
     "output_type": "stream",
     "text": [
      "The unique values for column d_63 is [0 3 4 1 2 5]\n",
      "The unique values for column d_64 is [ 0  2 -1  3  1]\n",
      "The unique values for column d_66 is [-1  1  0]\n",
      "The unique values for column d_68 is [ 6  2  3 -1  5  4  0  1]\n",
      "The unique values for column b_30 is [ 0  2  1 -1]\n",
      "The unique values for column b_31 is [1 0]\n",
      "The unique values for column b_38 is [ 2  1  3  5  6  7  4 -1]\n",
      "The unique values for column d_114 is [ 1  0 -1]\n",
      "The unique values for column d_116 is [ 0 -1  1]\n",
      "The unique values for column d_117 is [ 5  0  7  3  2 -1  4  6]\n",
      "The unique values for column d_120 is [ 0  1 -1]\n",
      "The unique values for column d_126 is [ 2 -1  1  0]\n"
     ]
    }
   ],
   "source": [
    "# Check for the unique values for all the categorical features\n",
    "for i in categorical_cols:\n",
    "    print(f'The unique values for column {i} is {df_train[i].unique()}')"
   ]
  },
  {
   "cell_type": "code",
   "execution_count": 7,
   "metadata": {},
   "outputs": [
    {
     "name": "stdout",
     "output_type": "stream",
     "text": [
      "The shape of the original file is:(5531451, 191)\n"
     ]
    }
   ],
   "source": [
    "print(f'The shape of the original file is:{df_train.shape}')"
   ]
  },
  {
   "cell_type": "markdown",
   "metadata": {},
   "source": [
    "https://towardsdatascience.com/pipelines-custom-transformers-in-scikit-learn-the-step-by-step-guide-with-python-code-4a7d9b068156"
   ]
  },
  {
   "cell_type": "code",
   "execution_count": 8,
   "metadata": {},
   "outputs": [],
   "source": [
    "class PreProcessing(BaseEstimator, TransformerMixin):\n",
    "    def __init__(self, categorical_cols):\n",
    "        self.categorical_cols = categorical_cols\n",
    "\n",
    "    def fit(self, X, y=None):\n",
    "        # Get the list of columns that have missing values greater than equal to 40%\n",
    "        missing_perc = round((X.isnull().sum() / len(X)) * 100, 2)\n",
    "        # Prepare final List of columns to drop\n",
    "        self.cols_to_drop = missing_perc[missing_perc.ge(40)].index.tolist()\n",
    "\n",
    "        return self\n",
    "\n",
    "    def transform(self, X):\n",
    "        numeric_cols = list(set(X.columns.tolist(\n",
    "        )) - set(self.categorical_cols + self.cols_to_drop + ['target', 'customer_id', 's_2']))\n",
    "\n",
    "        # Impute the mean of the numeric columns\n",
    "        for col in numeric_cols:\n",
    "            # Check if the column has any null value, then only apply the imputation\n",
    "            if X[col].isnull().any():\n",
    "                X[col] = X[col].fillna(X[col].mean())\n",
    "                            \n",
    "            # Scale\n",
    "            mean = X[col].mean()\n",
    "            std = X[col].std()\n",
    "            if std > 0:\n",
    "                X[col] = ((X[col] - mean) / std).astype('float32')\n",
    "\n",
    "        X = X.drop(columns = self.cols_to_drop)\n",
    "\n",
    "        return X\n",
    "\n",
    "# use all the statements of a customer where all stmts are marked with the same target value\n",
    "preprocessing = PreProcessing(categorical_cols)\n",
    "df_processed = preprocessing.fit_transform(df_train)\n",
    "\n",
    "pipeline.steps.append(('preprocessing', preprocessing))"
   ]
  },
  {
   "cell_type": "code",
   "execution_count": 9,
   "metadata": {},
   "outputs": [
    {
     "name": "stdout",
     "output_type": "stream",
     "text": [
      "After processing the shape is :(5531451, 173)\n"
     ]
    }
   ],
   "source": [
    "del (df_train)\n",
    "print(f'After processing the shape is :{df_processed.shape}')"
   ]
  },
  {
   "cell_type": "code",
   "execution_count": 11,
   "metadata": {},
   "outputs": [],
   "source": [
    "# Check the correlation for the numeric columns\n",
    "df_corr = df_processed.drop(columns = categorical_cols + ['target','customer_id','s_2']).corr()\n",
    "df_corr.to_csv(\"../ignore/final/num_corr_results.csv\")"
   ]
  },
  {
   "cell_type": "code",
   "execution_count": 12,
   "metadata": {},
   "outputs": [],
   "source": [
    "from sklearn.linear_model import LinearRegression\n",
    "\n",
    "def sklearn_vif(data):\n",
    "\n",
    "    # initialize dictionaries\n",
    "    result = {}\n",
    "\n",
    "    # form input data for each exogenous variable\n",
    "    exogs = data.columns.to_list()\n",
    "    for exog in exogs:\n",
    "        # print(exog)\n",
    "        not_exog = [i for i in exogs if i != exog]\n",
    "        # exog would be for which the VIF has to be calculated based on the combination of other columns\n",
    "        X, y = data[not_exog], data[exog]  \n",
    "        # extract r-squared from the fit\n",
    "        r_squared = LinearRegression(n_jobs=12).fit(X, y).score(X, y)\n",
    "\n",
    "        # calculate VIF\n",
    "        vif = 1/(1 - r_squared)\n",
    "        result[exog] = vif\n",
    "    return result\n",
    "\n",
    "vif_data1 = sklearn_vif(df_processed.drop(columns = categorical_cols + ['target','customer_id','s_2']))\n",
    "# Convert the results from the dictionary to dataframe\n",
    "df_vif = pd.DataFrame({\n",
    "    'feature': vif_data1.keys(),\n",
    "    'VIF': vif_data1.values()\n",
    "})\n",
    "del(vif_data1)\n",
    "df_vif.to_csv(\"../ignore/final/num_VIF_data_results.csv\",index=False)"
   ]
  },
  {
   "cell_type": "code",
   "execution_count": 10,
   "metadata": {},
   "outputs": [],
   "source": [
    "# To avoid the re-running of the VIF code above\n",
    "df_vif = pd.read_csv(\"D:/Sakshi/DSBA_6156_SERJ/ignore/final/num_VIF_data_results.csv\")"
   ]
  },
  {
   "cell_type": "code",
   "execution_count": 11,
   "metadata": {},
   "outputs": [
    {
     "name": "stdout",
     "output_type": "stream",
     "text": [
      "The remaining columns of the data after dropping columns with high VIF : 143\n"
     ]
    }
   ],
   "source": [
    "# Plainly drop all the columns with higher VIF values\n",
    "df_processed.drop(columns = df_vif[df_vif['VIF']> 10]['feature'].to_list(), inplace=True)\n",
    "print(f'The remaining columns of the data after dropping columns with high VIF : {df_processed.shape[1]}')"
   ]
  },
  {
   "cell_type": "code",
   "execution_count": 12,
   "metadata": {},
   "outputs": [],
   "source": [
    "X, y = df_processed.drop(columns=['target','customer_id','s_2']), df_processed['target']\n",
    "X_train, X_test, y_train, y_test = train_test_split(X, y,\n",
    "                                                    test_size=0.2, random_state=2303, stratify = y)\n",
    "# del(df_processed, X, y)                                                  "
   ]
  },
  {
   "cell_type": "code",
   "execution_count": 13,
   "metadata": {},
   "outputs": [
    {
     "name": "stdout",
     "output_type": "stream",
     "text": [
      "Optimization terminated successfully.\n",
      "         Current function value: 0.285647\n",
      "         Iterations 9\n",
      "                           Logit Regression Results                           \n",
      "==============================================================================\n",
      "Dep. Variable:                 target   No. Observations:              4425160\n",
      "Model:                          Logit   Df Residuals:                  4425020\n",
      "Method:                           MLE   Df Model:                          139\n",
      "Date:                Tue, 13 Dec 2022   Pseudo R-squ.:                  0.4911\n",
      "Time:                        22:09:00   Log-Likelihood:            -1.2640e+06\n",
      "converged:                       True   LL-Null:                   -2.4840e+06\n",
      "Covariance Type:            nonrobust   LLR p-value:                     0.000\n",
      "==============================================================================\n",
      "                 coef    std err          z      P>|z|      [0.025      0.975]\n",
      "------------------------------------------------------------------------------\n",
      "p_2           -0.8056      0.003   -230.915      0.000      -0.812      -0.799\n",
      "d_39           0.1245      0.002     67.614      0.000       0.121       0.128\n",
      "r_1            0.1073      0.004     25.118      0.000       0.099       0.116\n",
      "s_3            0.1184      0.003     34.756      0.000       0.112       0.125\n",
      "d_41           0.0994      0.002     39.938      0.000       0.094       0.104\n",
      "b_3            0.2512      0.003     95.758      0.000       0.246       0.256\n",
      "d_43           0.1019      0.002     44.769      0.000       0.097       0.106\n",
      "d_44           0.0085      0.002      3.661      0.000       0.004       0.013\n",
      "b_4            0.3381      0.002    150.661      0.000       0.334       0.342\n",
      "d_45          -0.1147      0.004    -32.146      0.000      -0.122      -0.108\n",
      "b_5           -0.0875      0.004    -20.882      0.000      -0.096      -0.079\n",
      "r_2            0.0281      0.003      9.035      0.000       0.022       0.034\n",
      "d_46           0.1433      0.002     76.010      0.000       0.140       0.147\n",
      "d_47          -0.1669      0.003    -59.104      0.000      -0.172      -0.161\n",
      "d_48           0.0894      0.004     25.306      0.000       0.083       0.096\n",
      "d_49           0.0578      0.002     26.904      0.000       0.054       0.062\n",
      "b_6           -0.2654      0.012    -21.599      0.000      -0.289      -0.241\n",
      "b_8            0.1768      0.003     63.938      0.000       0.171       0.182\n",
      "d_51          -0.2510      0.004    -66.033      0.000      -0.258      -0.244\n",
      "b_9            0.1085      0.002     51.519      0.000       0.104       0.113\n",
      "r_3            0.1828      0.002     83.805      0.000       0.178       0.187\n",
      "d_52          -0.0545      0.002    -27.242      0.000      -0.058      -0.051\n",
      "p_3            0.0553      0.002     29.505      0.000       0.052       0.059\n",
      "b_10          -0.0066      0.004     -1.747      0.081      -0.014       0.001\n",
      "s_5            0.0317      0.002     17.499      0.000       0.028       0.035\n",
      "s_6            0.0304      0.002     13.364      0.000       0.026       0.035\n",
      "d_54          -0.0402      0.002    -24.142      0.000      -0.043      -0.037\n",
      "r_4            0.0319      0.003      9.968      0.000       0.026       0.038\n",
      "s_7            0.0610      0.003     17.706      0.000       0.054       0.068\n",
      "b_12          -0.1131      0.008    -13.687      0.000      -0.129      -0.097\n",
      "s_8           -0.0905      0.004    -23.977      0.000      -0.098      -0.083\n",
      "d_55          -0.0208      0.004     -5.930      0.000      -0.028      -0.014\n",
      "b_13           0.0991      0.006     17.793      0.000       0.088       0.110\n",
      "d_59          -0.0458      0.002    -26.005      0.000      -0.049      -0.042\n",
      "d_60           0.0910      0.003     36.173      0.000       0.086       0.096\n",
      "d_61           0.1021      0.005     22.393      0.000       0.093       0.111\n",
      "s_11          -0.1030      0.002    -53.308      0.000      -0.107      -0.099\n",
      "d_62          -0.2791      0.004    -77.595      0.000      -0.286      -0.272\n",
      "d_63          -0.0225      0.002    -11.842      0.000      -0.026      -0.019\n",
      "d_64           0.0185      0.001     12.504      0.000       0.016       0.021\n",
      "d_65           0.0388      0.002     15.959      0.000       0.034       0.044\n",
      "b_16           0.2607      0.004     66.778      0.000       0.253       0.268\n",
      "b_19           0.0716      0.003     28.434      0.000       0.067       0.077\n",
      "d_66          -0.1736      0.003    -61.134      0.000      -0.179      -0.168\n",
      "b_20          -0.1814      0.003    -53.084      0.000      -0.188      -0.175\n",
      "d_68          -0.0332      0.001    -22.304      0.000      -0.036      -0.030\n",
      "s_12           0.0397      0.002     23.068      0.000       0.036       0.043\n",
      "r_6            0.0116      0.002      5.582      0.000       0.008       0.016\n",
      "s_13           0.0724      0.003     24.533      0.000       0.067       0.078\n",
      "b_21           0.0271      0.002     10.891      0.000       0.022       0.032\n",
      "d_69           0.0009      0.001      0.960      0.337      -0.001       0.003\n",
      "b_22           0.0469      0.002     18.954      0.000       0.042       0.052\n",
      "d_70           0.0656      0.002     40.041      0.000       0.062       0.069\n",
      "d_71          -0.0557      0.006     -8.653      0.000      -0.068      -0.043\n",
      "d_72          -0.0150      0.002     -7.342      0.000      -0.019      -0.011\n",
      "s_15           0.0272      0.003     10.467      0.000       0.022       0.032\n",
      "p_4            0.1539      0.002     77.693      0.000       0.150       0.158\n",
      "b_24          -0.0078      0.003     -2.881      0.004      -0.013      -0.003\n",
      "r_7            0.0023      0.002      1.328      0.184      -0.001       0.006\n",
      "b_26           0.0141      0.002      7.133      0.000       0.010       0.018\n",
      "d_78          -0.0187      0.002     -9.826      0.000      -0.022      -0.015\n",
      "d_79          -0.0138      0.003     -5.037      0.000      -0.019      -0.008\n",
      "r_9            0.0052      0.001      3.526      0.000       0.002       0.008\n",
      "s_16           0.0031      0.002      1.636      0.102      -0.001       0.007\n",
      "d_80           0.0379      0.002     22.315      0.000       0.035       0.041\n",
      "r_10          -0.0032      0.003     -1.244      0.214      -0.008       0.002\n",
      "r_11           0.0614      0.001     41.712      0.000       0.059       0.064\n",
      "b_27           0.0020      0.002      1.234      0.217      -0.001       0.005\n",
      "d_81          -0.0014      0.002     -0.634      0.526      -0.006       0.003\n",
      "d_82           0.0988      0.003     39.105      0.000       0.094       0.104\n",
      "s_17           0.0119      0.001      8.396      0.000       0.009       0.015\n",
      "r_12          -0.0221      0.002    -10.961      0.000      -0.026      -0.018\n",
      "d_83           0.0108      0.001      7.221      0.000       0.008       0.014\n",
      "r_14           0.0128      0.002      7.969      0.000       0.010       0.016\n",
      "r_15           0.0013      0.002      0.632      0.527      -0.003       0.005\n",
      "d_84           0.0069      0.003      2.252      0.024       0.001       0.013\n",
      "r_16          -0.0313      0.002    -16.728      0.000      -0.035      -0.028\n",
      "b_30           0.0554      0.006      9.553      0.000       0.044       0.067\n",
      "s_18           0.0342      0.002     19.285      0.000       0.031       0.038\n",
      "d_86          -0.0576      0.002    -25.269      0.000      -0.062      -0.053\n",
      "d_87          -0.0058      0.002     -3.523      0.000      -0.009      -0.003\n",
      "r_18          -0.0043      0.001     -3.342      0.001      -0.007      -0.002\n",
      "b_31          -2.0373      0.012   -175.744      0.000      -2.060      -2.015\n",
      "s_19           0.0081      0.002      5.231      0.000       0.005       0.011\n",
      "r_19          -0.0372      0.001    -25.195      0.000      -0.040      -0.034\n",
      "b_32          -0.0267      0.001    -19.266      0.000      -0.029      -0.024\n",
      "s_20           0.0196      0.002      8.964      0.000       0.015       0.024\n",
      "r_20          -0.0089      0.003     -3.377      0.001      -0.014      -0.004\n",
      "r_21           0.0324      0.003     12.537      0.000       0.027       0.037\n",
      "d_89          -0.0398      0.002    -18.351      0.000      -0.044      -0.036\n",
      "r_22          -0.0147      0.001    -11.648      0.000      -0.017      -0.012\n",
      "r_23           0.0138      0.001     10.315      0.000       0.011       0.016\n",
      "d_91          -0.0572      0.003    -19.596      0.000      -0.063      -0.051\n",
      "d_92          -0.0060      0.004     -1.585      0.113      -0.013       0.001\n",
      "d_93           0.0211      0.002      9.282      0.000       0.017       0.026\n",
      "d_94          -0.0161      0.004     -3.630      0.000      -0.025      -0.007\n",
      "r_24          -0.0124      0.003     -4.550      0.000      -0.018      -0.007\n",
      "r_25          -0.0364      0.002    -18.351      0.000      -0.040      -0.033\n",
      "d_96          -0.0275      0.002    -12.405      0.000      -0.032      -0.023\n",
      "s_23           0.0069      0.003      2.368      0.018       0.001       0.013\n",
      "s_25           0.0010      0.001      0.733      0.464      -0.002       0.004\n",
      "s_26          -0.0194      0.003     -6.172      0.000      -0.026      -0.013\n",
      "d_102         -0.0250      0.002    -12.300      0.000      -0.029      -0.021\n",
      "d_106          0.0011      0.003      0.385      0.700      -0.005       0.007\n",
      "d_107          0.0341      0.002     16.845      0.000       0.030       0.038\n",
      "b_36           0.0118      0.002      5.017      0.000       0.007       0.016\n",
      "r_26           0.0196      0.002      9.861      0.000       0.016       0.023\n",
      "r_27          -0.1027      0.002    -64.361      0.000      -0.106      -0.100\n",
      "b_38           0.0129      0.001      8.843      0.000       0.010       0.016\n",
      "d_108          0.0192      0.001     13.528      0.000       0.016       0.022\n",
      "d_109         -0.0127      0.002     -5.359      0.000      -0.017      -0.008\n",
      "d_111          0.0635      0.002     26.759      0.000       0.059       0.068\n",
      "d_112         -0.1295      0.002    -64.922      0.000      -0.133      -0.126\n",
      "b_40           0.0021      0.002      1.061      0.289      -0.002       0.006\n",
      "s_27          -0.0233      0.001    -16.821      0.000      -0.026      -0.021\n",
      "d_113         -0.0154      0.002     -6.893      0.000      -0.020      -0.011\n",
      "d_114         -0.1310      0.004    -29.581      0.000      -0.140      -0.122\n",
      "d_115         -0.0526      0.003    -19.196      0.000      -0.058      -0.047\n",
      "d_116          0.0245      0.018      1.390      0.165      -0.010       0.059\n",
      "d_117         -0.0217      0.001    -26.864      0.000      -0.023      -0.020\n",
      "d_120          0.0279      0.005      5.754      0.000       0.018       0.037\n",
      "d_121          0.1639      0.003     55.543      0.000       0.158       0.170\n",
      "d_122         -0.0161      0.002     -6.477      0.000      -0.021      -0.011\n",
      "d_123          0.0148      0.002      6.493      0.000       0.010       0.019\n",
      "d_124          0.0399      0.002     18.239      0.000       0.036       0.044\n",
      "d_125          0.0117      0.002      5.373      0.000       0.007       0.016\n",
      "d_126         -0.0142      0.003     -4.707      0.000      -0.020      -0.008\n",
      "d_127         -0.1099      0.004    -27.488      0.000      -0.118      -0.102\n",
      "d_128         -0.0186      0.003     -7.132      0.000      -0.024      -0.013\n",
      "d_129         -0.1354      0.003    -52.418      0.000      -0.140      -0.130\n",
      "b_41           0.0295      0.002     17.131      0.000       0.026       0.033\n",
      "d_130          0.0271      0.002     13.279      0.000       0.023       0.031\n",
      "d_131          0.1843      0.003     56.205      0.000       0.178       0.191\n",
      "d_133         -0.1106      0.002    -54.884      0.000      -0.115      -0.107\n",
      "r_28           0.0035      0.001      2.908      0.004       0.001       0.006\n",
      "d_136         -0.0028      0.002     -1.331      0.183      -0.007       0.001\n",
      "d_138          0.0358      0.002     17.232      0.000       0.032       0.040\n",
      "d_140          0.0172      0.001     12.552      0.000       0.014       0.020\n",
      "d_144         -0.0259      0.002    -15.991      0.000      -0.029      -0.023\n",
      "d_145         -0.0071      0.001     -5.029      0.000      -0.010      -0.004\n",
      "==============================================================================\n"
     ]
    }
   ],
   "source": [
    "# Model\n",
    "sm_logit1 = sm.Logit(y_train,X_train).fit()\n",
    "print(sm_logit1.summary())"
   ]
  },
  {
   "cell_type": "code",
   "execution_count": 14,
   "metadata": {},
   "outputs": [
    {
     "name": "stdout",
     "output_type": "stream",
     "text": [
      "The columns remaining after removing insignificant ones : (5531451, 126)\n",
      "Optimization terminated successfully.\n",
      "         Current function value: 0.285650\n",
      "         Iterations 9\n",
      "                           Logit Regression Results                           \n",
      "==============================================================================\n",
      "Dep. Variable:                 target   No. Observations:              4425160\n",
      "Model:                          Logit   Df Residuals:                  4425034\n",
      "Method:                           MLE   Df Model:                          125\n",
      "Date:                Tue, 13 Dec 2022   Pseudo R-squ.:                  0.4911\n",
      "Time:                        22:12:17   Log-Likelihood:            -1.2640e+06\n",
      "converged:                       True   LL-Null:                   -2.4840e+06\n",
      "Covariance Type:            nonrobust   LLR p-value:                     0.000\n",
      "==============================================================================\n",
      "                 coef    std err          z      P>|z|      [0.025      0.975]\n",
      "------------------------------------------------------------------------------\n",
      "p_2           -0.8049      0.003   -233.100      0.000      -0.812      -0.798\n",
      "d_39           0.1245      0.002     67.613      0.000       0.121       0.128\n",
      "r_1            0.1049      0.002     43.304      0.000       0.100       0.110\n",
      "s_3            0.1186      0.003     34.821      0.000       0.112       0.125\n",
      "d_41           0.0993      0.002     39.965      0.000       0.094       0.104\n",
      "b_3            0.2511      0.003     95.794      0.000       0.246       0.256\n",
      "d_43           0.1017      0.002     44.720      0.000       0.097       0.106\n",
      "d_44           0.0079      0.002      3.428      0.001       0.003       0.012\n",
      "b_4            0.3383      0.002    150.882      0.000       0.334       0.343\n",
      "d_45          -0.1145      0.004    -32.110      0.000      -0.121      -0.108\n",
      "b_5           -0.0879      0.004    -21.010      0.000      -0.096      -0.080\n",
      "r_2            0.0284      0.003      9.153      0.000       0.022       0.034\n",
      "d_46           0.1434      0.002     76.418      0.000       0.140       0.147\n",
      "d_47          -0.1667      0.003    -59.158      0.000      -0.172      -0.161\n",
      "d_48           0.0893      0.004     25.280      0.000       0.082       0.096\n",
      "d_49           0.0580      0.002     27.969      0.000       0.054       0.062\n",
      "b_6           -0.2684      0.012    -21.900      0.000      -0.292      -0.244\n",
      "b_8            0.1768      0.003     63.923      0.000       0.171       0.182\n",
      "d_51          -0.2539      0.003    -73.971      0.000      -0.261      -0.247\n",
      "b_9            0.1083      0.002     51.696      0.000       0.104       0.112\n",
      "r_3            0.1826      0.002     83.956      0.000       0.178       0.187\n",
      "d_52          -0.0547      0.002    -27.360      0.000      -0.059      -0.051\n",
      "p_3            0.0547      0.002     29.627      0.000       0.051       0.058\n",
      "s_5            0.0318      0.002     17.556      0.000       0.028       0.035\n",
      "s_6            0.0306      0.002     13.555      0.000       0.026       0.035\n",
      "d_54          -0.0403      0.002    -24.215      0.000      -0.044      -0.037\n",
      "r_4            0.0330      0.003     11.153      0.000       0.027       0.039\n",
      "s_7            0.0609      0.003     17.704      0.000       0.054       0.068\n",
      "b_12          -0.1131      0.008    -13.668      0.000      -0.129      -0.097\n",
      "s_8           -0.0905      0.004    -23.994      0.000      -0.098      -0.083\n",
      "d_55          -0.0206      0.004     -5.883      0.000      -0.028      -0.014\n",
      "b_13           0.0986      0.006     17.706      0.000       0.088       0.109\n",
      "d_59          -0.0457      0.002    -25.979      0.000      -0.049      -0.042\n",
      "d_60           0.0909      0.003     36.150      0.000       0.086       0.096\n",
      "d_61           0.1020      0.005     22.367      0.000       0.093       0.111\n",
      "s_11          -0.1029      0.002    -53.275      0.000      -0.107      -0.099\n",
      "d_62          -0.2790      0.004    -77.627      0.000      -0.286      -0.272\n",
      "d_63          -0.0226      0.002    -11.890      0.000      -0.026      -0.019\n",
      "d_64           0.0188      0.001     12.978      0.000       0.016       0.022\n",
      "d_65           0.0389      0.002     15.981      0.000       0.034       0.044\n",
      "b_16           0.2616      0.004     67.546      0.000       0.254       0.269\n",
      "b_19           0.0713      0.003     28.400      0.000       0.066       0.076\n",
      "d_66          -0.1739      0.003    -61.246      0.000      -0.179      -0.168\n",
      "b_20          -0.1818      0.003    -53.300      0.000      -0.188      -0.175\n",
      "d_68          -0.0325      0.001    -23.334      0.000      -0.035      -0.030\n",
      "s_12           0.0397      0.002     23.052      0.000       0.036       0.043\n",
      "r_6            0.0130      0.002      7.431      0.000       0.010       0.016\n",
      "s_13           0.0723      0.003     24.545      0.000       0.067       0.078\n",
      "b_21           0.0290      0.002     12.857      0.000       0.025       0.033\n",
      "b_22           0.0471      0.002     19.073      0.000       0.042       0.052\n",
      "d_70           0.0655      0.002     40.020      0.000       0.062       0.069\n",
      "d_71          -0.0561      0.006     -8.717      0.000      -0.069      -0.043\n",
      "d_72          -0.0155      0.002     -8.220      0.000      -0.019      -0.012\n",
      "s_15           0.0272      0.003     10.463      0.000       0.022       0.032\n",
      "p_4            0.1539      0.002     78.382      0.000       0.150       0.158\n",
      "b_24          -0.0080      0.003     -2.933      0.003      -0.013      -0.003\n",
      "b_26           0.0143      0.002      7.270      0.000       0.010       0.018\n",
      "d_78          -0.0194      0.002    -10.347      0.000      -0.023      -0.016\n",
      "d_79          -0.0136      0.003     -4.970      0.000      -0.019      -0.008\n",
      "r_9            0.0053      0.001      3.644      0.000       0.002       0.008\n",
      "d_80           0.0381      0.002     22.398      0.000       0.035       0.041\n",
      "r_11           0.0615      0.001     41.803      0.000       0.059       0.064\n",
      "d_82           0.0988      0.003     39.113      0.000       0.094       0.104\n",
      "s_17           0.0119      0.001      8.430      0.000       0.009       0.015\n",
      "r_12          -0.0221      0.002    -10.925      0.000      -0.026      -0.018\n",
      "d_83           0.0110      0.001      7.457      0.000       0.008       0.014\n",
      "r_14           0.0123      0.002      7.883      0.000       0.009       0.015\n",
      "d_84           0.0068      0.003      2.246      0.025       0.001       0.013\n",
      "r_16          -0.0311      0.002    -16.675      0.000      -0.035      -0.027\n",
      "b_30           0.0554      0.006      9.569      0.000       0.044       0.067\n",
      "s_18           0.0341      0.002     19.266      0.000       0.031       0.038\n",
      "d_86          -0.0577      0.002    -25.294      0.000      -0.062      -0.053\n",
      "d_87          -0.0058      0.002     -3.558      0.000      -0.009      -0.003\n",
      "r_18          -0.0042      0.001     -3.304      0.001      -0.007      -0.002\n",
      "b_31          -2.0441      0.010   -200.578      0.000      -2.064      -2.024\n",
      "s_19           0.0083      0.002      5.356      0.000       0.005       0.011\n",
      "r_19          -0.0368      0.001    -26.597      0.000      -0.040      -0.034\n",
      "b_32          -0.0267      0.001    -19.295      0.000      -0.029      -0.024\n",
      "s_20           0.0194      0.002      8.893      0.000       0.015       0.024\n",
      "r_20          -0.0092      0.003     -3.459      0.001      -0.014      -0.004\n",
      "r_21           0.0337      0.002     14.284      0.000       0.029       0.038\n",
      "d_89          -0.0401      0.002    -19.865      0.000      -0.044      -0.036\n",
      "r_22          -0.0146      0.001    -11.845      0.000      -0.017      -0.012\n",
      "r_23           0.0139      0.001     10.372      0.000       0.011       0.016\n",
      "d_91          -0.0557      0.003    -19.651      0.000      -0.061      -0.050\n",
      "d_93           0.0216      0.002      9.511      0.000       0.017       0.026\n",
      "d_94          -0.0161      0.004     -3.612      0.000      -0.025      -0.007\n",
      "r_24          -0.0121      0.003     -4.736      0.000      -0.017      -0.007\n",
      "r_25          -0.0364      0.002    -18.457      0.000      -0.040      -0.032\n",
      "d_96          -0.0275      0.002    -12.402      0.000      -0.032      -0.023\n",
      "s_23           0.0068      0.003      2.352      0.019       0.001       0.012\n",
      "s_26          -0.0194      0.003     -6.156      0.000      -0.026      -0.013\n",
      "d_102         -0.0249      0.002    -12.284      0.000      -0.029      -0.021\n",
      "d_107          0.0339      0.002     16.788      0.000       0.030       0.038\n",
      "b_36           0.0118      0.002      5.014      0.000       0.007       0.016\n",
      "r_26           0.0195      0.002      9.823      0.000       0.016       0.023\n",
      "r_27          -0.1027      0.002    -64.347      0.000      -0.106      -0.100\n",
      "b_38           0.0129      0.001      8.861      0.000       0.010       0.016\n",
      "d_108          0.0192      0.001     13.506      0.000       0.016       0.022\n",
      "d_109         -0.0127      0.002     -5.341      0.000      -0.017      -0.008\n",
      "d_111          0.0634      0.002     26.750      0.000       0.059       0.068\n",
      "d_112         -0.1294      0.002    -64.989      0.000      -0.133      -0.126\n",
      "s_27          -0.0233      0.001    -16.803      0.000      -0.026      -0.021\n",
      "d_113         -0.0150      0.002     -6.795      0.000      -0.019      -0.011\n",
      "d_114         -0.1292      0.004    -30.360      0.000      -0.138      -0.121\n",
      "d_115         -0.0527      0.003    -19.246      0.000      -0.058      -0.047\n",
      "d_117         -0.0216      0.001    -26.794      0.000      -0.023      -0.020\n",
      "d_120          0.0296      0.005      6.364      0.000       0.020       0.039\n",
      "d_121          0.1630      0.003     56.955      0.000       0.157       0.169\n",
      "d_122         -0.0157      0.002     -6.377      0.000      -0.020      -0.011\n",
      "d_123          0.0156      0.002      6.961      0.000       0.011       0.020\n",
      "d_124          0.0402      0.002     18.474      0.000       0.036       0.044\n",
      "d_125          0.0120      0.002      5.573      0.000       0.008       0.016\n",
      "d_126         -0.0133      0.003     -4.534      0.000      -0.019      -0.008\n",
      "d_127         -0.1103      0.004    -27.632      0.000      -0.118      -0.102\n",
      "d_128         -0.0190      0.003     -7.341      0.000      -0.024      -0.014\n",
      "d_129         -0.1353      0.003    -52.426      0.000      -0.140      -0.130\n",
      "b_41           0.0295      0.002     17.166      0.000       0.026       0.033\n",
      "d_130          0.0269      0.002     13.231      0.000       0.023       0.031\n",
      "d_131          0.1842      0.003     56.197      0.000       0.178       0.191\n",
      "d_133         -0.1105      0.002    -55.166      0.000      -0.114      -0.107\n",
      "r_28           0.0036      0.001      2.971      0.003       0.001       0.006\n",
      "d_138          0.0337      0.001     25.043      0.000       0.031       0.036\n",
      "d_140          0.0172      0.001     12.560      0.000       0.014       0.020\n",
      "d_144         -0.0260      0.002    -16.024      0.000      -0.029      -0.023\n",
      "d_145         -0.0072      0.001     -5.096      0.000      -0.010      -0.004\n",
      "==============================================================================\n"
     ]
    }
   ],
   "source": [
    "del(df_processed)\n",
    "# Remove the insignificant features and train the model again. I will keep the alpha level as 0.05\n",
    "logit_pvalues = round(sm_logit1.pvalues,3)\n",
    "high_pval_col = logit_pvalues.index[logit_pvalues > 0.05]\n",
    "\n",
    "# Drop these columns\n",
    "X = X.drop(columns = high_pval_col)\n",
    "print(f'The columns remaining after removing insignificant ones : {X.shape}')\n",
    "X_train, X_test,y_train, y_test= train_test_split(X, y, test_size=0.2,\n",
    "                                                     random_state=2303, stratify = y)\n",
    "\n",
    "# Model\n",
    "sm_logit2 = sm.Logit(y_train,X_train).fit()\n",
    "print(sm_logit2.summary())"
   ]
  },
  {
   "cell_type": "code",
   "execution_count": 15,
   "metadata": {},
   "outputs": [
    {
     "data": {
      "text/plain": [
       "array([[768007,  62710],\n",
       "       [ 81825, 193749]], dtype=int64)"
      ]
     },
     "execution_count": 15,
     "metadata": {},
     "output_type": "execute_result"
    }
   ],
   "source": [
    "# Calculate the confusion matrix\n",
    "prediction_probab = sm_logit2.predict(X_test)\n",
    "prediction = list(map(round,prediction_probab))\n",
    "confusion_matrix(y_test,prediction)"
   ]
  },
  {
   "cell_type": "code",
   "execution_count": 16,
   "metadata": {},
   "outputs": [
    {
     "name": "stdout",
     "output_type": "stream",
     "text": [
      "Validation accuracy is: 0.8693517347605648\n",
      "Logistic : ROC AUC = 0.931\n"
     ]
    },
    {
     "data": {
      "image/png": "[encoded data removed]",
      "text/plain": [
       "<Figure size 640x480 with 1 Axes>"
      ]
     },
     "metadata": {},
     "output_type": "display_data"
    }
   ],
   "source": [
    "print(f'Validation accuracy is: {accuracy_score(y_test, prediction)}')\n",
    "\n",
    "# Calculate roc metric \n",
    "print('Logistic : ROC AUC = %.3f' % (roc_auc_score(y_test,prediction_probab)))\n",
    "\n",
    "fpr,tpr,_ = roc_curve(y_test,prediction_probab)\n",
    "plt.plot(fpr,tpr,marker = '.')\n",
    "plt.xlabel('False Positive Rate')\n",
    "plt.ylabel('True Positive Rate')\n",
    "plt.show()"
   ]
  },
  {
   "cell_type": "code",
   "execution_count": 17,
   "metadata": {},
   "outputs": [],
   "source": [
    "# Clear the memory before loading the test data to predict\n",
    "del(fpr,tpr,X_test,X_train,y_test,y_train,X,y,prediction,prediction_probab)"
   ]
  },
  {
   "cell_type": "code",
   "execution_count": 18,
   "metadata": {},
   "outputs": [],
   "source": [
    "def execute_model(df):\n",
    "    # Just add extra columns with 0 value so that pipeline does not fail --> these are the extra columns that we had in the training data\n",
    "    extra_cols = ['target']\n",
    "    # Concatenate the dataframe of extra columns with the dataframe of the test data\n",
    "    df = pd.concat([\n",
    "        df,\n",
    "        pd.DataFrame(np.zeros((df.shape[0], len(extra_cols))), columns=extra_cols)\n",
    "    ], axis=1)\n",
    "\n",
    "    # Use the pipeline to transform\n",
    "    X = pipeline.transform(df)\n",
    "\n",
    "    # Drop target & the insignificant variables found during the training using statsmodel p-value\n",
    "    X.drop(columns=['target','customer_id','s_2'] + df_vif[df_vif['VIF']> 10]['feature'].to_list()\n",
    "                    + high_pval_col.tolist(), inplace=True)\n",
    "\n",
    "    # return log_reg.predict(X), log_reg.predict_proba(X)\n",
    "    # In the statsmodel predict will give the probability\n",
    "    return list(map(round,sm_logit2.predict(X))), sm_logit2.predict(X).tolist()\n",
    "    "
   ]
  },
  {
   "cell_type": "code",
   "execution_count": 19,
   "metadata": {},
   "outputs": [],
   "source": [
    "del(sm_logit1)\n",
    "df_test = pd.read_parquet('D:/Sakshi/DSBA_6156_SERJ/data/test.parquet')\n",
    "df_test.columns= df_test.columns.str.lower()\n",
    "# Define the result mdf\n",
    "mdf = pd.DataFrame(columns=['customer_id', 's_2', 'pred', 'proba'])\n",
    "y, y_proba = execute_model(df_test)\n",
    "\n",
    "mdf = pd.concat([\n",
    "    mdf,\n",
    "    pd.DataFrame({\n",
    "        'customer_id': df_test['customer_id'].values,\n",
    "        's_2': df_test['s_2'].values,\n",
    "        'pred': y,\n",
    "        'proba': y_proba\n",
    "    })\n",
    "]) \n",
    "# mdf.to_csv('../ignore/final/logisticregression_baseline_prediction.csv', index=False)"
   ]
  },
  {
   "cell_type": "code",
   "execution_count": 20,
   "metadata": {},
   "outputs": [
    {
     "data": {
      "text/plain": [
       "dtype('<M8[ns]')"
      ]
     },
     "execution_count": 20,
     "metadata": {},
     "output_type": "execute_result"
    }
   ],
   "source": [
    "mdf['s_2'] = pd.to_datetime(mdf['s_2'])\n",
    "mdf['s_2'].dtype"
   ]
  },
  {
   "cell_type": "markdown",
   "metadata": {},
   "source": [
    "## Just take the last statement probability of each customer"
   ]
  },
  {
   "cell_type": "code",
   "execution_count": 21,
   "metadata": {},
   "outputs": [],
   "source": [
    "# Get the last statement probability of each of the customer\n",
    "df_result_last = mdf.sort_values(by = 's_2').groupby('customer_id')[['customer_id','proba']].tail(1)\n",
    "df_result_last.rename(columns= {'proba' : 'prediction'},inplace=True)\n",
    "df_result_last.head()\n",
    "df_result_last.to_csv('D:/Sakshi/DSBA_6156_SERJ/ignore/ppt_analysis/logistic_baseline_laststmt_submission.csv', index=False)"
   ]
  },
  {
   "cell_type": "markdown",
   "metadata": {},
   "source": [
    "#### Weighted probabilities using Joe's Code (test data) for the last 3 stmts"
   ]
  },
  {
   "cell_type": "code",
   "execution_count": 22,
   "metadata": {},
   "outputs": [],
   "source": [
    "# Defining the outcome weighting.\n",
    "\n",
    "def conditions(x):\n",
    "    # Customer has 3 statements:\n",
    "    if   x == 3:   return 0.1\n",
    "    elif x == 6:   return 0.15\n",
    "    elif x == 9:   return 0.75\n",
    "    \n",
    "    # Customer has 2 statements:\n",
    "    elif x == 2:   return 0.2\n",
    "    elif x == 4:   return 0.8\n",
    "    \n",
    "    # Customer has 1 statement:\n",
    "    elif x == 1:   return 1.0 \n",
    "    else:          return \"error\""
   ]
  },
  {
   "cell_type": "code",
   "execution_count": 23,
   "metadata": {},
   "outputs": [],
   "source": [
    "# Take the last 3 statements of each customer\n",
    "mdf1 = mdf.sort_values('s_2').groupby('customer_id').tail(3)\n",
    "# if the customer has last 3 stmts the ranking will be as - 1st to the older stmt and 3rd rank to the latest stmt. \n",
    "mdf1[\"statement_num\"] = mdf1.groupby(\"customer_id\")[\"s_2\"].rank(method=\"first\", ascending=True)\n",
    "# The statement_count variable will give the count of the statements for each customer (i.e. to know if they have all the 3 or less than that)\n",
    "mdf1['statement_count'] = mdf1.groupby('customer_id')['statement_num'].transform('max')\n",
    "\n",
    "# Create a number so we can handle the case where a customer had only 1 or 2 statements. \n",
    "# Multiplied to give me a unique value for each case. See conditions() above.\n",
    "mdf1['statement_checksum'] = (mdf1['statement_count']) * mdf1['statement_num']\n",
    "\n",
    "# Assign the weights to the statements\n",
    "mdf1['statement_weight'] = mdf1['statement_checksum'].apply(conditions)\n",
    "\n",
    "# Calculating the weighted sum\n",
    "mdf1 ['prediction'] = mdf1['proba'] * mdf1['statement_weight']\n",
    "\n",
    "mdf1 = mdf1[['customer_id', 'prediction']]\n",
    "\n",
    "# Grouping those weighted sums by customer_id to give granularity of 1 proba per customer\n",
    "mdf1 = mdf1.groupby('customer_id').sum()\n",
    "# Bring the customer_id from index to column\n",
    "mdf1.reset_index(inplace=True)\n",
    "# Send the data to the file\n",
    "mdf1.to_csv('D:/Sakshi/DSBA_6156_SERJ/ignore/ppt_analysis/logistic_baseline_weighted_last3_sub.csv', index=False)"
   ]
  }
 ],
 "metadata": {
  "kernelspec": {
   "display_name": "Python 3.10.4 ('venv': venv)",
   "language": "python",
   "name": "python3"
  },
  "language_info": {
   "codemirror_mode": {
    "name": "ipython",
    "version": 3
   },
   "file_extension": ".py",
   "mimetype": "text/x-python",
   "name": "python",
   "nbconvert_exporter": "python",
   "pygments_lexer": "ipython3",
   "version": "3.10.4"
  },
  "orig_nbformat": 4,
  "vscode": {
   "interpreter": {
    "hash": "89a73c21ecc9236fdbb84984cd9e615404f96fb7d0e8948f841b3ff5dee670ca"
   }
  }
 },
 "nbformat": 4,
 "nbformat_minor": 2
}

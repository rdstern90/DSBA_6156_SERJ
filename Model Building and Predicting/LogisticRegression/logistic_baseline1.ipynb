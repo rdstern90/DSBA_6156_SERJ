{
 "cells": [
  {
   "attachments": {},
   "cell_type": "markdown",
   "metadata": {},
   "source": [
    "### If the customer has defaulted assigning last statement target value to 1 & others to 0"
   ]
  },
  {
   "cell_type": "code",
   "execution_count": 1,
   "metadata": {},
   "outputs": [],
   "source": [
    "import pandas as pd\n",
    "import numpy as np\n",
    "from sklearn.base import BaseEstimator, TransformerMixin\n",
    "from sklearn.impute import SimpleImputer\n",
    "from sklearn.pipeline import Pipeline\n",
    "from sklearn.preprocessing import OneHotEncoder\n",
    "from sklearn.preprocessing import StandardScaler\n",
    "from sklearn.compose import ColumnTransformer\n",
    "from sklearn.model_selection import train_test_split\n",
    "import statsmodels.api as sm\n",
    "from sklearn.linear_model import LogisticRegression\n",
    "from sklearn.metrics import classification_report,confusion_matrix,roc_curve,roc_auc_score, accuracy_score\n",
    "import matplotlib.pyplot as plt"
   ]
  },
  {
   "cell_type": "code",
   "execution_count": 2,
   "metadata": {},
   "outputs": [],
   "source": [
    "# Read training data \n",
    "df_train_x = pd.read_parquet('D:/Sakshi/DSBA_6156_SERJ/data/train.parquet')\n",
    "df_train_x.columns = df_train_x.columns.str.lower()\n",
    "# Read training data labels\n",
    "df_train_y = pd.read_csv('D:/Sakshi/DSBA_6156_SERJ/data/train_labels.csv')\n",
    "df_train_y.columns = df_train_y.columns.str.lower()\n",
    "df_train_y = df_train_y.set_index('customer_id')\n",
    "\n",
    "df_train_x = df_train_x.sort_values(['customer_id', 's_2'])\n",
    "df_train = pd.merge(df_train_x, df_train_y, on='customer_id')\n",
    "del(df_train_x, df_train_y)"
   ]
  },
  {
   "cell_type": "code",
   "execution_count": 18,
   "metadata": {},
   "outputs": [],
   "source": [
    "# Before doing any transformation see the datatypes of the features\n",
    "df_train.dtypes.to_csv('../ignore/final/before_transformations.csv')"
   ]
  },
  {
   "cell_type": "code",
   "execution_count": 3,
   "metadata": {},
   "outputs": [],
   "source": [
    "df_train['last_statement_flag'] = (df_train.groupby('customer_id')['s_2']\n",
    "                      .rank(method='dense', ascending=False)\n",
    "                      .astype(int)\n",
    "                   )\n",
    "df_train['last_statement_target'] = df_train['target']*df_train['last_statement_flag']\\\n",
    "   .apply(lambda x: 1 if x==1 else 0)                 "
   ]
  },
  {
   "cell_type": "code",
   "execution_count": 4,
   "metadata": {},
   "outputs": [
    {
     "data": {
      "text/html": [
       "<div>\n",
       "<style scoped>\n",
       "    .dataframe tbody tr th:only-of-type {\n",
       "        vertical-align: middle;\n",
       "    }\n",
       "\n",
       "    .dataframe tbody tr th {\n",
       "        vertical-align: top;\n",
       "    }\n",
       "\n",
       "    .dataframe thead th {\n",
       "        text-align: right;\n",
       "    }\n",
       "</style>\n",
       "<table border=\"1\" class=\"dataframe\">\n",
       "  <thead>\n",
       "    <tr style=\"text-align: right;\">\n",
       "      <th></th>\n",
       "      <th>customer_id</th>\n",
       "      <th>s_2</th>\n",
       "      <th>target</th>\n",
       "      <th>last_statement_flag</th>\n",
       "      <th>last_statement_target</th>\n",
       "    </tr>\n",
       "  </thead>\n",
       "  <tbody>\n",
       "    <tr>\n",
       "      <th>104</th>\n",
       "      <td>0000f99513770170a1aba690daeeb8a96da4a39f11fc27...</td>\n",
       "      <td>2017-03-15</td>\n",
       "      <td>1</td>\n",
       "      <td>13</td>\n",
       "      <td>0</td>\n",
       "    </tr>\n",
       "    <tr>\n",
       "      <th>105</th>\n",
       "      <td>0000f99513770170a1aba690daeeb8a96da4a39f11fc27...</td>\n",
       "      <td>2017-04-14</td>\n",
       "      <td>1</td>\n",
       "      <td>12</td>\n",
       "      <td>0</td>\n",
       "    </tr>\n",
       "    <tr>\n",
       "      <th>106</th>\n",
       "      <td>0000f99513770170a1aba690daeeb8a96da4a39f11fc27...</td>\n",
       "      <td>2017-05-15</td>\n",
       "      <td>1</td>\n",
       "      <td>11</td>\n",
       "      <td>0</td>\n",
       "    </tr>\n",
       "    <tr>\n",
       "      <th>107</th>\n",
       "      <td>0000f99513770170a1aba690daeeb8a96da4a39f11fc27...</td>\n",
       "      <td>2017-06-14</td>\n",
       "      <td>1</td>\n",
       "      <td>10</td>\n",
       "      <td>0</td>\n",
       "    </tr>\n",
       "    <tr>\n",
       "      <th>108</th>\n",
       "      <td>0000f99513770170a1aba690daeeb8a96da4a39f11fc27...</td>\n",
       "      <td>2017-07-15</td>\n",
       "      <td>1</td>\n",
       "      <td>9</td>\n",
       "      <td>0</td>\n",
       "    </tr>\n",
       "    <tr>\n",
       "      <th>109</th>\n",
       "      <td>0000f99513770170a1aba690daeeb8a96da4a39f11fc27...</td>\n",
       "      <td>2017-08-15</td>\n",
       "      <td>1</td>\n",
       "      <td>8</td>\n",
       "      <td>0</td>\n",
       "    </tr>\n",
       "    <tr>\n",
       "      <th>110</th>\n",
       "      <td>0000f99513770170a1aba690daeeb8a96da4a39f11fc27...</td>\n",
       "      <td>2017-09-14</td>\n",
       "      <td>1</td>\n",
       "      <td>7</td>\n",
       "      <td>0</td>\n",
       "    </tr>\n",
       "    <tr>\n",
       "      <th>111</th>\n",
       "      <td>0000f99513770170a1aba690daeeb8a96da4a39f11fc27...</td>\n",
       "      <td>2017-10-14</td>\n",
       "      <td>1</td>\n",
       "      <td>6</td>\n",
       "      <td>0</td>\n",
       "    </tr>\n",
       "    <tr>\n",
       "      <th>112</th>\n",
       "      <td>0000f99513770170a1aba690daeeb8a96da4a39f11fc27...</td>\n",
       "      <td>2017-11-14</td>\n",
       "      <td>1</td>\n",
       "      <td>5</td>\n",
       "      <td>0</td>\n",
       "    </tr>\n",
       "    <tr>\n",
       "      <th>113</th>\n",
       "      <td>0000f99513770170a1aba690daeeb8a96da4a39f11fc27...</td>\n",
       "      <td>2017-12-17</td>\n",
       "      <td>1</td>\n",
       "      <td>4</td>\n",
       "      <td>0</td>\n",
       "    </tr>\n",
       "    <tr>\n",
       "      <th>114</th>\n",
       "      <td>0000f99513770170a1aba690daeeb8a96da4a39f11fc27...</td>\n",
       "      <td>2018-01-17</td>\n",
       "      <td>1</td>\n",
       "      <td>3</td>\n",
       "      <td>0</td>\n",
       "    </tr>\n",
       "    <tr>\n",
       "      <th>115</th>\n",
       "      <td>0000f99513770170a1aba690daeeb8a96da4a39f11fc27...</td>\n",
       "      <td>2018-02-05</td>\n",
       "      <td>1</td>\n",
       "      <td>2</td>\n",
       "      <td>0</td>\n",
       "    </tr>\n",
       "    <tr>\n",
       "      <th>116</th>\n",
       "      <td>0000f99513770170a1aba690daeeb8a96da4a39f11fc27...</td>\n",
       "      <td>2018-03-01</td>\n",
       "      <td>1</td>\n",
       "      <td>1</td>\n",
       "      <td>1</td>\n",
       "    </tr>\n",
       "  </tbody>\n",
       "</table>\n",
       "</div>"
      ],
      "text/plain": [
       "                                           customer_id         s_2  target  \\\n",
       "104  0000f99513770170a1aba690daeeb8a96da4a39f11fc27...  2017-03-15       1   \n",
       "105  0000f99513770170a1aba690daeeb8a96da4a39f11fc27...  2017-04-14       1   \n",
       "106  0000f99513770170a1aba690daeeb8a96da4a39f11fc27...  2017-05-15       1   \n",
       "107  0000f99513770170a1aba690daeeb8a96da4a39f11fc27...  2017-06-14       1   \n",
       "108  0000f99513770170a1aba690daeeb8a96da4a39f11fc27...  2017-07-15       1   \n",
       "109  0000f99513770170a1aba690daeeb8a96da4a39f11fc27...  2017-08-15       1   \n",
       "110  0000f99513770170a1aba690daeeb8a96da4a39f11fc27...  2017-09-14       1   \n",
       "111  0000f99513770170a1aba690daeeb8a96da4a39f11fc27...  2017-10-14       1   \n",
       "112  0000f99513770170a1aba690daeeb8a96da4a39f11fc27...  2017-11-14       1   \n",
       "113  0000f99513770170a1aba690daeeb8a96da4a39f11fc27...  2017-12-17       1   \n",
       "114  0000f99513770170a1aba690daeeb8a96da4a39f11fc27...  2018-01-17       1   \n",
       "115  0000f99513770170a1aba690daeeb8a96da4a39f11fc27...  2018-02-05       1   \n",
       "116  0000f99513770170a1aba690daeeb8a96da4a39f11fc27...  2018-03-01       1   \n",
       "\n",
       "     last_statement_flag  last_statement_target  \n",
       "104                   13                      0  \n",
       "105                   12                      0  \n",
       "106                   11                      0  \n",
       "107                   10                      0  \n",
       "108                    9                      0  \n",
       "109                    8                      0  \n",
       "110                    7                      0  \n",
       "111                    6                      0  \n",
       "112                    5                      0  \n",
       "113                    4                      0  \n",
       "114                    3                      0  \n",
       "115                    2                      0  \n",
       "116                    1                      1  "
      ]
     },
     "execution_count": 4,
     "metadata": {},
     "output_type": "execute_result"
    }
   ],
   "source": [
    "df_train[df_train['customer_id']== '0000f99513770170a1aba690daeeb8a96da4a39f11fc27da5c30a79db61c1e85']\\\n",
    "    [['customer_id','s_2','target','last_statement_flag','last_statement_target']]"
   ]
  },
  {
   "cell_type": "code",
   "execution_count": 5,
   "metadata": {},
   "outputs": [
    {
     "data": {
      "text/plain": [
       "d_63     0.0\n",
       "d_64     0.0\n",
       "d_66     0.0\n",
       "d_68     0.0\n",
       "b_30     0.0\n",
       "b_31     0.0\n",
       "b_38     0.0\n",
       "d_114    0.0\n",
       "d_116    0.0\n",
       "d_117    0.0\n",
       "d_120    0.0\n",
       "d_126    0.0\n",
       "dtype: float64"
      ]
     },
     "execution_count": 5,
     "metadata": {},
     "output_type": "execute_result"
    }
   ],
   "source": [
    "pipeline = Pipeline(steps=[])\n",
    "# 89% of d_66 column values were missing, but it has been filled with -1 while parquet generation.\n",
    "# Also assign the column names in sequence in which it appars in the file  \n",
    "categorical_cols = ['d_63', 'd_64', 'd_66', 'd_68', 'b_30', 'b_31', 'b_38', 'd_114', 'd_116',\n",
    "                     'd_117', 'd_120', 'd_126']\n",
    "df_train[categorical_cols].isnull().sum() / len(df_train)"
   ]
  },
  {
   "cell_type": "code",
   "execution_count": 22,
   "metadata": {},
   "outputs": [],
   "source": [
    "# # Check the percentage of missing values\n",
    "# null_series = df_train.isna().sum() / df_train.shape[0]\n",
    "# null_series.to_csv('../ignore/final/column_null_values_prop.csv')\n",
    "# del null_series"
   ]
  },
  {
   "cell_type": "code",
   "execution_count": 6,
   "metadata": {},
   "outputs": [
    {
     "name": "stdout",
     "output_type": "stream",
     "text": [
      "The unique values for column d_63 is [0 3 4 1 2 5]\n",
      "The unique values for column d_64 is [ 0  2 -1  3  1]\n",
      "The unique values for column d_66 is [-1  1  0]\n",
      "The unique values for column d_68 is [ 6  2  3 -1  5  4  0  1]\n",
      "The unique values for column b_30 is [ 0  2  1 -1]\n",
      "The unique values for column b_31 is [1 0]\n",
      "The unique values for column b_38 is [ 2  1  3  5  6  7  4 -1]\n",
      "The unique values for column d_114 is [ 1  0 -1]\n",
      "The unique values for column d_116 is [ 0 -1  1]\n",
      "The unique values for column d_117 is [ 5  0  7  3  2 -1  4  6]\n",
      "The unique values for column d_120 is [ 0  1 -1]\n",
      "The unique values for column d_126 is [ 2 -1  1  0]\n"
     ]
    }
   ],
   "source": [
    "# Check for the unique values for all the categorical features\n",
    "for i in categorical_cols:\n",
    "    print(f'The unique values for column {i} is {df_train[i].unique()}')"
   ]
  },
  {
   "cell_type": "code",
   "execution_count": 7,
   "metadata": {},
   "outputs": [
    {
     "name": "stdout",
     "output_type": "stream",
     "text": [
      "The shape of the original file is:(5531451, 193)\n"
     ]
    }
   ],
   "source": [
    "print(f'The shape of the original file is:{df_train.shape}')"
   ]
  },
  {
   "cell_type": "markdown",
   "metadata": {},
   "source": [
    "https://towardsdatascience.com/pipelines-custom-transformers-in-scikit-learn-the-step-by-step-guide-with-python-code-4a7d9b068156"
   ]
  },
  {
   "cell_type": "code",
   "execution_count": 8,
   "metadata": {},
   "outputs": [],
   "source": [
    "class PreProcessing(BaseEstimator, TransformerMixin):\n",
    "    def __init__(self, categorical_cols):\n",
    "        self.categorical_cols = categorical_cols\n",
    "\n",
    "    def fit(self, X, y=None):\n",
    "        # Get the list of columns that have missing values greater than equal to 40%\n",
    "        missing_perc = round((X.isnull().sum() / len(X)) * 100, 2)\n",
    "        # Prepare final List of columns to drop\n",
    "        self.cols_to_drop = missing_perc[missing_perc.ge(40)].index.tolist() + ['last_statement_flag' , 'target']\n",
    "\n",
    "        return self\n",
    "\n",
    "    def transform(self, X):\n",
    "        numeric_cols = list(set(X.columns.tolist(\n",
    "        )) - set(self.categorical_cols + self.cols_to_drop + ['last_statement_target', 'customer_id', 's_2']))\n",
    "\n",
    "        # Impute the mean of the numeric columns\n",
    "        for col in numeric_cols:\n",
    "            # Check if the column has any null value, then only apply the imputation\n",
    "            if X[col].isnull().any():\n",
    "                X[col] = X[col].fillna(X[col].mean())\n",
    "                            \n",
    "            # Scale\n",
    "            mean = X[col].mean()\n",
    "            std = X[col].std()\n",
    "            if std > 0:\n",
    "                X[col] = ((X[col] - mean) / std).astype('float32')\n",
    "\n",
    "        X = X.drop(columns = self.cols_to_drop)\n",
    "\n",
    "        return X\n",
    "\n",
    "# use all the statements of a customer where all stmts are marked with the same target value\n",
    "preprocessing = PreProcessing(categorical_cols)\n",
    "df_processed = preprocessing.fit_transform(df_train)\n",
    "\n",
    "pipeline.steps.append(('preprocessing', preprocessing))"
   ]
  },
  {
   "cell_type": "code",
   "execution_count": 9,
   "metadata": {},
   "outputs": [
    {
     "name": "stdout",
     "output_type": "stream",
     "text": [
      "After processing the shape is :(5531451, 173)\n"
     ]
    }
   ],
   "source": [
    "del (df_train)\n",
    "print(f'After processing the shape is :{df_processed.shape}')"
   ]
  },
  {
   "cell_type": "code",
   "execution_count": 27,
   "metadata": {},
   "outputs": [],
   "source": [
    "# Check the correlation for the numeric columns\n",
    "df_corr = df_processed.drop(columns = categorical_cols + ['target','customer_id','s_2']).corr()\n",
    "df_corr.to_csv(\"../ignore/final/num_corr_results.csv\")"
   ]
  },
  {
   "cell_type": "code",
   "execution_count": 28,
   "metadata": {},
   "outputs": [],
   "source": [
    "from sklearn.linear_model import LinearRegression\n",
    "\n",
    "def sklearn_vif(data):\n",
    "\n",
    "    # initialize dictionaries\n",
    "    result = {}\n",
    "\n",
    "    # form input data for each exogenous variable\n",
    "    exogs = data.columns.to_list()\n",
    "    for exog in exogs:\n",
    "        # print(exog)\n",
    "        not_exog = [i for i in exogs if i != exog]\n",
    "        # exog would be for which the VIF has to be calculated based on the combination of other columns\n",
    "        X, y = data[not_exog], data[exog]  \n",
    "        # extract r-squared from the fit\n",
    "        r_squared = LinearRegression(n_jobs=12).fit(X, y).score(X, y)\n",
    "\n",
    "        # calculate VIF\n",
    "        vif = 1/(1 - r_squared)\n",
    "        result[exog] = vif\n",
    "    return result\n",
    "\n",
    "vif_data1 = sklearn_vif(df_processed.drop(columns = categorical_cols + ['target','customer_id','s_2']))\n",
    "# Convert the results from the dictionary to dataframe\n",
    "df_vif = pd.DataFrame({\n",
    "    'feature': vif_data1.keys(),\n",
    "    'VIF': vif_data1.values()\n",
    "})\n",
    "del(vif_data1)\n",
    "df_vif.to_csv(\"../ignore/final/num_VIF_data_results.csv\",index=False)"
   ]
  },
  {
   "cell_type": "code",
   "execution_count": 10,
   "metadata": {},
   "outputs": [],
   "source": [
    "df_vif = pd.read_csv(\"D:/Sakshi/DSBA_6156_SERJ/ignore/final/num_VIF_data_results.csv\")"
   ]
  },
  {
   "cell_type": "code",
   "execution_count": 11,
   "metadata": {},
   "outputs": [
    {
     "name": "stdout",
     "output_type": "stream",
     "text": [
      "The remaining columns of the data after dropping columns with high VIF : 143\n"
     ]
    }
   ],
   "source": [
    "# Plainly drop all the columns with higher VIF values\n",
    "df_processed.drop(columns = df_vif[df_vif['VIF']> 10]['feature'].to_list(), inplace=True)\n",
    "print(f'The remaining columns of the data after dropping columns with high VIF : {df_processed.shape[1]}')"
   ]
  },
  {
   "cell_type": "code",
   "execution_count": 12,
   "metadata": {},
   "outputs": [],
   "source": [
    "X, y = df_processed.drop(columns=['last_statement_target','customer_id','s_2']),\\\n",
    "                             df_processed['last_statement_target']\n",
    "X_train, X_test, y_train, y_test = train_test_split(X, y,\n",
    "                                                    test_size=0.2, random_state=2303, stratify = y)                                                 "
   ]
  },
  {
   "cell_type": "code",
   "execution_count": 13,
   "metadata": {},
   "outputs": [
    {
     "name": "stdout",
     "output_type": "stream",
     "text": [
      "Optimization terminated successfully.\n",
      "         Current function value: 0.078139\n",
      "         Iterations 12\n",
      "                             Logit Regression Results                            \n",
      "=================================================================================\n",
      "Dep. Variable:     last_statement_target   No. Observations:              4425160\n",
      "Model:                             Logit   Df Residuals:                  4425020\n",
      "Method:                              MLE   Df Model:                          139\n",
      "Date:                   Tue, 13 Dec 2022   Pseudo R-squ.:                  0.2469\n",
      "Time:                           22:25:57   Log-Likelihood:            -3.4578e+05\n",
      "converged:                          True   LL-Null:                   -4.5912e+05\n",
      "Covariance Type:               nonrobust   LLR p-value:                     0.000\n",
      "==============================================================================\n",
      "                 coef    std err          z      P>|z|      [0.025      0.975]\n",
      "------------------------------------------------------------------------------\n",
      "p_2           -0.3997      0.008    -52.626      0.000      -0.415      -0.385\n",
      "d_39           0.1666      0.003     65.930      0.000       0.162       0.172\n",
      "r_1           -0.1191      0.006    -19.463      0.000      -0.131      -0.107\n",
      "s_3            0.1256      0.007     18.494      0.000       0.112       0.139\n",
      "d_41           0.0161      0.003      5.492      0.000       0.010       0.022\n",
      "b_3            0.1757      0.005     36.312      0.000       0.166       0.185\n",
      "d_43           0.0318      0.003      9.113      0.000       0.025       0.039\n",
      "d_44           0.0133      0.004      3.381      0.001       0.006       0.021\n",
      "b_4            0.1728      0.004     46.753      0.000       0.166       0.180\n",
      "d_45           0.0857      0.009      9.669      0.000       0.068       0.103\n",
      "b_5           -0.1064      0.016     -6.739      0.000      -0.137      -0.075\n",
      "r_2            0.0484      0.004     13.178      0.000       0.041       0.056\n",
      "d_46           0.0670      0.004     19.113      0.000       0.060       0.074\n",
      "d_47          -0.1620      0.006    -25.102      0.000      -0.175      -0.149\n",
      "d_48           0.0891      0.007     12.281      0.000       0.075       0.103\n",
      "d_49           0.0231      0.003      6.891      0.000       0.017       0.030\n",
      "b_6            0.0014      0.007      0.202      0.840      -0.012       0.015\n",
      "b_8            0.1550      0.007     23.673      0.000       0.142       0.168\n",
      "d_51           0.0438      0.010      4.606      0.000       0.025       0.062\n",
      "b_9            0.0552      0.003     16.971      0.000       0.049       0.062\n",
      "r_3           -0.0202      0.004     -5.445      0.000      -0.027      -0.013\n",
      "d_52           0.0065      0.005      1.424      0.154      -0.002       0.015\n",
      "p_3           -0.0134      0.003     -3.864      0.000      -0.020      -0.007\n",
      "b_10          -0.4324      0.079     -5.501      0.000      -0.587      -0.278\n",
      "s_5            0.0180      0.003      6.151      0.000       0.012       0.024\n",
      "s_6            0.0576      0.005     11.008      0.000       0.047       0.068\n",
      "d_54          -0.0542      0.002    -22.375      0.000      -0.059      -0.049\n",
      "r_4            0.0610      0.004     16.418      0.000       0.054       0.068\n",
      "s_7           -0.1123      0.007    -15.252      0.000      -0.127      -0.098\n",
      "b_12          -0.0450      0.010     -4.446      0.000      -0.065      -0.025\n",
      "s_8           -0.1366      0.008    -17.139      0.000      -0.152      -0.121\n",
      "d_55           0.0889      0.008     11.770      0.000       0.074       0.104\n",
      "b_13           0.0803      0.009      8.943      0.000       0.063       0.098\n",
      "d_59           0.3235      0.003     95.325      0.000       0.317       0.330\n",
      "d_60           0.0903      0.006     14.311      0.000       0.078       0.103\n",
      "d_61           0.0483      0.006      7.867      0.000       0.036       0.060\n",
      "s_11           0.0881      0.004     21.865      0.000       0.080       0.096\n",
      "d_62          -0.1176      0.009    -12.494      0.000      -0.136      -0.099\n",
      "d_63          -0.1605      0.004    -36.583      0.000      -0.169      -0.152\n",
      "d_64          -0.0267      0.003     -8.457      0.000      -0.033      -0.021\n",
      "d_65           0.0182      0.002      9.466      0.000       0.014       0.022\n",
      "b_16           0.2913      0.009     31.587      0.000       0.273       0.309\n",
      "b_19           0.0584      0.005     12.012      0.000       0.049       0.068\n",
      "d_66           0.0152      0.006      2.497      0.013       0.003       0.027\n",
      "b_20          -0.0739      0.008     -9.608      0.000      -0.089      -0.059\n",
      "d_68          -0.1277      0.003    -43.636      0.000      -0.133      -0.122\n",
      "s_12           0.0214      0.002      8.803      0.000       0.017       0.026\n",
      "r_6           -0.0029      0.003     -1.140      0.254      -0.008       0.002\n",
      "s_13           0.0535      0.007      8.182      0.000       0.041       0.066\n",
      "b_21           0.0027      0.002      1.183      0.237      -0.002       0.007\n",
      "d_69           0.0032      0.002      1.506      0.132      -0.001       0.007\n",
      "b_22           0.0289      0.005      6.304      0.000       0.020       0.038\n",
      "d_70           0.0074      0.003      2.694      0.007       0.002       0.013\n",
      "d_71          -0.1768      0.024     -7.386      0.000      -0.224      -0.130\n",
      "d_72          -0.0092      0.003     -3.044      0.002      -0.015      -0.003\n",
      "s_15          -0.0117      0.004     -2.629      0.009      -0.020      -0.003\n",
      "p_4            0.0626      0.004     14.804      0.000       0.054       0.071\n",
      "b_24          -0.0880      0.004    -23.534      0.000      -0.095      -0.081\n",
      "r_7            0.0042      0.003      1.603      0.109      -0.001       0.009\n",
      "b_26           0.0107      0.002      4.977      0.000       0.006       0.015\n",
      "d_78          -0.0207      0.002     -8.705      0.000      -0.025      -0.016\n",
      "d_79           0.0140      0.004      3.503      0.000       0.006       0.022\n",
      "r_9            0.0072      0.003      2.736      0.006       0.002       0.012\n",
      "s_16           0.0099      0.002      4.513      0.000       0.006       0.014\n",
      "d_80          -0.0028      0.004     -0.782      0.434      -0.010       0.004\n",
      "r_10           0.0550      0.003     20.238      0.000       0.050       0.060\n",
      "r_11           0.0305      0.003     10.342      0.000       0.025       0.036\n",
      "b_27           0.0185      0.003      5.645      0.000       0.012       0.025\n",
      "d_81          -0.0160      0.003     -5.338      0.000      -0.022      -0.010\n",
      "d_82          -0.1270      0.006    -21.668      0.000      -0.138      -0.115\n",
      "s_17           0.0247      0.003      9.417      0.000       0.020       0.030\n",
      "r_12           0.0597      0.003     18.136      0.000       0.053       0.066\n",
      "d_83           0.0085      0.003      3.265      0.001       0.003       0.014\n",
      "r_14           0.0111      0.002      6.265      0.000       0.008       0.015\n",
      "r_15           0.0337      0.003     12.542      0.000       0.028       0.039\n",
      "d_84          -0.0111      0.003     -3.591      0.000      -0.017      -0.005\n",
      "r_16           0.0301      0.003     10.301      0.000       0.024       0.036\n",
      "b_30          -0.0597      0.011     -5.347      0.000      -0.082      -0.038\n",
      "s_18          -0.3439      0.010    -35.397      0.000      -0.363      -0.325\n",
      "d_86          -0.0183      0.006     -3.090      0.002      -0.030      -0.007\n",
      "d_87          -0.0015      0.001     -1.001      0.317      -0.004       0.001\n",
      "r_18           0.0068      0.001      5.267      0.000       0.004       0.009\n",
      "b_31          -3.8040      0.022   -176.735      0.000      -3.846      -3.762\n",
      "s_19           0.0110      0.003      3.610      0.000       0.005       0.017\n",
      "r_19           0.0207      0.003      7.970      0.000       0.016       0.026\n",
      "b_32          -0.0028      0.003     -1.074      0.283      -0.008       0.002\n",
      "s_20          -0.0084      0.003     -2.534      0.011      -0.015      -0.002\n",
      "r_20           0.0122      0.002      4.978      0.000       0.007       0.017\n",
      "r_21           0.0503      0.004     13.317      0.000       0.043       0.058\n",
      "d_89          -0.0068      0.002     -2.895      0.004      -0.011      -0.002\n",
      "r_22           0.0100      0.002      5.061      0.000       0.006       0.014\n",
      "r_23          -0.0241      0.005     -5.307      0.000      -0.033      -0.015\n",
      "d_91          -0.3007      0.008    -38.221      0.000      -0.316      -0.285\n",
      "d_92          -0.0899      0.012     -7.688      0.000      -0.113      -0.067\n",
      "d_93          -0.0311      0.006     -5.234      0.000      -0.043      -0.019\n",
      "d_94           0.0438      0.014      3.190      0.001       0.017       0.071\n",
      "r_24           0.0166      0.003      5.451      0.000       0.011       0.023\n",
      "r_25          -0.0805      0.003    -30.212      0.000      -0.086      -0.075\n",
      "d_96           0.0179      0.006      3.127      0.002       0.007       0.029\n",
      "s_23           0.0020      0.001      1.475      0.140      -0.001       0.005\n",
      "s_25          -0.0036      0.002     -1.698      0.089      -0.008       0.001\n",
      "s_26          -0.0004      0.009     -0.048      0.962      -0.018       0.017\n",
      "d_102          0.0272      0.004      6.203      0.000       0.019       0.036\n",
      "d_106         -0.0034      0.003     -1.313      0.189      -0.008       0.002\n",
      "d_107         -0.0353      0.004     -8.284      0.000      -0.044      -0.027\n",
      "b_36           0.0056      0.004      1.262      0.207      -0.003       0.014\n",
      "r_26          -0.0340      0.003    -12.890      0.000      -0.039      -0.029\n",
      "r_27           0.0087      0.003      2.899      0.004       0.003       0.015\n",
      "b_38          -0.0531      0.003    -18.019      0.000      -0.059      -0.047\n",
      "d_108          0.0223      0.003      8.917      0.000       0.017       0.027\n",
      "d_109         -0.0059      0.008     -0.736      0.462      -0.022       0.010\n",
      "d_111          0.0314      0.004      7.577      0.000       0.023       0.040\n",
      "d_112         -0.1068      0.004    -29.503      0.000      -0.114      -0.100\n",
      "b_40          -0.0006      0.002     -0.242      0.809      -0.005       0.004\n",
      "s_27           0.0801      0.003     28.759      0.000       0.075       0.086\n",
      "d_113         -0.0888      0.005    -19.255      0.000      -0.098      -0.080\n",
      "d_114         -0.1461      0.009    -15.475      0.000      -0.165      -0.128\n",
      "d_115          0.0223      0.006      3.707      0.000       0.011       0.034\n",
      "d_116          1.1391      0.032     35.666      0.000       1.076       1.202\n",
      "d_117         -0.0225      0.002    -13.043      0.000      -0.026      -0.019\n",
      "d_120          0.8906      0.009    103.835      0.000       0.874       0.907\n",
      "d_121          0.2032      0.006     33.613      0.000       0.191       0.215\n",
      "d_122         -0.0674      0.006    -12.202      0.000      -0.078      -0.057\n",
      "d_123         -0.0446      0.005     -8.284      0.000      -0.055      -0.034\n",
      "d_124         -0.0084      0.005     -1.849      0.065      -0.017       0.001\n",
      "d_125          0.0036      0.005      0.759      0.448      -0.006       0.013\n",
      "d_126         -0.0053      0.007     -0.771      0.441      -0.019       0.008\n",
      "d_127         -0.1444      0.012    -11.819      0.000      -0.168      -0.120\n",
      "d_128         -0.0356      0.006     -5.827      0.000      -0.048      -0.024\n",
      "d_129          0.0202      0.006      3.211      0.001       0.008       0.033\n",
      "b_41           0.0497      0.002     21.469      0.000       0.045       0.054\n",
      "d_130          0.0233      0.004      5.275      0.000       0.015       0.032\n",
      "d_131          0.0877      0.006     15.444      0.000       0.077       0.099\n",
      "d_133         -0.0498      0.004    -13.693      0.000      -0.057      -0.043\n",
      "r_28          -0.0046      0.003     -1.817      0.069      -0.009       0.000\n",
      "d_136          0.0072      0.004      1.992      0.046       0.000       0.014\n",
      "d_138       5.267e-05      0.004      0.014      0.989      -0.007       0.007\n",
      "d_140          0.0217      0.003      8.178      0.000       0.016       0.027\n",
      "d_144         -0.0104      0.004     -2.842      0.004      -0.018      -0.003\n",
      "d_145         -0.0173      0.003     -6.132      0.000      -0.023      -0.012\n",
      "==============================================================================\n"
     ]
    }
   ],
   "source": [
    "# Model\n",
    "sm_logit1 = sm.Logit(y_train,X_train).fit()\n",
    "print(sm_logit1.summary())"
   ]
  },
  {
   "cell_type": "code",
   "execution_count": 14,
   "metadata": {},
   "outputs": [
    {
     "name": "stdout",
     "output_type": "stream",
     "text": [
      "The columns remaining after removing insignificant ones : (5531451, 119)\n",
      "Optimization terminated successfully.\n",
      "         Current function value: 0.078142\n",
      "         Iterations 13\n",
      "                             Logit Regression Results                            \n",
      "=================================================================================\n",
      "Dep. Variable:     last_statement_target   No. Observations:              4425160\n",
      "Model:                             Logit   Df Residuals:                  4425041\n",
      "Method:                              MLE   Df Model:                          118\n",
      "Date:                   Tue, 13 Dec 2022   Pseudo R-squ.:                  0.2468\n",
      "Time:                           22:29:22   Log-Likelihood:            -3.4579e+05\n",
      "converged:                          True   LL-Null:                   -4.5912e+05\n",
      "Covariance Type:               nonrobust   LLR p-value:                     0.000\n",
      "==============================================================================\n",
      "                 coef    std err          z      P>|z|      [0.025      0.975]\n",
      "------------------------------------------------------------------------------\n",
      "p_2           -0.4004      0.008    -52.931      0.000      -0.415      -0.386\n",
      "d_39           0.1666      0.003     66.244      0.000       0.162       0.172\n",
      "r_1           -0.1200      0.006    -19.674      0.000      -0.132      -0.108\n",
      "s_3            0.1254      0.007     18.545      0.000       0.112       0.139\n",
      "d_41           0.0159      0.003      5.465      0.000       0.010       0.022\n",
      "b_3            0.1761      0.005     36.458      0.000       0.167       0.186\n",
      "d_43           0.0318      0.003      9.137      0.000       0.025       0.039\n",
      "d_44           0.0125      0.004      3.196      0.001       0.005       0.020\n",
      "b_4            0.1733      0.004     47.716      0.000       0.166       0.180\n",
      "d_45           0.0872      0.009      9.867      0.000       0.070       0.105\n",
      "b_5           -0.1073      0.016     -6.815      0.000      -0.138      -0.076\n",
      "r_2            0.0487      0.004     13.247      0.000       0.041       0.056\n",
      "d_46           0.0665      0.003     20.310      0.000       0.060       0.073\n",
      "d_47          -0.1610      0.006    -24.992      0.000      -0.174      -0.148\n",
      "d_48           0.0903      0.007     12.499      0.000       0.076       0.104\n",
      "d_49           0.0195      0.003      6.260      0.000       0.013       0.026\n",
      "b_8            0.1547      0.007     23.663      0.000       0.142       0.168\n",
      "d_51           0.0444      0.010      4.669      0.000       0.026       0.063\n",
      "b_9            0.0555      0.003     17.114      0.000       0.049       0.062\n",
      "r_3           -0.0204      0.004     -5.495      0.000      -0.028      -0.013\n",
      "p_3           -0.0134      0.003     -3.891      0.000      -0.020      -0.007\n",
      "b_10          -0.4299      0.078     -5.488      0.000      -0.583      -0.276\n",
      "s_5            0.0180      0.003      6.176      0.000       0.012       0.024\n",
      "s_6            0.0545      0.005     11.482      0.000       0.045       0.064\n",
      "d_54          -0.0541      0.002    -22.350      0.000      -0.059      -0.049\n",
      "r_4            0.0615      0.004     16.782      0.000       0.054       0.069\n",
      "s_7           -0.1124      0.007    -15.307      0.000      -0.127      -0.098\n",
      "b_12          -0.0445      0.010     -4.409      0.000      -0.064      -0.025\n",
      "s_8           -0.1367      0.008    -17.183      0.000      -0.152      -0.121\n",
      "d_55           0.0883      0.008     11.729      0.000       0.074       0.103\n",
      "b_13           0.0798      0.009      8.933      0.000       0.062       0.097\n",
      "d_59           0.3236      0.003     95.417      0.000       0.317       0.330\n",
      "d_60           0.0916      0.006     14.615      0.000       0.079       0.104\n",
      "d_61           0.0482      0.006      7.864      0.000       0.036       0.060\n",
      "s_11           0.0880      0.004     21.897      0.000       0.080       0.096\n",
      "d_62          -0.1143      0.009    -12.592      0.000      -0.132      -0.097\n",
      "d_63          -0.1605      0.004    -36.729      0.000      -0.169      -0.152\n",
      "d_64          -0.0271      0.003     -8.606      0.000      -0.033      -0.021\n",
      "d_65           0.0183      0.002      9.511      0.000       0.015       0.022\n",
      "b_16           0.2901      0.009     31.533      0.000       0.272       0.308\n",
      "b_19           0.0582      0.005     12.005      0.000       0.049       0.068\n",
      "d_66           0.0148      0.006      2.438      0.015       0.003       0.027\n",
      "b_20          -0.0734      0.008     -9.613      0.000      -0.088      -0.058\n",
      "d_68          -0.1282      0.003    -44.355      0.000      -0.134      -0.123\n",
      "s_12           0.0214      0.002      8.801      0.000       0.017       0.026\n",
      "s_13           0.0533      0.007      8.171      0.000       0.041       0.066\n",
      "b_22           0.0287      0.005      6.266      0.000       0.020       0.038\n",
      "d_70           0.0072      0.003      2.624      0.009       0.002       0.013\n",
      "d_71          -0.1769      0.024     -7.399      0.000      -0.224      -0.130\n",
      "d_72          -0.0093      0.003     -3.070      0.002      -0.015      -0.003\n",
      "s_15          -0.0115      0.004     -2.591      0.010      -0.020      -0.003\n",
      "p_4            0.0624      0.004     14.771      0.000       0.054       0.071\n",
      "b_24          -0.0880      0.004    -23.606      0.000      -0.095      -0.081\n",
      "b_26           0.0107      0.002      4.995      0.000       0.006       0.015\n",
      "d_78          -0.0209      0.002     -8.846      0.000      -0.026      -0.016\n",
      "d_79           0.0149      0.004      3.724      0.000       0.007       0.023\n",
      "r_9            0.0071      0.003      2.688      0.007       0.002       0.012\n",
      "s_16           0.0114      0.002      6.611      0.000       0.008       0.015\n",
      "r_10           0.0555      0.003     20.477      0.000       0.050       0.061\n",
      "r_11           0.0303      0.003     10.295      0.000       0.025       0.036\n",
      "b_27           0.0185      0.003      5.656      0.000       0.012       0.025\n",
      "d_81          -0.0160      0.003     -5.364      0.000      -0.022      -0.010\n",
      "d_82          -0.1272      0.006    -21.757      0.000      -0.139      -0.116\n",
      "s_17           0.0247      0.003      9.440      0.000       0.020       0.030\n",
      "r_12           0.0598      0.003     18.153      0.000       0.053       0.066\n",
      "d_83           0.0086      0.003      3.309      0.001       0.004       0.014\n",
      "r_14           0.0104      0.002      6.232      0.000       0.007       0.014\n",
      "r_15           0.0339      0.003     12.660      0.000       0.029       0.039\n",
      "d_84          -0.0111      0.003     -3.609      0.000      -0.017      -0.005\n",
      "r_16           0.0301      0.003     10.330      0.000       0.024       0.036\n",
      "b_30          -0.0599      0.011     -5.365      0.000      -0.082      -0.038\n",
      "s_18          -0.3439      0.010    -35.438      0.000      -0.363      -0.325\n",
      "d_86          -0.0184      0.006     -3.115      0.002      -0.030      -0.007\n",
      "r_18           0.0068      0.001      5.270      0.000       0.004       0.009\n",
      "b_31          -3.8076      0.020   -189.236      0.000      -3.847      -3.768\n",
      "s_19           0.0109      0.003      3.596      0.000       0.005       0.017\n",
      "r_19           0.0211      0.003      8.203      0.000       0.016       0.026\n",
      "s_20          -0.0080      0.003     -2.420      0.016      -0.014      -0.002\n",
      "r_20           0.0120      0.002      4.903      0.000       0.007       0.017\n",
      "r_21           0.0511      0.004     13.606      0.000       0.044       0.058\n",
      "d_89          -0.0069      0.002     -2.922      0.003      -0.012      -0.002\n",
      "r_22           0.0101      0.002      5.099      0.000       0.006       0.014\n",
      "r_23          -0.0241      0.005     -5.310      0.000      -0.033      -0.015\n",
      "d_91          -0.3014      0.008    -38.396      0.000      -0.317      -0.286\n",
      "d_92          -0.0902      0.012     -7.726      0.000      -0.113      -0.067\n",
      "d_93          -0.0311      0.006     -5.231      0.000      -0.043      -0.019\n",
      "d_94           0.0437      0.014      3.184      0.001       0.017       0.071\n",
      "r_24           0.0165      0.003      5.426      0.000       0.011       0.022\n",
      "r_25          -0.0805      0.003    -30.318      0.000      -0.086      -0.075\n",
      "d_96           0.0179      0.006      3.138      0.002       0.007       0.029\n",
      "d_102          0.0274      0.004      6.254      0.000       0.019       0.036\n",
      "d_107         -0.0358      0.004     -8.414      0.000      -0.044      -0.027\n",
      "r_26          -0.0341      0.003    -12.923      0.000      -0.039      -0.029\n",
      "r_27           0.0089      0.003      2.989      0.003       0.003       0.015\n",
      "b_38          -0.0537      0.003    -18.484      0.000      -0.059      -0.048\n",
      "d_108          0.0223      0.003      8.905      0.000       0.017       0.027\n",
      "d_111          0.0357      0.002     16.384      0.000       0.031       0.040\n",
      "d_112         -0.1073      0.004    -29.755      0.000      -0.114      -0.100\n",
      "s_27           0.0789      0.003     28.765      0.000       0.074       0.084\n",
      "d_113         -0.0906      0.004    -20.881      0.000      -0.099      -0.082\n",
      "d_114         -0.1474      0.009    -15.704      0.000      -0.166      -0.129\n",
      "d_115          0.0258      0.006      4.451      0.000       0.014       0.037\n",
      "d_116          1.1302      0.032     35.869      0.000       1.068       1.192\n",
      "d_117         -0.0225      0.002    -13.043      0.000      -0.026      -0.019\n",
      "d_120          0.8900      0.009    103.918      0.000       0.873       0.907\n",
      "d_121          0.1960      0.005     40.184      0.000       0.186       0.206\n",
      "d_122         -0.0687      0.005    -12.503      0.000      -0.079      -0.058\n",
      "d_123         -0.0425      0.004     -9.647      0.000      -0.051      -0.034\n",
      "d_127         -0.1445      0.012    -11.831      0.000      -0.168      -0.121\n",
      "d_128         -0.0358      0.006     -5.861      0.000      -0.048      -0.024\n",
      "d_129          0.0203      0.006      3.227      0.001       0.008       0.033\n",
      "b_41           0.0498      0.002     21.517      0.000       0.045       0.054\n",
      "d_130          0.0229      0.004      5.188      0.000       0.014       0.032\n",
      "d_131          0.0888      0.006     15.653      0.000       0.078       0.100\n",
      "d_133         -0.0506      0.004    -13.992      0.000      -0.058      -0.044\n",
      "d_136          0.0072      0.002      2.978      0.003       0.002       0.012\n",
      "d_140          0.0214      0.003      8.091      0.000       0.016       0.027\n",
      "d_144         -0.0105      0.004     -2.868      0.004      -0.018      -0.003\n",
      "d_145         -0.0176      0.003     -6.220      0.000      -0.023      -0.012\n",
      "==============================================================================\n"
     ]
    }
   ],
   "source": [
    "del(df_processed)\n",
    "# Remove the insignificant features and train the model again. I will keep the alpha level as 0.05\n",
    "logit_pvalues = round(sm_logit1.pvalues,3)\n",
    "high_pval_col = logit_pvalues.index[logit_pvalues > 0.05]\n",
    "\n",
    "# Drop these columns\n",
    "X = X.drop(columns = high_pval_col)\n",
    "print(f'The columns remaining after removing insignificant ones : {X.shape}')\n",
    "X_train, X_test,y_train, y_test= train_test_split(X, y, test_size=0.2,\n",
    "                                                     random_state=2303, stratify = y)\n",
    "\n",
    "# Model\n",
    "sm_logit2 = sm.Logit(y_train,X_train).fit()\n",
    "print(sm_logit2.summary())"
   ]
  },
  {
   "cell_type": "code",
   "execution_count": 15,
   "metadata": {},
   "outputs": [
    {
     "data": {
      "text/plain": [
       "array([[1081056,    1469],\n",
       "       [  22611,    1155]], dtype=int64)"
      ]
     },
     "execution_count": 15,
     "metadata": {},
     "output_type": "execute_result"
    }
   ],
   "source": [
    "# Calculate the confusion matrix\n",
    "prediction_probab = sm_logit2.predict(X_test)\n",
    "prediction = list(map(round,prediction_probab))\n",
    "confusion_matrix(y_test,prediction)"
   ]
  },
  {
   "cell_type": "code",
   "execution_count": 16,
   "metadata": {},
   "outputs": [
    {
     "name": "stdout",
     "output_type": "stream",
     "text": [
      "Validation accuracy is: 0.9782335750720199\n",
      "Logistic : ROC AUC = 0.893\n"
     ]
    },
    {
     "data": {
      "image/png": "[encoded data removed]",
      "text/plain": [
       "<Figure size 640x480 with 1 Axes>"
      ]
     },
     "metadata": {},
     "output_type": "display_data"
    }
   ],
   "source": [
    "print(f'Validation accuracy is: {accuracy_score(y_test, prediction)}')\n",
    "\n",
    "# Calculate roc metric \n",
    "print('Logistic : ROC AUC = %.3f' % (roc_auc_score(y_test,prediction_probab)))\n",
    "\n",
    "fpr,tpr,_ = roc_curve(y_test,prediction_probab)\n",
    "plt.plot(fpr,tpr,marker = '.')\n",
    "plt.xlabel('False Positive Rate')\n",
    "plt.ylabel('True Positive Rate')\n",
    "plt.show()"
   ]
  },
  {
   "cell_type": "code",
   "execution_count": 17,
   "metadata": {},
   "outputs": [],
   "source": [
    "# Clear the memory before loading the test data to predict\n",
    "del(fpr,tpr,X_test,X_train,y_test,y_train,X,y,prediction,prediction_probab)"
   ]
  },
  {
   "cell_type": "code",
   "execution_count": 18,
   "metadata": {},
   "outputs": [],
   "source": [
    "def execute_model(df):\n",
    "    # Just add extra columns with 0 value so that pipeline does not fail --> these are the extra columns that we had in the training data\n",
    "    extra_cols = ['target','last_statement_flag','last_statement_target']\n",
    "    # Concatenate the dataframe of extra columns with the dataframe of the test data\n",
    "    df = pd.concat([\n",
    "        df,\n",
    "        pd.DataFrame(np.zeros((df.shape[0], len(extra_cols))), columns=extra_cols)\n",
    "    ], axis=1)\n",
    "\n",
    "    # Use the pipeline to transform\n",
    "    X = pipeline.transform(df)\n",
    "\n",
    "    # Drop target & the insignificant variables found during the training using statsmodel p-value\n",
    "    X.drop(columns=['last_statement_target','customer_id','s_2'] + df_vif[df_vif['VIF']> 10]['feature'].to_list()\n",
    "                    + high_pval_col.tolist(), inplace=True)\n",
    "\n",
    "    # return log_reg.predict(X), log_reg.predict_proba(X)\n",
    "    # In the statsmodel predict will give the probability\n",
    "    return list(map(round,sm_logit2.predict(X))), sm_logit2.predict(X).tolist()\n",
    "    "
   ]
  },
  {
   "cell_type": "code",
   "execution_count": 19,
   "metadata": {},
   "outputs": [],
   "source": [
    "del(sm_logit1)\n",
    "df_test = pd.read_parquet('D:/Sakshi/DSBA_6156_SERJ/data/test.parquet')\n",
    "df_test.columns= df_test.columns.str.lower()\n",
    "# Define the result mdf\n",
    "mdf = pd.DataFrame(columns=['customer_id', 's_2', 'pred', 'proba'])\n",
    "y, y_proba = execute_model(df_test)\n",
    "\n",
    "mdf = pd.concat([\n",
    "    mdf,\n",
    "    pd.DataFrame({\n",
    "        'customer_id': df_test['customer_id'].values,\n",
    "        's_2': df_test['s_2'].values,\n",
    "        'pred': y,\n",
    "        'proba': y_proba\n",
    "    })\n",
    "]) \n",
    "# mdf.to_csv('../ignore/final/logisticregression_baseline_prediction.csv', index=False)"
   ]
  },
  {
   "cell_type": "code",
   "execution_count": 20,
   "metadata": {},
   "outputs": [
    {
     "data": {
      "text/plain": [
       "dtype('<M8[ns]')"
      ]
     },
     "execution_count": 20,
     "metadata": {},
     "output_type": "execute_result"
    }
   ],
   "source": [
    "mdf['s_2'] = pd.to_datetime(mdf['s_2'])\n",
    "mdf['s_2'].dtype"
   ]
  },
  {
   "cell_type": "markdown",
   "metadata": {},
   "source": [
    "## Just take the last statement probability of each customer"
   ]
  },
  {
   "cell_type": "code",
   "execution_count": 21,
   "metadata": {},
   "outputs": [],
   "source": [
    "# Get the last statement probability of each of the customer\n",
    "df_result_last = mdf.sort_values(by = 's_2').groupby('customer_id')[['customer_id','proba']].tail(1)\n",
    "df_result_last.rename(columns= {'proba' : 'prediction'},inplace=True)\n",
    "df_result_last.head()\n",
    "df_result_last.to_csv('D:/Sakshi/DSBA_6156_SERJ/ignore/ppt_analysis/logistic_baseline1_laststmt_submission.csv', index=False)"
   ]
  },
  {
   "cell_type": "markdown",
   "metadata": {},
   "source": [
    "#### Weighted probabilities using Joe's Code (test data) for the last 3 stmts"
   ]
  },
  {
   "cell_type": "code",
   "execution_count": 22,
   "metadata": {},
   "outputs": [],
   "source": [
    "# Defining the outcome weighting.\n",
    "\n",
    "def conditions(x):\n",
    "    # Customer has 3 statements:\n",
    "    if   x == 3:   return 0.1\n",
    "    elif x == 6:   return 0.15\n",
    "    elif x == 9:   return 0.75\n",
    "    \n",
    "    # Customer has 2 statements:\n",
    "    elif x == 2:   return 0.2\n",
    "    elif x == 4:   return 0.8\n",
    "    \n",
    "    # Customer has 1 statement:\n",
    "    elif x == 1:   return 1.0 \n",
    "    else:          return \"error\""
   ]
  },
  {
   "cell_type": "code",
   "execution_count": 23,
   "metadata": {},
   "outputs": [],
   "source": [
    "# Take the last 3 statements of each customer\n",
    "mdf1 = mdf.sort_values('s_2').groupby('customer_id').tail(3)\n",
    "# if the customer has last 3 stmts the ranking will be as - 1st to the older stmt and 3rd rank to the latest stmt. \n",
    "mdf1[\"statement_num\"] = mdf1.groupby(\"customer_id\")[\"s_2\"].rank(method=\"first\", ascending=True)\n",
    "# The statement_count variable will give the count of the statements for each customer (i.e. to know if they have all the 3 or less than that)\n",
    "mdf1['statement_count'] = mdf1.groupby('customer_id')['statement_num'].transform('max')\n",
    "\n",
    "# Create a number so we can handle the case where a customer had only 1 or 2 statements. \n",
    "# Multiplied to give me a unique value for each case. See conditions() above.\n",
    "mdf1['statement_checksum'] = (mdf1['statement_count']) * mdf1['statement_num']\n",
    "\n",
    "# Assign the weights to the statements\n",
    "mdf1['statement_weight'] = mdf1['statement_checksum'].apply(conditions)\n",
    "\n",
    "# Calculating the weighted sum\n",
    "mdf1 ['prediction'] = mdf1['proba'] * mdf1['statement_weight']\n",
    "\n",
    "mdf1 = mdf1[['customer_id', 'prediction']]\n",
    "\n",
    "# Grouping those weighted sums by customer_id to give granularity of 1 proba per customer\n",
    "mdf1 = mdf1.groupby('customer_id').sum()\n",
    "# Bring the customer_id from index to column\n",
    "mdf1.reset_index(inplace=True)\n",
    "# Send the data to the file\n",
    "mdf1.to_csv('D:/Sakshi/DSBA_6156_SERJ/ignore/ppt_analysis/logistic_baseline1_weighted_last3_sub.csv', index=False)"
   ]
  }
 ],
 "metadata": {
  "kernelspec": {
   "display_name": "Python 3.10.4 ('venv': venv)",
   "language": "python",
   "name": "python3"
  },
  "language_info": {
   "codemirror_mode": {
    "name": "ipython",
    "version": 3
   },
   "file_extension": ".py",
   "mimetype": "text/x-python",
   "name": "python",
   "nbconvert_exporter": "python",
   "pygments_lexer": "ipython3",
   "version": "3.10.4"
  },
  "orig_nbformat": 4,
  "vscode": {
   "interpreter": {
    "hash": "89a73c21ecc9236fdbb84984cd9e615404f96fb7d0e8948f841b3ff5dee670ca"
   }
  }
 },
 "nbformat": 4,
 "nbformat_minor": 2
}

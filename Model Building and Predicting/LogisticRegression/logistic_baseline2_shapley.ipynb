{
 "cells": [
  {
   "attachments": {},
   "cell_type": "markdown",
   "metadata": {},
   "source": [
    "### Train and test on last statement of customers"
   ]
  },
  {
   "cell_type": "code",
   "execution_count": 1,
   "metadata": {},
   "outputs": [],
   "source": [
    "import pandas as pd\n",
    "import numpy as np\n",
    "from sklearn.base import BaseEstimator, TransformerMixin\n",
    "from sklearn.impute import SimpleImputer\n",
    "from sklearn.pipeline import Pipeline\n",
    "from sklearn.preprocessing import OneHotEncoder\n",
    "from sklearn.preprocessing import StandardScaler\n",
    "from sklearn.compose import ColumnTransformer\n",
    "from sklearn.model_selection import train_test_split\n",
    "import statsmodels.api as sm\n",
    "from sklearn.linear_model import LogisticRegression\n",
    "from sklearn.metrics import classification_report,confusion_matrix,roc_curve,roc_auc_score, accuracy_score\n",
    "import matplotlib.pyplot as plt"
   ]
  },
  {
   "cell_type": "code",
   "execution_count": 2,
   "metadata": {},
   "outputs": [],
   "source": [
    "# Read training data \n",
    "df_train_x = pd.read_parquet('D:/Sakshi/DSBA_6156_SERJ/data/train.parquet')\n",
    "df_train_x.columns = df_train_x.columns.str.lower()\n",
    "# Read training data labels\n",
    "df_train_y = pd.read_csv('D:/Sakshi/DSBA_6156_SERJ/data/train_labels.csv')\n",
    "df_train_y.columns = df_train_y.columns.str.lower()\n",
    "df_train_y = df_train_y.set_index('customer_id')\n",
    "\n",
    "df_train_x = df_train_x.sort_values(['customer_id', 's_2'])\n",
    "df_train = pd.merge(df_train_x, df_train_y, on='customer_id')\n",
    "del(df_train_x, df_train_y)"
   ]
  },
  {
   "cell_type": "code",
   "execution_count": 4,
   "metadata": {},
   "outputs": [],
   "source": [
    "# # Before doing any transformation see the datatypes of the features\n",
    "# df_train.dtypes.to_csv('../ignore/final/before_transformations.csv')"
   ]
  },
  {
   "cell_type": "code",
   "execution_count": 3,
   "metadata": {},
   "outputs": [],
   "source": [
    "df_train['last_statement_flag'] = (df_train.groupby('customer_id')['s_2']\n",
    "                      .rank(method='dense', ascending=False)\n",
    "                      .astype(int)\n",
    "                   )\n",
    "df_train = df_train[df_train['last_statement_flag']== 1]                                      "
   ]
  },
  {
   "cell_type": "code",
   "execution_count": 4,
   "metadata": {},
   "outputs": [],
   "source": [
    "df_train.drop(columns = 'last_statement_flag', inplace=True)"
   ]
  },
  {
   "cell_type": "code",
   "execution_count": 5,
   "metadata": {},
   "outputs": [
    {
     "data": {
      "text/plain": [
       "d_63     0.0\n",
       "d_64     0.0\n",
       "d_66     0.0\n",
       "d_68     0.0\n",
       "b_30     0.0\n",
       "b_31     0.0\n",
       "b_38     0.0\n",
       "d_114    0.0\n",
       "d_116    0.0\n",
       "d_117    0.0\n",
       "d_120    0.0\n",
       "d_126    0.0\n",
       "dtype: float64"
      ]
     },
     "execution_count": 5,
     "metadata": {},
     "output_type": "execute_result"
    }
   ],
   "source": [
    "pipeline = Pipeline(steps=[])\n",
    "# 89% of d_66 column values were missing, but it has been filled with -1 while parquet generation.\n",
    "# Also assign the column names in sequence in which it appars in the file  \n",
    "categorical_cols = ['d_63', 'd_64', 'd_66', 'd_68', 'b_30', 'b_31', 'b_38', 'd_114', 'd_116',\n",
    "                     'd_117', 'd_120', 'd_126']\n",
    "df_train[categorical_cols].isnull().sum() / len(df_train)"
   ]
  },
  {
   "cell_type": "code",
   "execution_count": 9,
   "metadata": {},
   "outputs": [],
   "source": [
    "# # Check the percentage of missing values\n",
    "# null_series = df_train.isna().sum() / df_train.shape[0]\n",
    "# null_series.to_csv('../ignore/final/column_null_values_prop.csv')\n",
    "# del null_series"
   ]
  },
  {
   "cell_type": "code",
   "execution_count": 6,
   "metadata": {},
   "outputs": [
    {
     "name": "stdout",
     "output_type": "stream",
     "text": [
      "The unique values for column d_63 is [0 3 4 5 1 2]\n",
      "The unique values for column d_64 is [ 0  2  3 -1]\n",
      "The unique values for column d_66 is [-1  1]\n",
      "The unique values for column d_68 is [ 6  3  5  4  2  1 -1]\n",
      "The unique values for column b_30 is [ 0  1  2 -1]\n",
      "The unique values for column b_31 is [1 0]\n",
      "The unique values for column b_38 is [ 2  1  3  7  5  6  4 -1]\n",
      "The unique values for column d_114 is [ 1  0 -1]\n",
      "The unique values for column d_116 is [ 0 -1  1]\n",
      "The unique values for column d_117 is [ 5  0  7  2  3  6  4 -1]\n",
      "The unique values for column d_120 is [ 0  1 -1]\n",
      "The unique values for column d_126 is [2 1]\n"
     ]
    }
   ],
   "source": [
    "# Check for the unique values for all the categorical features\n",
    "for i in categorical_cols:\n",
    "    print(f'The unique values for column {i} is {df_train[i].unique()}')"
   ]
  },
  {
   "cell_type": "code",
   "execution_count": 7,
   "metadata": {},
   "outputs": [
    {
     "name": "stdout",
     "output_type": "stream",
     "text": [
      "The shape of the original file is:(458913, 191)\n"
     ]
    }
   ],
   "source": [
    "print(f'The shape of the original file is:{df_train.shape}')"
   ]
  },
  {
   "cell_type": "code",
   "execution_count": 8,
   "metadata": {},
   "outputs": [],
   "source": [
    "class PreProcessing(BaseEstimator, TransformerMixin):\n",
    "    def __init__(self, categorical_cols):\n",
    "        self.categorical_cols = categorical_cols\n",
    "\n",
    "    def fit(self, X, y=None):\n",
    "        # Get the list of columns that have missing values greater than equal to 40%\n",
    "        missing_perc = round((X.isnull().sum() / len(X)) * 100, 2)\n",
    "        # Prepare final List of columns to drop\n",
    "        self.cols_to_drop = missing_perc[missing_perc.ge(40)].index.tolist() \n",
    "\n",
    "        return self\n",
    "\n",
    "    def transform(self, X):\n",
    "        numeric_cols = list(set(X.columns.tolist(\n",
    "        )) - set(self.categorical_cols + self.cols_to_drop + ['target', 'customer_id', 's_2']))\n",
    "\n",
    "        # Impute the mean of the numeric columns\n",
    "        for col in numeric_cols:\n",
    "            # Check if the column has any null value, then only apply the imputation\n",
    "            if X[col].isnull().any():\n",
    "                X[col] = X[col].fillna(X[col].mean())\n",
    "                            \n",
    "            # Scale\n",
    "            mean = X[col].mean()\n",
    "            std = X[col].std()\n",
    "            if std > 0:\n",
    "                X[col] = ((X[col] - mean) / std).astype('float32')\n",
    "\n",
    "        X = X.drop(columns = self.cols_to_drop)\n",
    "\n",
    "        return X\n",
    "\n",
    "# use all the statements of a customer where all stmts are marked with the same target value\n",
    "preprocessing = PreProcessing(categorical_cols)\n",
    "df_processed = preprocessing.fit_transform(df_train)\n",
    "\n",
    "pipeline.steps.append(('preprocessing', preprocessing))"
   ]
  },
  {
   "cell_type": "code",
   "execution_count": 10,
   "metadata": {},
   "outputs": [
    {
     "name": "stdout",
     "output_type": "stream",
     "text": [
      "After processing the shape is :(458913, 173)\n"
     ]
    }
   ],
   "source": [
    "del (df_train)\n",
    "print(f'After processing the shape is :{df_processed.shape}')"
   ]
  },
  {
   "cell_type": "code",
   "execution_count": 11,
   "metadata": {},
   "outputs": [],
   "source": [
    "df_vif = pd.read_csv(\"D:/Sakshi/DSBA_6156_SERJ/ignore/final/single_num_VIF_data_results.csv\")"
   ]
  },
  {
   "cell_type": "code",
   "execution_count": 12,
   "metadata": {},
   "outputs": [
    {
     "name": "stdout",
     "output_type": "stream",
     "text": [
      "The remaining columns of the data after dropping columns with high VIF : 142\n"
     ]
    }
   ],
   "source": [
    "# Plainly drop all the columns with higher VIF values\n",
    "df_processed.drop(columns = df_vif[df_vif['VIF']> 10]['feature'].to_list(), inplace=True)\n",
    "print(f'The remaining columns of the data after dropping columns with high VIF : {df_processed.shape[1]}')"
   ]
  },
  {
   "cell_type": "code",
   "execution_count": 13,
   "metadata": {},
   "outputs": [],
   "source": [
    "X, y = df_processed.drop(columns=['target','customer_id','s_2']), df_processed['target']\n",
    "X_train, X_test, y_train, y_test = train_test_split(X, y,\n",
    "                                                    test_size=0.2, random_state=2303, stratify = y)\n",
    "# del(df_processed, X, y)                                                  "
   ]
  },
  {
   "cell_type": "code",
   "execution_count": 14,
   "metadata": {},
   "outputs": [
    {
     "name": "stdout",
     "output_type": "stream",
     "text": [
      "Optimization terminated successfully.\n",
      "         Current function value: 0.237577\n",
      "         Iterations 9\n",
      "                           Logit Regression Results                           \n",
      "==============================================================================\n",
      "Dep. Variable:                 target   No. Observations:               367130\n",
      "Model:                          Logit   Df Residuals:                   366991\n",
      "Method:                           MLE   Df Model:                          138\n",
      "Date:                Tue, 13 Dec 2022   Pseudo R-squ.:                  0.5846\n",
      "Time:                        23:26:47   Log-Likelihood:                -87222.\n",
      "converged:                       True   LL-Null:                   -2.0998e+05\n",
      "Covariance Type:            nonrobust   LLR p-value:                     0.000\n",
      "==============================================================================\n",
      "                 coef    std err          z      P>|z|      [0.025      0.975]\n",
      "------------------------------------------------------------------------------\n",
      "p_2           -0.8610      0.015    -58.051      0.000      -0.890      -0.832\n",
      "d_39           0.3579      0.010     37.128      0.000       0.339       0.377\n",
      "s_3            0.1291      0.013      9.738      0.000       0.103       0.155\n",
      "d_41           0.1920      0.013     14.347      0.000       0.166       0.218\n",
      "b_3            0.3228      0.010     31.557      0.000       0.303       0.343\n",
      "d_43           0.1075      0.009     12.213      0.000       0.090       0.125\n",
      "d_44           0.0507      0.009      5.493      0.000       0.033       0.069\n",
      "b_4            0.4211      0.009     47.780      0.000       0.404       0.438\n",
      "d_45          -0.0874      0.014     -6.249      0.000      -0.115      -0.060\n",
      "b_5           -0.2061      0.018    -11.281      0.000      -0.242      -0.170\n",
      "r_2            0.0860      0.015      5.883      0.000       0.057       0.115\n",
      "d_46           0.1428      0.007     19.336      0.000       0.128       0.157\n",
      "d_47          -0.1712      0.011    -15.559      0.000      -0.193      -0.150\n",
      "d_48           0.1815      0.015     12.437      0.000       0.153       0.210\n",
      "d_49           0.0730      0.008      8.711      0.000       0.057       0.089\n",
      "b_6           -0.1100      0.022     -5.009      0.000      -0.153      -0.067\n",
      "b_8            0.1619      0.011     14.830      0.000       0.140       0.183\n",
      "d_51          -0.2380      0.014    -16.539      0.000      -0.266      -0.210\n",
      "b_9            0.1754      0.009     20.413      0.000       0.159       0.192\n",
      "r_3            0.1697      0.008     20.242      0.000       0.153       0.186\n",
      "d_52          -0.0255      0.008     -3.322      0.001      -0.041      -0.010\n",
      "p_3           -0.0083      0.008     -1.053      0.292      -0.024       0.007\n",
      "b_10          -0.0444      0.022     -2.000      0.045      -0.088      -0.001\n",
      "s_5            0.0391      0.007      5.750      0.000       0.026       0.052\n",
      "s_6            0.0540      0.009      6.236      0.000       0.037       0.071\n",
      "d_54          -0.0856      0.009    -10.013      0.000      -0.102      -0.069\n",
      "r_4            0.1686      0.014     12.230      0.000       0.142       0.196\n",
      "s_7            0.0580      0.013      4.300      0.000       0.032       0.084\n",
      "b_12          -0.0895      0.025     -3.607      0.000      -0.138      -0.041\n",
      "s_8           -0.0971      0.014     -6.808      0.000      -0.125      -0.069\n",
      "d_55          -0.0906      0.014     -6.322      0.000      -0.119      -0.063\n",
      "b_13           0.0886      0.014      6.494      0.000       0.062       0.115\n",
      "d_59           0.0199      0.007      2.696      0.007       0.005       0.034\n",
      "d_60           0.1450      0.010     14.753      0.000       0.126       0.164\n",
      "d_61           0.0674      0.012      5.451      0.000       0.043       0.092\n",
      "s_11          -0.0971      0.007    -13.168      0.000      -0.112      -0.083\n",
      "d_62          -0.2168      0.014    -15.351      0.000      -0.245      -0.189\n",
      "d_63          -0.0565      0.007     -7.560      0.000      -0.071      -0.042\n",
      "d_64           0.0116      0.006      2.056      0.040       0.001       0.023\n",
      "d_65           0.1219      0.015      8.226      0.000       0.093       0.151\n",
      "b_16           0.1958      0.016     12.539      0.000       0.165       0.226\n",
      "b_19           0.0976      0.010     10.127      0.000       0.079       0.116\n",
      "d_66          -0.1794      0.011    -16.681      0.000      -0.200      -0.158\n",
      "b_20          -0.1703      0.014    -12.561      0.000      -0.197      -0.144\n",
      "d_68          -0.0530      0.006     -8.689      0.000      -0.065      -0.041\n",
      "s_12           0.0448      0.006      7.886      0.000       0.034       0.056\n",
      "r_6            0.0095      0.010      0.970      0.332      -0.010       0.029\n",
      "s_13           0.0222      0.011      1.954      0.051    -6.4e-05       0.044\n",
      "b_21           0.0412      0.011      3.834      0.000       0.020       0.062\n",
      "d_69           0.0179      0.006      2.829      0.005       0.005       0.030\n",
      "b_22           0.0544      0.009      5.835      0.000       0.036       0.073\n",
      "d_70           0.0611      0.006      9.545      0.000       0.049       0.074\n",
      "d_71          -0.1786      0.032     -5.576      0.000      -0.241      -0.116\n",
      "d_72           0.0075      0.009      0.830      0.407      -0.010       0.025\n",
      "s_15           0.0142      0.010      1.467      0.142      -0.005       0.033\n",
      "p_4            0.0795      0.008     10.306      0.000       0.064       0.095\n",
      "b_24           0.0033      0.012      0.289      0.772      -0.019       0.026\n",
      "r_7            0.0017      0.008      0.200      0.842      -0.015       0.018\n",
      "b_26           0.0136      0.007      1.915      0.056      -0.000       0.027\n",
      "d_78          -0.0083      0.009     -0.972      0.331      -0.025       0.008\n",
      "d_79           0.0081      0.011      0.748      0.455      -0.013       0.029\n",
      "r_9            0.0079      0.006      1.378      0.168      -0.003       0.019\n",
      "s_16           0.0005      0.008      0.065      0.948      -0.015       0.016\n",
      "d_80           0.0347      0.007      5.233      0.000       0.022       0.048\n",
      "r_10           0.1021      0.008     13.192      0.000       0.087       0.117\n",
      "r_11           0.0796      0.005     14.485      0.000       0.069       0.090\n",
      "b_27          -0.0014      0.007     -0.194      0.846      -0.016       0.013\n",
      "d_81           0.0241      0.010      2.330      0.020       0.004       0.044\n",
      "d_82           0.0812      0.010      8.462      0.000       0.062       0.100\n",
      "s_17           0.0141      0.005      2.623      0.009       0.004       0.025\n",
      "r_12          -0.0117      0.008     -1.461      0.144      -0.027       0.004\n",
      "d_83           0.0143      0.006      2.571      0.010       0.003       0.025\n",
      "r_14           0.0296      0.009      3.218      0.001       0.012       0.048\n",
      "r_15           0.0172      0.007      2.391      0.017       0.003       0.031\n",
      "d_84           0.0154      0.017      0.915      0.360      -0.018       0.048\n",
      "r_16          -0.0260      0.007     -3.695      0.000      -0.040      -0.012\n",
      "b_30           0.0700      0.021      3.315      0.001       0.029       0.111\n",
      "s_18          -0.0059      0.007     -0.890      0.373      -0.019       0.007\n",
      "d_86          -0.0526      0.009     -5.964      0.000      -0.070      -0.035\n",
      "d_87          -0.0088      0.009     -1.034      0.301      -0.025       0.008\n",
      "r_18           0.0008      0.008      0.105      0.917      -0.015       0.016\n",
      "b_31          -1.9244      0.049    -39.296      0.000      -2.020      -1.828\n",
      "s_19           0.0095      0.006      1.582      0.114      -0.002       0.021\n",
      "r_19          -0.0268      0.005     -5.114      0.000      -0.037      -0.017\n",
      "b_32          -0.0123      0.005     -2.325      0.020      -0.023      -0.002\n",
      "s_20           0.0074      0.008      0.920      0.358      -0.008       0.023\n",
      "r_20          -0.0257      0.013     -1.948      0.051      -0.052       0.000\n",
      "r_21           0.0766      0.009      8.939      0.000       0.060       0.093\n",
      "d_89          -0.0084      0.013     -0.636      0.525      -0.034       0.017\n",
      "r_22          -0.0019      0.005     -0.400      0.689      -0.011       0.007\n",
      "r_23           0.0037      0.005      0.732      0.464      -0.006       0.014\n",
      "d_91          -0.0718      0.011     -6.716      0.000      -0.093      -0.051\n",
      "d_92          -0.0474      0.016     -2.887      0.004      -0.080      -0.015\n",
      "d_93           0.0148      0.009      1.667      0.095      -0.003       0.032\n",
      "d_94           0.0302      0.019      1.569      0.117      -0.008       0.068\n",
      "r_24           0.0193      0.011      1.699      0.089      -0.003       0.042\n",
      "r_25          -0.0286      0.008     -3.404      0.001      -0.045      -0.012\n",
      "d_96          -0.0273      0.009     -3.124      0.002      -0.044      -0.010\n",
      "s_23           0.0666      0.013      5.201      0.000       0.042       0.092\n",
      "s_25          -0.0221      0.005     -4.070      0.000      -0.033      -0.011\n",
      "s_26           0.0078      0.015      0.528      0.597      -0.021       0.037\n",
      "d_102         -0.0394      0.008     -5.076      0.000      -0.055      -0.024\n",
      "d_106         -0.0286      0.006     -4.689      0.000      -0.040      -0.017\n",
      "d_107          0.0244      0.008      3.202      0.001       0.009       0.039\n",
      "b_36           0.0173      0.009      1.922      0.055      -0.000       0.035\n",
      "r_26           0.0066      0.008      0.867      0.386      -0.008       0.022\n",
      "r_27          -0.0693      0.006    -11.203      0.000      -0.081      -0.057\n",
      "b_38           0.0017      0.005      0.313      0.755      -0.009       0.012\n",
      "d_108          0.0189      0.005      3.706      0.000       0.009       0.029\n",
      "d_109         -0.0131      0.012     -1.087      0.277      -0.037       0.011\n",
      "d_111          0.0557      0.009      6.139      0.000       0.038       0.073\n",
      "d_112         -0.1645      0.008    -20.449      0.000      -0.180      -0.149\n",
      "b_40           0.0194      0.015      1.324      0.186      -0.009       0.048\n",
      "s_27          -0.0090      0.005     -1.718      0.086      -0.019       0.001\n",
      "d_113         -0.0055      0.008     -0.658      0.510      -0.022       0.011\n",
      "d_114         -0.1241      0.017     -7.395      0.000      -0.157      -0.091\n",
      "d_115         -0.0475      0.011     -4.465      0.000      -0.068      -0.027\n",
      "d_116         -0.1807      0.064     -2.838      0.005      -0.306      -0.056\n",
      "d_117         -0.0187      0.003     -6.115      0.000      -0.025      -0.013\n",
      "d_120          0.2010      0.017     11.549      0.000       0.167       0.235\n",
      "d_121          0.1701      0.012     14.784      0.000       0.148       0.193\n",
      "d_122         -0.0213      0.009     -2.290      0.022      -0.039      -0.003\n",
      "d_123          0.0151      0.008      1.890      0.059      -0.001       0.031\n",
      "d_124          0.0285      0.008      3.501      0.000       0.013       0.044\n",
      "d_125         -0.0094      0.008     -1.132      0.258      -0.026       0.007\n",
      "d_126         -0.0179      0.017     -1.066      0.286      -0.051       0.015\n",
      "d_127         -0.1330      0.018     -7.529      0.000      -0.168      -0.098\n",
      "d_128         -0.0246      0.011     -2.302      0.021      -0.046      -0.004\n",
      "d_129         -0.1103      0.011    -10.468      0.000      -0.131      -0.090\n",
      "b_41           0.0438      0.007      5.875      0.000       0.029       0.058\n",
      "d_130          0.0087      0.008      1.087      0.277      -0.007       0.024\n",
      "d_131          0.2016      0.013     16.110      0.000       0.177       0.226\n",
      "d_133         -0.1266      0.007    -16.881      0.000      -0.141      -0.112\n",
      "r_28           0.0046      0.004      1.068      0.286      -0.004       0.013\n",
      "d_136         -0.0254      0.008     -3.333      0.001      -0.040      -0.010\n",
      "d_138          0.0564      0.008      7.293      0.000       0.041       0.071\n",
      "d_140          0.0379      0.005      7.471      0.000       0.028       0.048\n",
      "d_144         -0.0294      0.006     -4.726      0.000      -0.042      -0.017\n",
      "d_145         -0.0188      0.005     -3.492      0.000      -0.029      -0.008\n",
      "==============================================================================\n"
     ]
    }
   ],
   "source": [
    "# Model\n",
    "sm_logit1 = sm.Logit(y_train,X_train).fit()\n",
    "print(sm_logit1.summary())"
   ]
  },
  {
   "cell_type": "code",
   "execution_count": 15,
   "metadata": {},
   "outputs": [
    {
     "name": "stdout",
     "output_type": "stream",
     "text": [
      "The columns remaining after removing insignificant ones : (458913, 99)\n"
     ]
    }
   ],
   "source": [
    "del(df_processed)\n",
    "# Remove the insignificant features and train the model again. I will keep the alpha level as 0.05\n",
    "logit_pvalues = round(sm_logit1.pvalues,3)\n",
    "high_pval_col = logit_pvalues.index[logit_pvalues > 0.05]\n",
    "\n",
    "# Drop these columns\n",
    "X = X.drop(columns = high_pval_col)\n",
    "print(f'The columns remaining after removing insignificant ones : {X.shape}')\n",
    "X_train, X_test,y_train, y_test= train_test_split(X, y, test_size=0.2,\n",
    "                                                     random_state=2303, stratify = y)\n",
    "\n",
    "# Model\n",
    "logit2 = LogisticRegression(solver='saga', random_state=2303).fit(X_train, y_train)"
   ]
  },
  {
   "cell_type": "code",
   "execution_count": 16,
   "metadata": {},
   "outputs": [
    {
     "data": {
      "text/plain": [
       "array([[63816,  4201],\n",
       "       [ 5485, 18281]], dtype=int64)"
      ]
     },
     "execution_count": 16,
     "metadata": {},
     "output_type": "execute_result"
    }
   ],
   "source": [
    "prediction = logit2.predict(X_test)\n",
    "prediction_probab = logit2.predict_proba(X_test)\n",
    "confusion_matrix(y_test, prediction)"
   ]
  },
  {
   "cell_type": "code",
   "execution_count": 17,
   "metadata": {},
   "outputs": [
    {
     "name": "stdout",
     "output_type": "stream",
     "text": [
      "Validation accuracy is: 0.8944684745541114\n",
      "Logistic : ROC AUC = 0.954\n"
     ]
    },
    {
     "data": {
      "image/png": "[encoded data removed]",
      "text/plain": [
       "<Figure size 640x480 with 1 Axes>"
      ]
     },
     "metadata": {},
     "output_type": "display_data"
    }
   ],
   "source": [
    "print(f'Validation accuracy is: {accuracy_score(y_test, prediction)}')\n",
    "\n",
    "# Calculate roc metric \n",
    "print('Logistic : ROC AUC = %.3f' % (roc_auc_score(y_test,prediction_probab[:,1])))\n",
    "\n",
    "fpr,tpr,_ = roc_curve(y_test,prediction_probab[:,1])\n",
    "plt.plot(fpr,tpr,marker = '.')\n",
    "plt.xlabel('False Positive Rate')\n",
    "plt.ylabel('True Positive Rate')\n",
    "plt.show()"
   ]
  },
  {
   "cell_type": "code",
   "execution_count": 18,
   "metadata": {},
   "outputs": [],
   "source": [
    "# Clear the memory before loading the test data to predict\n",
    "del(fpr,tpr)"
   ]
  },
  {
   "cell_type": "code",
   "execution_count": 19,
   "metadata": {},
   "outputs": [],
   "source": [
    "def amex_metric(y_true: pd.DataFrame, y_pred: pd.DataFrame) -> float:\n",
    "\n",
    "    def top_four_percent_captured(y_true: pd.DataFrame, y_pred: pd.DataFrame) -> float:\n",
    "        df = (pd.concat([y_true, y_pred], axis='columns')\n",
    "              .sort_values('prediction', ascending=False))\n",
    "        df['weight'] = df['target'].apply(lambda x: 20 if x==0 else 1)\n",
    "        four_pct_cutoff = int(0.04 * df['weight'].sum())\n",
    "        df['weight_cumsum'] = df['weight'].cumsum()\n",
    "        df_cutoff = df.loc[df['weight_cumsum'] <= four_pct_cutoff]\n",
    "        return (df_cutoff['target'] == 1).sum() / (df['target'] == 1).sum()\n",
    "        \n",
    "    def weighted_gini(y_true: pd.DataFrame, y_pred: pd.DataFrame) -> float:\n",
    "        df = (pd.concat([y_true, y_pred], axis='columns')\n",
    "              .sort_values('prediction', ascending=False))\n",
    "        df['weight'] = df['target'].apply(lambda x: 20 if x==0 else 1)\n",
    "        df['random'] = (df['weight'] / df['weight'].sum()).cumsum()\n",
    "        total_pos = (df['target'] * df['weight']).sum()\n",
    "        df['cum_pos_found'] = (df['target'] * df['weight']).cumsum()\n",
    "        df['lorentz'] = df['cum_pos_found'] / total_pos\n",
    "        df['gini'] = (df['lorentz'] - df['random']) * df['weight']\n",
    "        return df['gini'].sum()\n",
    "\n",
    "    def normalized_weighted_gini(y_true: pd.DataFrame, y_pred: pd.DataFrame) -> float:\n",
    "        y_true_pred = y_true.rename(columns={'target': 'prediction'})\n",
    "        return weighted_gini(y_true, y_pred) / weighted_gini(y_true, y_true_pred)\n",
    "\n",
    "    g = normalized_weighted_gini(y_true, y_pred)\n",
    "    d = top_four_percent_captured(y_true, y_pred)\n",
    "\n",
    "    return 0.5 * (g + d)"
   ]
  },
  {
   "cell_type": "code",
   "execution_count": 20,
   "metadata": {},
   "outputs": [
    {
     "name": "stdout",
     "output_type": "stream",
     "text": [
      "Original Accuracy: 0.89447, ROC AUC: 0.95405, Amex: 0.76527\n"
     ]
    }
   ],
   "source": [
    "# Original Accuracy\n",
    "original_accuracy = accuracy_score(y_test, prediction)\n",
    "\n",
    "# Calculate original roc metric\n",
    "original_roc_auc = roc_auc_score(y_test, prediction_probab[:, 1])\n",
    "\n",
    "# Calculate original Amex Score\n",
    "y_pred = pd.DataFrame({    \n",
    "    'target': y_test,\n",
    "    'prediction': prediction_probab[:, 1]\n",
    "})\n",
    "original_amex_score = amex_metric(y_pred[['target']], y_pred[['prediction']])\n",
    "\n",
    "print('Original Accuracy: %.5f, ROC AUC: %.5f, Amex: %.5f' %\n",
    "      (original_accuracy, original_roc_auc, original_amex_score))\n",
    "\n",
    "del y_pred"
   ]
  },
  {
   "cell_type": "code",
   "execution_count": 21,
   "metadata": {},
   "outputs": [
    {
     "name": "stderr",
     "output_type": "stream",
     "text": [
      "The option feature_dependence has been renamed to feature_perturbation!\n",
      "The option feature_perturbation=\"independent\" is has been renamed to feature_perturbation=\"interventional\"!\n",
      "The feature_perturbation option is now deprecated in favor of using the appropriate masker (maskers.Independent, or maskers.Impute)\n"
     ]
    },
    {
     "data": {
      "image/png": "[encoded data removed]",
      "text/plain": [
       "<Figure size 800x550 with 1 Axes>"
      ]
     },
     "metadata": {},
     "output_type": "display_data"
    }
   ],
   "source": [
    "import shap\n",
    "\n",
    "explainer = shap.LinearExplainer(logit2, X_train, feature_dependence=\"independent\")\n",
    "shap_values = explainer.shap_values(X_test)\n",
    "\n",
    "# Summarize the effect of all the features\n",
    "shap.summary_plot(shap_values, features=X_test, feature_names=X_test.columns, plot_type='bar', max_display=10)"
   ]
  },
  {
   "cell_type": "code",
   "execution_count": 22,
   "metadata": {},
   "outputs": [
    {
     "name": "stdout",
     "output_type": "stream",
     "text": [
      "{'d_69': 0.00026045582, 'r_14': 0.00084971177, 'b_10': 0.0011328744, 'd_106': 0.0017066717, 'b_12': 0.0019715142, 's_17': 0.002061373, 'd_116': 0.0022473792, 'b_30': 0.0023108497, 'b_21': 0.003993239, 'd_136': 0.004656771, 'b_13': 0.005111339, 'b_32': 0.0058451323, 'b_31': 0.006336454, 's_5': 0.0068906993, 'd_83': 0.0070590544, 'd_108': 0.009218094, 'd_140': 0.009939193, 'd_64': 0.009972921, 's_23': 0.010154609, 'b_6': 0.010293088, 'd_86': 0.010353068, 's_12': 0.012182894, 'b_41': 0.0122041395, 'd_96': 0.012945405, 'r_25': 0.013358337, 'r_16': 0.013896174, 'r_19': 0.014384586, 's_25': 0.014560445, 'd_82': 0.015092618, 'd_111': 0.016002255, 'd_71': 0.016377209, 'd_145': 0.016701013, 'd_107': 0.016908798, 'r_15': 0.017847788, 'd_52': 0.019725408, 'd_80': 0.02384439, 'd_92': 0.024282793, 'd_65': 0.024659533, 'd_55': 0.0256041, 'd_81': 0.025988186, 's_6': 0.027823923, 'b_5': 0.02791508, 'd_144': 0.028854975, 'd_66': 0.030400196, 'r_21': 0.030999342, 'd_138': 0.03171508, 'd_91': 0.033117358, 'd_115': 0.033480894, 'd_127': 0.034624178, 'b_20': 0.035193693, 'd_49': 0.03559732, 'd_122': 0.03815724, 'd_120': 0.041595522, 'd_102': 0.04419324, 'd_124': 0.046989087, 'r_11': 0.050017305, 'r_10': 0.051472776, 'd_133': 0.05199143, 'd_59': 0.05377176, 'r_27': 0.055233285, 'r_4': 0.055281203, 'd_54': 0.055827692, 's_7': 0.057645127, 'd_44': 0.058921, 'd_114': 0.060076054, 'd_70': 0.06505226, 'd_46': 0.0663837, 'd_43': 0.06665575, 's_3': 0.06791262, 's_11': 0.06903191, 'p_4': 0.06974587, 'd_45': 0.07521466, 'r_2': 0.08071579, 'd_128': 0.08681008, 's_8': 0.088406414, 'b_19': 0.08902012, 'd_60': 0.08914217, 'b_22': 0.09038469, 'd_129': 0.09063077, 'd_117': 0.09348213, 'd_41': 0.09885431, 'd_47': 0.101711206, 'd_62': 0.1063173, 'd_61': 0.107838914, 'd_121': 0.11390208, 'b_16': 0.11732034, 'd_51': 0.11949336, 'd_131': 0.11982953, 'r_3': 0.12027696, 'b_8': 0.14095664, 'd_112': 0.14883497, 'd_48': 0.15165308, 'd_39': 0.17024057, 'd_63': 0.1816622, 'b_3': 0.18652792, 'b_9': 0.19454971, 'd_68': 0.1992005, 'b_4': 0.23276454, 'p_2': 0.41327}\n"
     ]
    }
   ],
   "source": [
    "# Generate global shap values and associate with the column\n",
    "global_shap_values = {k:v for k, v in sorted(zip(X_test.columns, np.abs(shap_values).mean(0)), reverse=False, key=lambda value: value[1])}\n",
    "print(global_shap_values)"
   ]
  },
  {
   "cell_type": "code",
   "execution_count": 23,
   "metadata": {},
   "outputs": [
    {
     "data": {
      "text/html": [
       "<div>\n",
       "<style scoped>\n",
       "    .dataframe tbody tr th:only-of-type {\n",
       "        vertical-align: middle;\n",
       "    }\n",
       "\n",
       "    .dataframe tbody tr th {\n",
       "        vertical-align: top;\n",
       "    }\n",
       "\n",
       "    .dataframe thead th {\n",
       "        text-align: right;\n",
       "    }\n",
       "</style>\n",
       "<table border=\"1\" class=\"dataframe\">\n",
       "  <thead>\n",
       "    <tr style=\"text-align: right;\">\n",
       "      <th></th>\n",
       "      <th>column</th>\n",
       "      <th>Avg. SHapley</th>\n",
       "    </tr>\n",
       "  </thead>\n",
       "  <tbody>\n",
       "    <tr>\n",
       "      <th>0</th>\n",
       "      <td>d_69</td>\n",
       "      <td>0.000260</td>\n",
       "    </tr>\n",
       "    <tr>\n",
       "      <th>1</th>\n",
       "      <td>r_14</td>\n",
       "      <td>0.000850</td>\n",
       "    </tr>\n",
       "    <tr>\n",
       "      <th>2</th>\n",
       "      <td>b_10</td>\n",
       "      <td>0.001133</td>\n",
       "    </tr>\n",
       "    <tr>\n",
       "      <th>3</th>\n",
       "      <td>d_106</td>\n",
       "      <td>0.001707</td>\n",
       "    </tr>\n",
       "    <tr>\n",
       "      <th>4</th>\n",
       "      <td>b_12</td>\n",
       "      <td>0.001972</td>\n",
       "    </tr>\n",
       "    <tr>\n",
       "      <th>5</th>\n",
       "      <td>s_17</td>\n",
       "      <td>0.002061</td>\n",
       "    </tr>\n",
       "    <tr>\n",
       "      <th>6</th>\n",
       "      <td>d_116</td>\n",
       "      <td>0.002247</td>\n",
       "    </tr>\n",
       "    <tr>\n",
       "      <th>7</th>\n",
       "      <td>b_30</td>\n",
       "      <td>0.002311</td>\n",
       "    </tr>\n",
       "    <tr>\n",
       "      <th>8</th>\n",
       "      <td>b_21</td>\n",
       "      <td>0.003993</td>\n",
       "    </tr>\n",
       "    <tr>\n",
       "      <th>9</th>\n",
       "      <td>d_136</td>\n",
       "      <td>0.004657</td>\n",
       "    </tr>\n",
       "  </tbody>\n",
       "</table>\n",
       "</div>"
      ],
      "text/plain": [
       "  column  Avg. SHapley\n",
       "0   d_69      0.000260\n",
       "1   r_14      0.000850\n",
       "2   b_10      0.001133\n",
       "3  d_106      0.001707\n",
       "4   b_12      0.001972\n",
       "5   s_17      0.002061\n",
       "6  d_116      0.002247\n",
       "7   b_30      0.002311\n",
       "8   b_21      0.003993\n",
       "9  d_136      0.004657"
      ]
     },
     "execution_count": 23,
     "metadata": {},
     "output_type": "execute_result"
    }
   ],
   "source": [
    "pd.DataFrame({\n",
    "    'column': global_shap_values.keys(),\n",
    "    'Avg. SHapley': global_shap_values.values()\n",
    "}).head(n=10)"
   ]
  },
  {
   "cell_type": "markdown",
   "metadata": {},
   "source": [
    "### Feature reduction using SHAP"
   ]
  },
  {
   "cell_type": "code",
   "execution_count": 24,
   "metadata": {},
   "outputs": [
    {
     "name": "stdout",
     "output_type": "stream",
     "text": [
      "-------------------------------Iteration 1------------------------\n",
      "Cols Dropped:  ['d_69']\n",
      "Max Accuracy: 0.89447, Current Accuracy: 0.89449, Difference: 0.00002, Percentage Diff: 0.00002\n",
      "Max ROC AUC: 0.95405, Current ROC AUC: 0.95405, Difference: -0.00000, Percentage Diff: -0.00000\n",
      "Max Amex Score: 0.76527, Current Amex Score: 0.76512, Difference: -0.00015, Percentage Diff: -0.00019\n",
      "-------------------------------Iteration 2------------------------\n",
      "Cols Dropped:  ['d_69', 'r_14']\n",
      "Max Accuracy: 0.89449, Current Accuracy: 0.89456, Difference: 0.00007, Percentage Diff: 0.00007\n",
      "Max ROC AUC: 0.95405, Current ROC AUC: 0.95404, Difference: -0.00001, Percentage Diff: -0.00001\n",
      "Max Amex Score: 0.76527, Current Amex Score: 0.76518, Difference: -0.00009, Percentage Diff: -0.00012\n",
      "-------------------------------Iteration 3------------------------\n",
      "Cols Dropped:  ['d_69', 'r_14', 'b_10']\n",
      "Max Accuracy: 0.89456, Current Accuracy: 0.89452, Difference: -0.00003, Percentage Diff: -0.00004\n",
      "Max ROC AUC: 0.95405, Current ROC AUC: 0.95404, Difference: -0.00001, Percentage Diff: -0.00001\n",
      "Max Amex Score: 0.76527, Current Amex Score: 0.76520, Difference: -0.00007, Percentage Diff: -0.00009\n",
      "-------------------------------Iteration 4------------------------\n",
      "Cols Dropped:  ['d_69', 'r_14', 'b_10', 'd_106']\n",
      "Max Accuracy: 0.89456, Current Accuracy: 0.89475, Difference: 0.00020, Percentage Diff: 0.00022\n",
      "Max ROC AUC: 0.95405, Current ROC AUC: 0.95446, Difference: 0.00041, Percentage Diff: 0.00043\n",
      "Max Amex Score: 0.76527, Current Amex Score: 0.76695, Difference: 0.00167, Percentage Diff: 0.00219\n",
      "-------------------------------Iteration 5------------------------\n",
      "Cols Dropped:  ['d_69', 'r_14', 'b_10', 'd_106', 'b_12']\n",
      "Max Accuracy: 0.89475, Current Accuracy: 0.89476, Difference: 0.00001, Percentage Diff: 0.00001\n",
      "Max ROC AUC: 0.95446, Current ROC AUC: 0.95445, Difference: -0.00002, Percentage Diff: -0.00002\n",
      "Max Amex Score: 0.76695, Current Amex Score: 0.76687, Difference: -0.00008, Percentage Diff: -0.00010\n",
      "-------------------------------Iteration 6------------------------\n",
      "Cols Dropped:  ['d_69', 'r_14', 'b_10', 'd_106', 'b_12', 's_17']\n",
      "Max Accuracy: 0.89476, Current Accuracy: 0.89468, Difference: -0.00009, Percentage Diff: -0.00010\n",
      "Max ROC AUC: 0.95446, Current ROC AUC: 0.95445, Difference: -0.00002, Percentage Diff: -0.00002\n",
      "Max Amex Score: 0.76695, Current Amex Score: 0.76674, Difference: -0.00021, Percentage Diff: -0.00027\n",
      "-------------------------------Iteration 7------------------------\n",
      "Cols Dropped:  ['d_69', 'r_14', 'b_10', 'd_106', 'b_12', 's_17', 'd_116']\n",
      "Max Accuracy: 0.89476, Current Accuracy: 0.89463, Difference: -0.00013, Percentage Diff: -0.00015\n",
      "Max ROC AUC: 0.95446, Current ROC AUC: 0.95445, Difference: -0.00002, Percentage Diff: -0.00002\n",
      "Max Amex Score: 0.76695, Current Amex Score: 0.76689, Difference: -0.00006, Percentage Diff: -0.00008\n",
      "-------------------------------Iteration 8------------------------\n",
      "Cols Dropped:  ['d_69', 'r_14', 'b_10', 'd_106', 'b_12', 's_17', 'd_116', 'b_30']\n",
      "Max Accuracy: 0.89476, Current Accuracy: 0.89459, Difference: -0.00017, Percentage Diff: -0.00019\n",
      "Max ROC AUC: 0.95446, Current ROC AUC: 0.95444, Difference: -0.00002, Percentage Diff: -0.00002\n",
      "Max Amex Score: 0.76695, Current Amex Score: 0.76678, Difference: -0.00017, Percentage Diff: -0.00022\n",
      "-------------------------------Iteration 9------------------------\n",
      "Cols Dropped:  ['d_69', 'r_14', 'b_10', 'd_106', 'b_12', 's_17', 'd_116', 'b_30', 'b_21']\n",
      "Max Accuracy: 0.89476, Current Accuracy: 0.89459, Difference: -0.00017, Percentage Diff: -0.00019\n",
      "Max ROC AUC: 0.95446, Current ROC AUC: 0.95443, Difference: -0.00003, Percentage Diff: -0.00003\n",
      "Max Amex Score: 0.76695, Current Amex Score: 0.76683, Difference: -0.00011, Percentage Diff: -0.00015\n",
      "-------------------------------Iteration 10------------------------\n",
      "Cols Dropped:  ['d_69', 'r_14', 'b_10', 'd_106', 'b_12', 's_17', 'd_116', 'b_30', 'b_21', 'd_136']\n",
      "Max Accuracy: 0.89476, Current Accuracy: 0.89459, Difference: -0.00017, Percentage Diff: -0.00019\n",
      "Max ROC AUC: 0.95446, Current ROC AUC: 0.95444, Difference: -0.00003, Percentage Diff: -0.00003\n",
      "Max Amex Score: 0.76695, Current Amex Score: 0.76707, Difference: 0.00012, Percentage Diff: 0.00016\n",
      "-------------------------------Iteration 11------------------------\n",
      "Cols Dropped:  ['d_69', 'r_14', 'b_10', 'd_106', 'b_12', 's_17', 'd_116', 'b_30', 'b_21', 'd_136', 'b_13']\n",
      "Max Accuracy: 0.89476, Current Accuracy: 0.89465, Difference: -0.00011, Percentage Diff: -0.00012\n",
      "Max ROC AUC: 0.95446, Current ROC AUC: 0.95445, Difference: -0.00001, Percentage Diff: -0.00001\n",
      "Max Amex Score: 0.76707, Current Amex Score: 0.76727, Difference: 0.00020, Percentage Diff: 0.00026\n",
      "-------------------------------Iteration 12------------------------\n",
      "Cols Dropped:  ['d_69', 'r_14', 'b_10', 'd_106', 'b_12', 's_17', 'd_116', 'b_30', 'b_21', 'd_136', 'b_13', 'b_32']\n",
      "Max Accuracy: 0.89476, Current Accuracy: 0.89450, Difference: -0.00026, Percentage Diff: -0.00029\n",
      "Max ROC AUC: 0.95446, Current ROC AUC: 0.95444, Difference: -0.00002, Percentage Diff: -0.00002\n",
      "Max Amex Score: 0.76727, Current Amex Score: 0.76678, Difference: -0.00049, Percentage Diff: -0.00064\n",
      "-------------------------------Iteration 13------------------------\n",
      "Cols Dropped:  ['d_69', 'r_14', 'b_10', 'd_106', 'b_12', 's_17', 'd_116', 'b_30', 'b_21', 'd_136', 'b_13', 'b_32', 'b_31']\n",
      "Max Accuracy: 0.89476, Current Accuracy: 0.89450, Difference: -0.00026, Percentage Diff: -0.00029\n",
      "Max ROC AUC: 0.95446, Current ROC AUC: 0.95411, Difference: -0.00035, Percentage Diff: -0.00037\n",
      "Max Amex Score: 0.76727, Current Amex Score: 0.76611, Difference: -0.00116, Percentage Diff: -0.00151\n",
      "-------------------------------Iteration 14------------------------\n",
      "Cols Dropped:  ['d_69', 'r_14', 'b_10', 'd_106', 'b_12', 's_17', 'd_116', 'b_30', 'b_21', 'd_136', 'b_13', 'b_32', 'b_31', 's_5']\n",
      "Max Accuracy: 0.89476, Current Accuracy: 0.89460, Difference: -0.00016, Percentage Diff: -0.00018\n",
      "Max ROC AUC: 0.95446, Current ROC AUC: 0.95410, Difference: -0.00037, Percentage Diff: -0.00038\n",
      "Max Amex Score: 0.76727, Current Amex Score: 0.76574, Difference: -0.00153, Percentage Diff: -0.00200\n",
      "-------------------------------Iteration 15------------------------\n",
      "Cols Dropped:  ['d_69', 'r_14', 'b_10', 'd_106', 'b_12', 's_17', 'd_116', 'b_30', 'b_21', 'd_136', 'b_13', 'b_32', 'b_31', 's_5', 'd_83']\n",
      "Max Accuracy: 0.89476, Current Accuracy: 0.89445, Difference: -0.00032, Percentage Diff: -0.00035\n",
      "Max ROC AUC: 0.95446, Current ROC AUC: 0.95406, Difference: -0.00040, Percentage Diff: -0.00042\n",
      "Max Amex Score: 0.76727, Current Amex Score: 0.76564, Difference: -0.00163, Percentage Diff: -0.00212\n",
      "-------------------------------Iteration 16------------------------\n",
      "Cols Dropped:  ['d_69', 'r_14', 'b_10', 'd_106', 'b_12', 's_17', 'd_116', 'b_30', 'b_21', 'd_136', 'b_13', 'b_32', 'b_31', 's_5', 'd_83', 'd_108']\n",
      "Max Accuracy: 0.89476, Current Accuracy: 0.89451, Difference: -0.00025, Percentage Diff: -0.00028\n",
      "Max ROC AUC: 0.95446, Current ROC AUC: 0.95404, Difference: -0.00042, Percentage Diff: -0.00044\n",
      "Max Amex Score: 0.76727, Current Amex Score: 0.76577, Difference: -0.00150, Percentage Diff: -0.00196\n",
      "-------------------------------Iteration 17------------------------\n",
      "Cols Dropped:  ['d_69', 'r_14', 'b_10', 'd_106', 'b_12', 's_17', 'd_116', 'b_30', 'b_21', 'd_136', 'b_13', 'b_32', 'b_31', 's_5', 'd_83', 'd_108', 'd_140']\n",
      "Max Accuracy: 0.89476, Current Accuracy: 0.89434, Difference: -0.00042, Percentage Diff: -0.00047\n",
      "Max ROC AUC: 0.95446, Current ROC AUC: 0.95400, Difference: -0.00046, Percentage Diff: -0.00048\n",
      "Max Amex Score: 0.76727, Current Amex Score: 0.76501, Difference: -0.00225, Percentage Diff: -0.00294\n",
      "-------------------------------Iteration 18------------------------\n",
      "Cols Dropped:  ['d_69', 'r_14', 'b_10', 'd_106', 'b_12', 's_17', 'd_116', 'b_30', 'b_21', 'd_136', 'b_13', 'b_32', 'b_31', 's_5', 'd_83', 'd_108', 'd_140', 'd_64']\n",
      "Max Accuracy: 0.89476, Current Accuracy: 0.89423, Difference: -0.00053, Percentage Diff: -0.00060\n",
      "Max ROC AUC: 0.95446, Current ROC AUC: 0.95400, Difference: -0.00046, Percentage Diff: -0.00048\n",
      "Max Amex Score: 0.76727, Current Amex Score: 0.76518, Difference: -0.00209, Percentage Diff: -0.00272\n",
      "-------------------------------Iteration 19------------------------\n",
      "Cols Dropped:  ['d_69', 'r_14', 'b_10', 'd_106', 'b_12', 's_17', 'd_116', 'b_30', 'b_21', 'd_136', 'b_13', 'b_32', 'b_31', 's_5', 'd_83', 'd_108', 'd_140', 'd_64', 's_23']\n",
      "Max Accuracy: 0.89476, Current Accuracy: 0.89539, Difference: 0.00063, Percentage Diff: 0.00071\n",
      "Max ROC AUC: 0.95446, Current ROC AUC: 0.95512, Difference: 0.00066, Percentage Diff: 0.00069\n",
      "Max Amex Score: 0.76727, Current Amex Score: 0.76954, Difference: 0.00227, Percentage Diff: 0.00296\n",
      "-------------------------------Iteration 20------------------------\n",
      "Cols Dropped:  ['d_69', 'r_14', 'b_10', 'd_106', 'b_12', 's_17', 'd_116', 'b_30', 'b_21', 'd_136', 'b_13', 'b_32', 'b_31', 's_5', 'd_83', 'd_108', 'd_140', 'd_64', 's_23', 'b_6']\n",
      "Max Accuracy: 0.89539, Current Accuracy: 0.89539, Difference: 0.00000, Percentage Diff: 0.00000\n",
      "Max ROC AUC: 0.95512, Current ROC AUC: 0.95515, Difference: 0.00002, Percentage Diff: 0.00002\n",
      "Max Amex Score: 0.76954, Current Amex Score: 0.76980, Difference: 0.00025, Percentage Diff: 0.00033\n",
      "-------------------------------Iteration 21------------------------\n",
      "Cols Dropped:  ['d_69', 'r_14', 'b_10', 'd_106', 'b_12', 's_17', 'd_116', 'b_30', 'b_21', 'd_136', 'b_13', 'b_32', 'b_31', 's_5', 'd_83', 'd_108', 'd_140', 'd_64', 's_23', 'b_6', 'd_86']\n",
      "Max Accuracy: 0.89539, Current Accuracy: 0.89544, Difference: 0.00004, Percentage Diff: 0.00005\n",
      "Max ROC AUC: 0.95515, Current ROC AUC: 0.95513, Difference: -0.00002, Percentage Diff: -0.00002\n",
      "Max Amex Score: 0.76980, Current Amex Score: 0.76964, Difference: -0.00016, Percentage Diff: -0.00021\n",
      "-------------------------------Iteration 22------------------------\n",
      "Cols Dropped:  ['d_69', 'r_14', 'b_10', 'd_106', 'b_12', 's_17', 'd_116', 'b_30', 'b_21', 'd_136', 'b_13', 'b_32', 'b_31', 's_5', 'd_83', 'd_108', 'd_140', 'd_64', 's_23', 'b_6', 'd_86', 's_12']\n",
      "Max Accuracy: 0.89544, Current Accuracy: 0.89513, Difference: -0.00031, Percentage Diff: -0.00034\n",
      "Max ROC AUC: 0.95515, Current ROC AUC: 0.95509, Difference: -0.00006, Percentage Diff: -0.00006\n",
      "Max Amex Score: 0.76980, Current Amex Score: 0.76949, Difference: -0.00031, Percentage Diff: -0.00040\n",
      "-------------------------------Iteration 23------------------------\n",
      "Cols Dropped:  ['d_69', 'r_14', 'b_10', 'd_106', 'b_12', 's_17', 'd_116', 'b_30', 'b_21', 'd_136', 'b_13', 'b_32', 'b_31', 's_5', 'd_83', 'd_108', 'd_140', 'd_64', 's_23', 'b_6', 'd_86', 's_12', 'b_41']\n",
      "Max Accuracy: 0.89544, Current Accuracy: 0.89514, Difference: -0.00029, Percentage Diff: -0.00033\n",
      "Max ROC AUC: 0.95515, Current ROC AUC: 0.95506, Difference: -0.00009, Percentage Diff: -0.00009\n",
      "Max Amex Score: 0.76980, Current Amex Score: 0.76946, Difference: -0.00034, Percentage Diff: -0.00045\n",
      "-------------------------------Iteration 24------------------------\n",
      "Cols Dropped:  ['d_69', 'r_14', 'b_10', 'd_106', 'b_12', 's_17', 'd_116', 'b_30', 'b_21', 'd_136', 'b_13', 'b_32', 'b_31', 's_5', 'd_83', 'd_108', 'd_140', 'd_64', 's_23', 'b_6', 'd_86', 's_12', 'b_41', 'd_96']\n",
      "Max Accuracy: 0.89544, Current Accuracy: 0.89521, Difference: -0.00023, Percentage Diff: -0.00026\n",
      "Max ROC AUC: 0.95515, Current ROC AUC: 0.95505, Difference: -0.00009, Percentage Diff: -0.00010\n",
      "Max Amex Score: 0.76980, Current Amex Score: 0.76947, Difference: -0.00033, Percentage Diff: -0.00042\n",
      "-------------------------------Iteration 25------------------------\n",
      "Cols Dropped:  ['d_69', 'r_14', 'b_10', 'd_106', 'b_12', 's_17', 'd_116', 'b_30', 'b_21', 'd_136', 'b_13', 'b_32', 'b_31', 's_5', 'd_83', 'd_108', 'd_140', 'd_64', 's_23', 'b_6', 'd_86', 's_12', 'b_41', 'd_96', 'r_25']\n",
      "Max Accuracy: 0.89544, Current Accuracy: 0.89522, Difference: -0.00022, Percentage Diff: -0.00024\n",
      "Max ROC AUC: 0.95515, Current ROC AUC: 0.95500, Difference: -0.00015, Percentage Diff: -0.00015\n",
      "Max Amex Score: 0.76980, Current Amex Score: 0.76896, Difference: -0.00084, Percentage Diff: -0.00109\n",
      "-------------------------------Iteration 26------------------------\n",
      "Cols Dropped:  ['d_69', 'r_14', 'b_10', 'd_106', 'b_12', 's_17', 'd_116', 'b_30', 'b_21', 'd_136', 'b_13', 'b_32', 'b_31', 's_5', 'd_83', 'd_108', 'd_140', 'd_64', 's_23', 'b_6', 'd_86', 's_12', 'b_41', 'd_96', 'r_25', 'r_16']\n",
      "Max Accuracy: 0.89544, Current Accuracy: 0.89529, Difference: -0.00015, Percentage Diff: -0.00017\n",
      "Max ROC AUC: 0.95515, Current ROC AUC: 0.95499, Difference: -0.00015, Percentage Diff: -0.00016\n",
      "Max Amex Score: 0.76980, Current Amex Score: 0.76904, Difference: -0.00076, Percentage Diff: -0.00099\n",
      "-------------------------------Iteration 27------------------------\n",
      "Cols Dropped:  ['d_69', 'r_14', 'b_10', 'd_106', 'b_12', 's_17', 'd_116', 'b_30', 'b_21', 'd_136', 'b_13', 'b_32', 'b_31', 's_5', 'd_83', 'd_108', 'd_140', 'd_64', 's_23', 'b_6', 'd_86', 's_12', 'b_41', 'd_96', 'r_25', 'r_16', 'r_19']\n",
      "Max Accuracy: 0.89544, Current Accuracy: 0.89514, Difference: -0.00029, Percentage Diff: -0.00033\n",
      "Max ROC AUC: 0.95515, Current ROC AUC: 0.95497, Difference: -0.00017, Percentage Diff: -0.00018\n",
      "Max Amex Score: 0.76980, Current Amex Score: 0.76914, Difference: -0.00066, Percentage Diff: -0.00085\n",
      "-------------------------------Iteration 28------------------------\n",
      "Cols Dropped:  ['d_69', 'r_14', 'b_10', 'd_106', 'b_12', 's_17', 'd_116', 'b_30', 'b_21', 'd_136', 'b_13', 'b_32', 'b_31', 's_5', 'd_83', 'd_108', 'd_140', 'd_64', 's_23', 'b_6', 'd_86', 's_12', 'b_41', 'd_96', 'r_25', 'r_16', 'r_19', 's_25']\n",
      "Max Accuracy: 0.89544, Current Accuracy: 0.89546, Difference: 0.00002, Percentage Diff: 0.00002\n",
      "Max ROC AUC: 0.95515, Current ROC AUC: 0.95498, Difference: -0.00017, Percentage Diff: -0.00017\n",
      "Max Amex Score: 0.76980, Current Amex Score: 0.76892, Difference: -0.00088, Percentage Diff: -0.00114\n",
      "-------------------------------Iteration 29------------------------\n",
      "Cols Dropped:  ['d_69', 'r_14', 'b_10', 'd_106', 'b_12', 's_17', 'd_116', 'b_30', 'b_21', 'd_136', 'b_13', 'b_32', 'b_31', 's_5', 'd_83', 'd_108', 'd_140', 'd_64', 's_23', 'b_6', 'd_86', 's_12', 'b_41', 'd_96', 'r_25', 'r_16', 'r_19', 's_25', 'd_82']\n",
      "Max Accuracy: 0.89546, Current Accuracy: 0.89534, Difference: -0.00012, Percentage Diff: -0.00013\n",
      "Max ROC AUC: 0.95515, Current ROC AUC: 0.95496, Difference: -0.00019, Percentage Diff: -0.00020\n",
      "Max Amex Score: 0.76980, Current Amex Score: 0.76862, Difference: -0.00118, Percentage Diff: -0.00153\n",
      "-------------------------------Iteration 30------------------------\n",
      "Cols Dropped:  ['d_69', 'r_14', 'b_10', 'd_106', 'b_12', 's_17', 'd_116', 'b_30', 'b_21', 'd_136', 'b_13', 'b_32', 'b_31', 's_5', 'd_83', 'd_108', 'd_140', 'd_64', 's_23', 'b_6', 'd_86', 's_12', 'b_41', 'd_96', 'r_25', 'r_16', 'r_19', 's_25', 'd_82', 'd_111']\n",
      "Max Accuracy: 0.89546, Current Accuracy: 0.89518, Difference: -0.00028, Percentage Diff: -0.00032\n",
      "Max ROC AUC: 0.95515, Current ROC AUC: 0.95487, Difference: -0.00028, Percentage Diff: -0.00029\n",
      "Max Amex Score: 0.76980, Current Amex Score: 0.76761, Difference: -0.00219, Percentage Diff: -0.00285\n",
      "-------------------------------Iteration 31------------------------\n",
      "Cols Dropped:  ['d_69', 'r_14', 'b_10', 'd_106', 'b_12', 's_17', 'd_116', 'b_30', 'b_21', 'd_136', 'b_13', 'b_32', 'b_31', 's_5', 'd_83', 'd_108', 'd_140', 'd_64', 's_23', 'b_6', 'd_86', 's_12', 'b_41', 'd_96', 'r_25', 'r_16', 'r_19', 's_25', 'd_82', 'd_111', 'd_71']\n",
      "Max Accuracy: 0.89546, Current Accuracy: 0.89506, Difference: -0.00040, Percentage Diff: -0.00045\n",
      "Max ROC AUC: 0.95515, Current ROC AUC: 0.95485, Difference: -0.00029, Percentage Diff: -0.00031\n",
      "Max Amex Score: 0.76980, Current Amex Score: 0.76770, Difference: -0.00210, Percentage Diff: -0.00273\n",
      "-------------------------------Iteration 32------------------------\n",
      "Cols Dropped:  ['d_69', 'r_14', 'b_10', 'd_106', 'b_12', 's_17', 'd_116', 'b_30', 'b_21', 'd_136', 'b_13', 'b_32', 'b_31', 's_5', 'd_83', 'd_108', 'd_140', 'd_64', 's_23', 'b_6', 'd_86', 's_12', 'b_41', 'd_96', 'r_25', 'r_16', 'r_19', 's_25', 'd_82', 'd_111', 'd_71', 'd_145']\n",
      "Max Accuracy: 0.89546, Current Accuracy: 0.89511, Difference: -0.00035, Percentage Diff: -0.00039\n",
      "Max ROC AUC: 0.95515, Current ROC AUC: 0.95486, Difference: -0.00029, Percentage Diff: -0.00031\n",
      "Max Amex Score: 0.76980, Current Amex Score: 0.76725, Difference: -0.00254, Percentage Diff: -0.00330\n",
      "-------------------------------Iteration 33------------------------\n",
      "Cols Dropped:  ['d_69', 'r_14', 'b_10', 'd_106', 'b_12', 's_17', 'd_116', 'b_30', 'b_21', 'd_136', 'b_13', 'b_32', 'b_31', 's_5', 'd_83', 'd_108', 'd_140', 'd_64', 's_23', 'b_6', 'd_86', 's_12', 'b_41', 'd_96', 'r_25', 'r_16', 'r_19', 's_25', 'd_82', 'd_111', 'd_71', 'd_145', 'd_107']\n",
      "Max Accuracy: 0.89546, Current Accuracy: 0.89520, Difference: -0.00026, Percentage Diff: -0.00029\n",
      "Max ROC AUC: 0.95515, Current ROC AUC: 0.95486, Difference: -0.00029, Percentage Diff: -0.00030\n",
      "Max Amex Score: 0.76980, Current Amex Score: 0.76739, Difference: -0.00241, Percentage Diff: -0.00313\n",
      "-------------------------------Iteration 34------------------------\n",
      "Cols Dropped:  ['d_69', 'r_14', 'b_10', 'd_106', 'b_12', 's_17', 'd_116', 'b_30', 'b_21', 'd_136', 'b_13', 'b_32', 'b_31', 's_5', 'd_83', 'd_108', 'd_140', 'd_64', 's_23', 'b_6', 'd_86', 's_12', 'b_41', 'd_96', 'r_25', 'r_16', 'r_19', 's_25', 'd_82', 'd_111', 'd_71', 'd_145', 'd_107', 'r_15']\n",
      "Max Accuracy: 0.89546, Current Accuracy: 0.89527, Difference: -0.00019, Percentage Diff: -0.00021\n",
      "Max ROC AUC: 0.95515, Current ROC AUC: 0.95487, Difference: -0.00028, Percentage Diff: -0.00029\n",
      "Max Amex Score: 0.76980, Current Amex Score: 0.76742, Difference: -0.00238, Percentage Diff: -0.00309\n",
      "-------------------------------Iteration 35------------------------\n",
      "Cols Dropped:  ['d_69', 'r_14', 'b_10', 'd_106', 'b_12', 's_17', 'd_116', 'b_30', 'b_21', 'd_136', 'b_13', 'b_32', 'b_31', 's_5', 'd_83', 'd_108', 'd_140', 'd_64', 's_23', 'b_6', 'd_86', 's_12', 'b_41', 'd_96', 'r_25', 'r_16', 'r_19', 's_25', 'd_82', 'd_111', 'd_71', 'd_145', 'd_107', 'r_15', 'd_52']\n",
      "Max Accuracy: 0.89546, Current Accuracy: 0.89535, Difference: -0.00011, Percentage Diff: -0.00012\n",
      "Max ROC AUC: 0.95515, Current ROC AUC: 0.95486, Difference: -0.00029, Percentage Diff: -0.00030\n",
      "Max Amex Score: 0.76980, Current Amex Score: 0.76741, Difference: -0.00239, Percentage Diff: -0.00311\n",
      "-------------------------------Iteration 36------------------------\n",
      "Cols Dropped:  ['d_69', 'r_14', 'b_10', 'd_106', 'b_12', 's_17', 'd_116', 'b_30', 'b_21', 'd_136', 'b_13', 'b_32', 'b_31', 's_5', 'd_83', 'd_108', 'd_140', 'd_64', 's_23', 'b_6', 'd_86', 's_12', 'b_41', 'd_96', 'r_25', 'r_16', 'r_19', 's_25', 'd_82', 'd_111', 'd_71', 'd_145', 'd_107', 'r_15', 'd_52', 'd_80']\n",
      "Max Accuracy: 0.89546, Current Accuracy: 0.89539, Difference: -0.00007, Percentage Diff: -0.00007\n",
      "Max ROC AUC: 0.95515, Current ROC AUC: 0.95485, Difference: -0.00030, Percentage Diff: -0.00031\n",
      "Max Amex Score: 0.76980, Current Amex Score: 0.76731, Difference: -0.00249, Percentage Diff: -0.00323\n",
      "-------------------------------Iteration 37------------------------\n",
      "Cols Dropped:  ['d_69', 'r_14', 'b_10', 'd_106', 'b_12', 's_17', 'd_116', 'b_30', 'b_21', 'd_136', 'b_13', 'b_32', 'b_31', 's_5', 'd_83', 'd_108', 'd_140', 'd_64', 's_23', 'b_6', 'd_86', 's_12', 'b_41', 'd_96', 'r_25', 'r_16', 'r_19', 's_25', 'd_82', 'd_111', 'd_71', 'd_145', 'd_107', 'r_15', 'd_52', 'd_80', 'd_92']\n",
      "Max Accuracy: 0.89546, Current Accuracy: 0.89539, Difference: -0.00007, Percentage Diff: -0.00007\n",
      "Max ROC AUC: 0.95515, Current ROC AUC: 0.95486, Difference: -0.00029, Percentage Diff: -0.00031\n",
      "Max Amex Score: 0.76980, Current Amex Score: 0.76734, Difference: -0.00246, Percentage Diff: -0.00320\n",
      "-------------------------------Iteration 38------------------------\n",
      "Cols Dropped:  ['d_69', 'r_14', 'b_10', 'd_106', 'b_12', 's_17', 'd_116', 'b_30', 'b_21', 'd_136', 'b_13', 'b_32', 'b_31', 's_5', 'd_83', 'd_108', 'd_140', 'd_64', 's_23', 'b_6', 'd_86', 's_12', 'b_41', 'd_96', 'r_25', 'r_16', 'r_19', 's_25', 'd_82', 'd_111', 'd_71', 'd_145', 'd_107', 'r_15', 'd_52', 'd_80', 'd_92', 'd_65']\n",
      "Max Accuracy: 0.89546, Current Accuracy: 0.89529, Difference: -0.00017, Percentage Diff: -0.00019\n",
      "Max ROC AUC: 0.95515, Current ROC AUC: 0.95479, Difference: -0.00035, Percentage Diff: -0.00037\n",
      "Max Amex Score: 0.76980, Current Amex Score: 0.76709, Difference: -0.00271, Percentage Diff: -0.00352\n",
      "-------------------------------Iteration 39------------------------\n",
      "Cols Dropped:  ['d_69', 'r_14', 'b_10', 'd_106', 'b_12', 's_17', 'd_116', 'b_30', 'b_21', 'd_136', 'b_13', 'b_32', 'b_31', 's_5', 'd_83', 'd_108', 'd_140', 'd_64', 's_23', 'b_6', 'd_86', 's_12', 'b_41', 'd_96', 'r_25', 'r_16', 'r_19', 's_25', 'd_82', 'd_111', 'd_71', 'd_145', 'd_107', 'r_15', 'd_52', 'd_80', 'd_92', 'd_65', 'd_55']\n",
      "Max Accuracy: 0.89546, Current Accuracy: 0.89489, Difference: -0.00057, Percentage Diff: -0.00063\n",
      "Max ROC AUC: 0.95515, Current ROC AUC: 0.95474, Difference: -0.00041, Percentage Diff: -0.00043\n",
      "Max Amex Score: 0.76980, Current Amex Score: 0.76682, Difference: -0.00297, Percentage Diff: -0.00386\n",
      "-------------------------------Iteration 40------------------------\n",
      "Cols Dropped:  ['d_69', 'r_14', 'b_10', 'd_106', 'b_12', 's_17', 'd_116', 'b_30', 'b_21', 'd_136', 'b_13', 'b_32', 'b_31', 's_5', 'd_83', 'd_108', 'd_140', 'd_64', 's_23', 'b_6', 'd_86', 's_12', 'b_41', 'd_96', 'r_25', 'r_16', 'r_19', 's_25', 'd_82', 'd_111', 'd_71', 'd_145', 'd_107', 'r_15', 'd_52', 'd_80', 'd_92', 'd_65', 'd_55', 'd_81']\n",
      "Max Accuracy: 0.89546, Current Accuracy: 0.89511, Difference: -0.00035, Percentage Diff: -0.00039\n",
      "Max ROC AUC: 0.95515, Current ROC AUC: 0.95472, Difference: -0.00043, Percentage Diff: -0.00045\n",
      "Max Amex Score: 0.76980, Current Amex Score: 0.76646, Difference: -0.00333, Percentage Diff: -0.00433\n",
      "-------------------------------Iteration 41------------------------\n",
      "Cols Dropped:  ['d_69', 'r_14', 'b_10', 'd_106', 'b_12', 's_17', 'd_116', 'b_30', 'b_21', 'd_136', 'b_13', 'b_32', 'b_31', 's_5', 'd_83', 'd_108', 'd_140', 'd_64', 's_23', 'b_6', 'd_86', 's_12', 'b_41', 'd_96', 'r_25', 'r_16', 'r_19', 's_25', 'd_82', 'd_111', 'd_71', 'd_145', 'd_107', 'r_15', 'd_52', 'd_80', 'd_92', 'd_65', 'd_55', 'd_81', 's_6']\n",
      "Max Accuracy: 0.89546, Current Accuracy: 0.89510, Difference: -0.00036, Percentage Diff: -0.00040\n",
      "Max ROC AUC: 0.95515, Current ROC AUC: 0.95469, Difference: -0.00046, Percentage Diff: -0.00048\n",
      "Max Amex Score: 0.76980, Current Amex Score: 0.76667, Difference: -0.00313, Percentage Diff: -0.00407\n",
      "-------------------------------Iteration 42------------------------\n",
      "Cols Dropped:  ['d_69', 'r_14', 'b_10', 'd_106', 'b_12', 's_17', 'd_116', 'b_30', 'b_21', 'd_136', 'b_13', 'b_32', 'b_31', 's_5', 'd_83', 'd_108', 'd_140', 'd_64', 's_23', 'b_6', 'd_86', 's_12', 'b_41', 'd_96', 'r_25', 'r_16', 'r_19', 's_25', 'd_82', 'd_111', 'd_71', 'd_145', 'd_107', 'r_15', 'd_52', 'd_80', 'd_92', 'd_65', 'd_55', 'd_81', 's_6', 'b_5']\n",
      "Max Accuracy: 0.89546, Current Accuracy: 0.89476, Difference: -0.00070, Percentage Diff: -0.00078\n",
      "Max ROC AUC: 0.95515, Current ROC AUC: 0.95458, Difference: -0.00057, Percentage Diff: -0.00060\n",
      "Max Amex Score: 0.76980, Current Amex Score: 0.76620, Difference: -0.00360, Percentage Diff: -0.00467\n",
      "-------------------------------Iteration 43------------------------\n",
      "Cols Dropped:  ['d_69', 'r_14', 'b_10', 'd_106', 'b_12', 's_17', 'd_116', 'b_30', 'b_21', 'd_136', 'b_13', 'b_32', 'b_31', 's_5', 'd_83', 'd_108', 'd_140', 'd_64', 's_23', 'b_6', 'd_86', 's_12', 'b_41', 'd_96', 'r_25', 'r_16', 'r_19', 's_25', 'd_82', 'd_111', 'd_71', 'd_145', 'd_107', 'r_15', 'd_52', 'd_80', 'd_92', 'd_65', 'd_55', 'd_81', 's_6', 'b_5', 'd_144']\n",
      "Max Accuracy: 0.89546, Current Accuracy: 0.89480, Difference: -0.00066, Percentage Diff: -0.00074\n",
      "Max ROC AUC: 0.95515, Current ROC AUC: 0.95459, Difference: -0.00056, Percentage Diff: -0.00058\n",
      "Max Amex Score: 0.76980, Current Amex Score: 0.76646, Difference: -0.00334, Percentage Diff: -0.00433\n",
      "-------------------------------Iteration 44------------------------\n",
      "Cols Dropped:  ['d_69', 'r_14', 'b_10', 'd_106', 'b_12', 's_17', 'd_116', 'b_30', 'b_21', 'd_136', 'b_13', 'b_32', 'b_31', 's_5', 'd_83', 'd_108', 'd_140', 'd_64', 's_23', 'b_6', 'd_86', 's_12', 'b_41', 'd_96', 'r_25', 'r_16', 'r_19', 's_25', 'd_82', 'd_111', 'd_71', 'd_145', 'd_107', 'r_15', 'd_52', 'd_80', 'd_92', 'd_65', 'd_55', 'd_81', 's_6', 'b_5', 'd_144', 'd_66']\n",
      "Max Accuracy: 0.89546, Current Accuracy: 0.89459, Difference: -0.00087, Percentage Diff: -0.00097\n",
      "Max ROC AUC: 0.95515, Current ROC AUC: 0.95441, Difference: -0.00074, Percentage Diff: -0.00077\n",
      "Max Amex Score: 0.76980, Current Amex Score: 0.76616, Difference: -0.00364, Percentage Diff: -0.00473\n",
      "-------------------------------Iteration 45------------------------\n",
      "Cols Dropped:  ['d_69', 'r_14', 'b_10', 'd_106', 'b_12', 's_17', 'd_116', 'b_30', 'b_21', 'd_136', 'b_13', 'b_32', 'b_31', 's_5', 'd_83', 'd_108', 'd_140', 'd_64', 's_23', 'b_6', 'd_86', 's_12', 'b_41', 'd_96', 'r_25', 'r_16', 'r_19', 's_25', 'd_82', 'd_111', 'd_71', 'd_145', 'd_107', 'r_15', 'd_52', 'd_80', 'd_92', 'd_65', 'd_55', 'd_81', 's_6', 'b_5', 'd_144', 'd_66', 'r_21']\n",
      "Max Accuracy: 0.89546, Current Accuracy: 0.89419, Difference: -0.00127, Percentage Diff: -0.00142\n",
      "Max ROC AUC: 0.95515, Current ROC AUC: 0.95421, Difference: -0.00094, Percentage Diff: -0.00098\n",
      "Max Amex Score: 0.76980, Current Amex Score: 0.76530, Difference: -0.00450, Percentage Diff: -0.00584\n",
      "-------------------------------Iteration 46------------------------\n",
      "Cols Dropped:  ['d_69', 'r_14', 'b_10', 'd_106', 'b_12', 's_17', 'd_116', 'b_30', 'b_21', 'd_136', 'b_13', 'b_32', 'b_31', 's_5', 'd_83', 'd_108', 'd_140', 'd_64', 's_23', 'b_6', 'd_86', 's_12', 'b_41', 'd_96', 'r_25', 'r_16', 'r_19', 's_25', 'd_82', 'd_111', 'd_71', 'd_145', 'd_107', 'r_15', 'd_52', 'd_80', 'd_92', 'd_65', 'd_55', 'd_81', 's_6', 'b_5', 'd_144', 'd_66', 'r_21', 'd_138']\n",
      "Max Accuracy: 0.89546, Current Accuracy: 0.89420, Difference: -0.00126, Percentage Diff: -0.00141\n",
      "Max ROC AUC: 0.95515, Current ROC AUC: 0.95418, Difference: -0.00097, Percentage Diff: -0.00102\n",
      "Max Amex Score: 0.76980, Current Amex Score: 0.76515, Difference: -0.00465, Percentage Diff: -0.00604\n",
      "-------------------------------Iteration 47------------------------\n",
      "Cols Dropped:  ['d_69', 'r_14', 'b_10', 'd_106', 'b_12', 's_17', 'd_116', 'b_30', 'b_21', 'd_136', 'b_13', 'b_32', 'b_31', 's_5', 'd_83', 'd_108', 'd_140', 'd_64', 's_23', 'b_6', 'd_86', 's_12', 'b_41', 'd_96', 'r_25', 'r_16', 'r_19', 's_25', 'd_82', 'd_111', 'd_71', 'd_145', 'd_107', 'r_15', 'd_52', 'd_80', 'd_92', 'd_65', 'd_55', 'd_81', 's_6', 'b_5', 'd_144', 'd_66', 'r_21', 'd_138', 'd_91']\n",
      "Max Accuracy: 0.89546, Current Accuracy: 0.89398, Difference: -0.00148, Percentage Diff: -0.00165\n",
      "Max ROC AUC: 0.95515, Current ROC AUC: 0.95414, Difference: -0.00101, Percentage Diff: -0.00105\n",
      "Max Amex Score: 0.76980, Current Amex Score: 0.76520, Difference: -0.00460, Percentage Diff: -0.00598\n",
      "-------------------------------Iteration 48------------------------\n",
      "Cols Dropped:  ['d_69', 'r_14', 'b_10', 'd_106', 'b_12', 's_17', 'd_116', 'b_30', 'b_21', 'd_136', 'b_13', 'b_32', 'b_31', 's_5', 'd_83', 'd_108', 'd_140', 'd_64', 's_23', 'b_6', 'd_86', 's_12', 'b_41', 'd_96', 'r_25', 'r_16', 'r_19', 's_25', 'd_82', 'd_111', 'd_71', 'd_145', 'd_107', 'r_15', 'd_52', 'd_80', 'd_92', 'd_65', 'd_55', 'd_81', 's_6', 'b_5', 'd_144', 'd_66', 'r_21', 'd_138', 'd_91', 'd_115']\n",
      "Max Accuracy: 0.89546, Current Accuracy: 0.89396, Difference: -0.00150, Percentage Diff: -0.00168\n",
      "Max ROC AUC: 0.95515, Current ROC AUC: 0.95415, Difference: -0.00100, Percentage Diff: -0.00104\n",
      "Max Amex Score: 0.76980, Current Amex Score: 0.76529, Difference: -0.00451, Percentage Diff: -0.00586\n",
      "-------------------------------Iteration 49------------------------\n",
      "Cols Dropped:  ['d_69', 'r_14', 'b_10', 'd_106', 'b_12', 's_17', 'd_116', 'b_30', 'b_21', 'd_136', 'b_13', 'b_32', 'b_31', 's_5', 'd_83', 'd_108', 'd_140', 'd_64', 's_23', 'b_6', 'd_86', 's_12', 'b_41', 'd_96', 'r_25', 'r_16', 'r_19', 's_25', 'd_82', 'd_111', 'd_71', 'd_145', 'd_107', 'r_15', 'd_52', 'd_80', 'd_92', 'd_65', 'd_55', 'd_81', 's_6', 'b_5', 'd_144', 'd_66', 'r_21', 'd_138', 'd_91', 'd_115', 'd_127']\n",
      "Max Accuracy: 0.89546, Current Accuracy: 0.89400, Difference: -0.00146, Percentage Diff: -0.00163\n",
      "Max ROC AUC: 0.95515, Current ROC AUC: 0.95408, Difference: -0.00107, Percentage Diff: -0.00112\n",
      "Max Amex Score: 0.76980, Current Amex Score: 0.76505, Difference: -0.00475, Percentage Diff: -0.00617\n",
      "-------------------------------Iteration 50------------------------\n",
      "Cols Dropped:  ['d_69', 'r_14', 'b_10', 'd_106', 'b_12', 's_17', 'd_116', 'b_30', 'b_21', 'd_136', 'b_13', 'b_32', 'b_31', 's_5', 'd_83', 'd_108', 'd_140', 'd_64', 's_23', 'b_6', 'd_86', 's_12', 'b_41', 'd_96', 'r_25', 'r_16', 'r_19', 's_25', 'd_82', 'd_111', 'd_71', 'd_145', 'd_107', 'r_15', 'd_52', 'd_80', 'd_92', 'd_65', 'd_55', 'd_81', 's_6', 'b_5', 'd_144', 'd_66', 'r_21', 'd_138', 'd_91', 'd_115', 'd_127', 'b_20']\n",
      "Max Accuracy: 0.89546, Current Accuracy: 0.89398, Difference: -0.00148, Percentage Diff: -0.00165\n",
      "Max ROC AUC: 0.95515, Current ROC AUC: 0.95395, Difference: -0.00120, Percentage Diff: -0.00126\n",
      "Max Amex Score: 0.76980, Current Amex Score: 0.76369, Difference: -0.00610, Percentage Diff: -0.00793\n"
     ]
    }
   ],
   "source": [
    "cols_to_remove = []\n",
    "\n",
    "# Initialize with scores from all columns\n",
    "max_accuracy, max_roc_auc, max_amex_score = original_accuracy, original_roc_auc, original_amex_score\n",
    "\n",
    "# Train/Test dropping one feature at a time\n",
    "i = 0\n",
    "for col, _ in global_shap_values.items():\n",
    "    i += 1\n",
    "\n",
    "    X_train_reduced = X_train.drop(columns=cols_to_remove + [col])\n",
    "    X_test_reduced = X_test.drop(columns=cols_to_remove + [col])\n",
    "\n",
    "    # Model\n",
    "    logit2_reduced = LogisticRegression(\n",
    "        solver='saga', random_state=2303, n_jobs=12).fit(X_train_reduced, y_train)\n",
    "\n",
    "    y_pred_reduced = logit2_reduced.predict(X_test_reduced)\n",
    "    y_pred_proba_reduced = logit2_reduced.predict_proba(X_test_reduced)\n",
    "\n",
    "    # Calculate scores for this iteration\n",
    "    accuracy = accuracy_score(y_test, y_pred_reduced)\n",
    "    roc_auc = roc_auc_score(y_test, y_pred_proba_reduced[:, 1])\n",
    "    y_pred = pd.DataFrame({\n",
    "        'target': y_test,\n",
    "        'prediction': y_pred_proba_reduced[:, 1]\n",
    "    })\n",
    "    amex_score = amex_metric(y_pred[['target']], y_pred[['prediction']])\n",
    "\n",
    "    print('-------------------------------Iteration %d------------------------' % i)\n",
    "    print('Cols Dropped: ', cols_to_remove + [col])\n",
    "\n",
    "    diff = accuracy - max_accuracy\n",
    "    percent_diff = diff / max_accuracy\n",
    "    print('Max Accuracy: %.5f, Current Accuracy: %.5f, Difference: %.5f, Percentage Diff: %.5f' % (\n",
    "        max_accuracy, accuracy, diff, percent_diff))\n",
    "    # Assign the comparison value with the highest accuracy (original one / the one curently generated\n",
    "    # after removing column)\n",
    "    max_accuracy = max(max_accuracy, accuracy)\n",
    "\n",
    "    diff = roc_auc - max_roc_auc\n",
    "    percent_diff = diff / max_roc_auc\n",
    "    print('Max ROC AUC: %.5f, Current ROC AUC: %.5f, Difference: %.5f, Percentage Diff: %.5f' % (\n",
    "        max_roc_auc, roc_auc, diff, percent_diff))\n",
    "    # Assign the comparison value with the highest roc_auc value (original one / the one curently generated\n",
    "    # after removing column)\n",
    "    max_roc_auc = max(max_roc_auc, roc_auc)\n",
    "\n",
    "    diff = amex_score - max_amex_score\n",
    "    percent_diff = diff / max_amex_score\n",
    "    print('Max Amex Score: %.5f, Current Amex Score: %.5f, Difference: %.5f, Percentage Diff: %.5f' % (\n",
    "        max_amex_score, amex_score, diff, percent_diff))\n",
    "    # Assign the comparison value with the highest amex score (original one / the one curently generated\n",
    "    # after removing column)\n",
    "    max_amex_score = max(max_amex_score, amex_score)\n",
    "\n",
    "    # If the accuracy increases after dropping the column\n",
    "    # then drop the column --> checking for the amex score difference only\n",
    "    if diff <= -0.005:\n",
    "        break\n",
    "\n",
    "    cols_to_remove.append(col)"
   ]
  },
  {
   "cell_type": "code",
   "execution_count": 25,
   "metadata": {},
   "outputs": [
    {
     "name": "stdout",
     "output_type": "stream",
     "text": [
      "The columns remaining are (367130, 50)\n",
      "Logistic : ROC AUC = 0.954\n"
     ]
    },
    {
     "data": {
      "image/png": "[encoded data removed]",
      "text/plain": [
       "<Figure size 640x480 with 1 Axes>"
      ]
     },
     "metadata": {},
     "output_type": "display_data"
    }
   ],
   "source": [
    "# Prepare final reduced model\n",
    "X_train_reduced = X_train.drop(columns=cols_to_remove)\n",
    "X_test_reduced = X_test.drop(columns=cols_to_remove)\n",
    "print(f'The columns remaining are {X_train_reduced.shape}')\n",
    "\n",
    "# Model\n",
    "logit2_reduced = LogisticRegression(\n",
    "    solver='saga', random_state=2303, n_jobs=12).fit(X_train_reduced, y_train)\n",
    "\n",
    "y_pred_reduced = logit2_reduced.predict(X_test_reduced)\n",
    "y_pred_proba_reduced = logit2_reduced.predict_proba(X_test_reduced)\n",
    "\n",
    "# Calculate roc metric \n",
    "print('Logistic : ROC AUC = %.3f' % (roc_auc_score(y_test,y_pred_proba_reduced[:,1])))\n",
    "\n",
    "fpr,tpr,_ = roc_curve(y_test,y_pred_proba_reduced[:,1])\n",
    "plt.plot(fpr,tpr,marker = '.')\n",
    "plt.xlabel('False Positive Rate')\n",
    "plt.ylabel('True Positive Rate')\n",
    "plt.show()"
   ]
  },
  {
   "cell_type": "code",
   "execution_count": 26,
   "metadata": {},
   "outputs": [],
   "source": [
    "def execute_model(df):\n",
    "    # Just add extra columns with 0 value so that pipeline does not fail --> these are the extra columns that we had in the training data\n",
    "    extra_cols = ['target']\n",
    "    print(df.shape)\n",
    "    # Concatenate the dataframe of extra columns with the dataframe of the test data\n",
    "    df['target'] = np.zeros((df.shape[0], 1))\n",
    "    print(df.shape)\n",
    "\n",
    "    # Use the pipeline to transform\n",
    "    X = pipeline.transform(df)\n",
    "    print(X.shape)\n",
    "    s = X.isnull().values.any()\n",
    "    print(s)\n",
    "    # Drop target & the insignificant variables found during the training using statsmodel p-value\n",
    "    X.drop(columns=['target','customer_id','s_2'] + df_vif[df_vif['VIF']> 10]['feature'].to_list()\n",
    "                    + high_pval_col.tolist() + cols_to_remove, inplace=True)\n",
    "\n",
    "    # return log_reg.predict_proba(X)\n",
    "    # In the statsmodel predict will give the probability\n",
    "    return logit2_reduced.predict_proba(X)[:,1]\n",
    "    "
   ]
  },
  {
   "cell_type": "code",
   "execution_count": 27,
   "metadata": {},
   "outputs": [],
   "source": [
    "del(sm_logit1)\n",
    "df_test = pd.read_parquet('D:/Sakshi/DSBA_6156_SERJ/data/test.parquet')\n",
    "df_test.columns= df_test.columns.str.lower()\n",
    "df_test['last_statement_flag'] = (df_test.groupby('customer_id')['s_2']\n",
    "                      .rank(method='dense', ascending=False)\n",
    "                      .astype(np.int8)\n",
    "                   )\n",
    "df_test = df_test[df_test['last_statement_flag']== 1].copy()\n",
    "df_test.drop(columns='last_statement_flag', inplace=True)"
   ]
  },
  {
   "cell_type": "code",
   "execution_count": 28,
   "metadata": {},
   "outputs": [
    {
     "data": {
      "text/plain": [
       "(924621, 190)"
      ]
     },
     "execution_count": 28,
     "metadata": {},
     "output_type": "execute_result"
    }
   ],
   "source": [
    "df_test.shape"
   ]
  },
  {
   "cell_type": "code",
   "execution_count": 29,
   "metadata": {},
   "outputs": [
    {
     "name": "stdout",
     "output_type": "stream",
     "text": [
      "(924621, 190)\n",
      "(924621, 191)\n",
      "(924621, 173)\n",
      "False\n"
     ]
    }
   ],
   "source": [
    "# Define the result mdf\n",
    "mdf = pd.DataFrame(columns=['customer_id', 's_2','proba'])\n",
    "y_proba = execute_model(df_test)\n",
    "\n",
    "mdf = pd.concat([\n",
    "    mdf,\n",
    "    pd.DataFrame({\n",
    "        'customer_id': df_test['customer_id'].values,\n",
    "        's_2': df_test['s_2'].values,\n",
    "        'proba': y_proba\n",
    "    })\n",
    "]) \n",
    "# mdf.to_csv('../ignore/final/logisticregression_baseline_prediction.csv', index=False)"
   ]
  },
  {
   "cell_type": "code",
   "execution_count": 30,
   "metadata": {},
   "outputs": [
    {
     "data": {
      "text/plain": [
       "dtype('<M8[ns]')"
      ]
     },
     "execution_count": 30,
     "metadata": {},
     "output_type": "execute_result"
    }
   ],
   "source": [
    "mdf['s_2'] = pd.to_datetime(mdf['s_2'])\n",
    "mdf['s_2'].dtype"
   ]
  },
  {
   "cell_type": "code",
   "execution_count": 31,
   "metadata": {},
   "outputs": [],
   "source": [
    "# Get the last statement probability of each of the customer\n",
    "mdf.rename(columns= {'proba' : 'prediction'},inplace=True)\n",
    "mdf.to_csv('D:/Sakshi/DSBA_6156_SERJ/ignore/ppt_analysis/lgb2_shapley.csv', index=False)"
   ]
  }
 ],
 "metadata": {
  "kernelspec": {
   "display_name": "Python 3.10.4 ('venv': venv)",
   "language": "python",
   "name": "python3"
  },
  "language_info": {
   "codemirror_mode": {
    "name": "ipython",
    "version": 3
   },
   "file_extension": ".py",
   "mimetype": "text/x-python",
   "name": "python",
   "nbconvert_exporter": "python",
   "pygments_lexer": "ipython3",
   "version": "3.10.4"
  },
  "orig_nbformat": 4,
  "vscode": {
   "interpreter": {
    "hash": "89a73c21ecc9236fdbb84984cd9e615404f96fb7d0e8948f841b3ff5dee670ca"
   }
  }
 },
 "nbformat": 4,
 "nbformat_minor": 2
}

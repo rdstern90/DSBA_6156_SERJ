{
 "cells": [
  {
   "cell_type": "code",
   "execution_count": 83,
   "metadata": {},
   "outputs": [],
   "source": [
    "import pandas as pd\n",
    "import numpy as np"
   ]
  },
  {
   "cell_type": "code",
   "execution_count": 84,
   "metadata": {},
   "outputs": [],
   "source": [
    "# Defining the outcome weighting.\n",
    "\n",
    "def conditions(x):\n",
    "    # Customer has 3 statements:\n",
    "    if   x == 3:   return 0.1\n",
    "    elif x == 6:   return 0.15\n",
    "    elif x == 9:   return 0.75\n",
    "    \n",
    "    # Customer has 2 statements:\n",
    "    elif x == 2:   return 0.2\n",
    "    elif x == 4:   return 0.8\n",
    "    \n",
    "    # Customer has 1 statement:\n",
    "    elif x == 1:   return 1.0 \n",
    "    else:          return \"error\""
   ]
  },
  {
   "cell_type": "code",
   "execution_count": 85,
   "metadata": {},
   "outputs": [],
   "source": [
    "# Prepare data\n",
    "def data_weighting(path, nrows=None):\n",
    "    # Read in the results .csv\n",
    "    mdf = pd.read_csv(path, nrows=nrows)\n",
    "    \n",
    "    # Filter the result set down to the columns we need\n",
    "    mdf = mdf[['customer_id', 'proba', 's_2']]\n",
    "    \n",
    "    # Sort by s_2 and grab last 3 statments for each customer. Change the value in tail() if you want to include more or less statements.\n",
    "    # mdf['mean_proba'] = mdf.groupby('customer_id')['proba'].transform('mean')\n",
    "    mdf = mdf.sort_values('s_2').groupby('customer_id').tail(3)\n",
    "    \n",
    "    # Create ordinal statement counts, with 1 being the oldest and 3 being the newest.\n",
    "    mdf[\"statement_num\"] = mdf.groupby(\"customer_id\")[\"s_2\"].rank(method=\"first\", ascending=True)\n",
    "    mdf['statement_count'] = mdf.groupby('customer_id')['statement_num'].transform('max')\n",
    "    \n",
    "    # Create a number so we can handnle the case where a customer had only 1 or 2 statements. \n",
    "    # Multiplied to give me a unique value for each case. See conditions() above.\n",
    "    mdf['statement_checksum'] = (mdf['statement_count']) * mdf['statement_num']\n",
    "    \n",
    "    # Displaying checksum counts for n statements   \n",
    "    display(mdf.groupby(['statement_count','statement_num', 'statement_checksum']).size())\n",
    "    \n",
    "    # Creating the weights per statement number in numpy\n",
    "    func = np.vectorize(conditions)\n",
    "    weights = func(mdf[\"statement_count\"])\n",
    "    # Bringing numpy array back to the pandas df\n",
    "    mdf['weights'] = weights\n",
    "    \n",
    "    \n",
    "    # Calculating the weighted sum\n",
    "    mdf ['prediction'] = mdf['proba'] * mdf['weights']\n",
    "    mdf = mdf[['customer_id', 'prediction']]\n",
    "    \n",
    "    # Grouping those weighted sums by customer_id to give granularity of 1 proba per customer\n",
    "    mdf = mdf.groupby('customer_id').sum()\n",
    "    \n",
    "    return mdf\n",
    "    "
   ]
  },
  {
   "cell_type": "markdown",
   "metadata": {},
   "source": [
    "# XGB Target:"
   ]
  },
  {
   "cell_type": "code",
   "execution_count": 89,
   "metadata": {},
   "outputs": [
    {
     "data": {
      "text/plain": [
       "statement_count  statement_num  statement_checksum\n",
       "1.0              1.0            1.0                     5827\n",
       "2.0              1.0            2.0                     8174\n",
       "                 2.0            4.0                     8174\n",
       "3.0              1.0            3.0                   910620\n",
       "                 2.0            6.0                   910620\n",
       "                 3.0            9.0                   910620\n",
       "dtype: int64"
      ]
     },
     "metadata": {},
     "output_type": "display_data"
    },
    {
     "data": {
      "text/html": [
       "<div>\n",
       "<style scoped>\n",
       "    .dataframe tbody tr th:only-of-type {\n",
       "        vertical-align: middle;\n",
       "    }\n",
       "\n",
       "    .dataframe tbody tr th {\n",
       "        vertical-align: top;\n",
       "    }\n",
       "\n",
       "    .dataframe thead th {\n",
       "        text-align: right;\n",
       "    }\n",
       "</style>\n",
       "<table border=\"1\" class=\"dataframe\">\n",
       "  <thead>\n",
       "    <tr style=\"text-align: right;\">\n",
       "      <th></th>\n",
       "      <th>prediction</th>\n",
       "    </tr>\n",
       "    <tr>\n",
       "      <th>customer_id</th>\n",
       "      <th></th>\n",
       "    </tr>\n",
       "  </thead>\n",
       "  <tbody>\n",
       "    <tr>\n",
       "      <th>00000469ba478561f23a92a868bd366de6f6527a684c9a2e78fb826dcac3b9b7</th>\n",
       "      <td>0.011509</td>\n",
       "    </tr>\n",
       "    <tr>\n",
       "      <th>00001bf2e77ff879fab36aa4fac689b9ba411dae63ae397d4263dafa1daedef5</th>\n",
       "      <td>0.000220</td>\n",
       "    </tr>\n",
       "    <tr>\n",
       "      <th>0000210045da4f81e5f122c6bde5c2a617d03eef67f82c5e400fc98e7bd43ce8</th>\n",
       "      <td>0.004919</td>\n",
       "    </tr>\n",
       "    <tr>\n",
       "      <th>00003b41e58ede33b8daf61ab56d9952f17c9ad1c3976cf6e56734528702d694</th>\n",
       "      <td>0.169137</td>\n",
       "    </tr>\n",
       "    <tr>\n",
       "      <th>00004b22eaeeeb0ec976890c1d9bfc14fd9427e98c4ee9a4693dd914fca22557</th>\n",
       "      <td>0.206078</td>\n",
       "    </tr>\n",
       "  </tbody>\n",
       "</table>\n",
       "</div>"
      ],
      "text/plain": [
       "                                                    prediction\n",
       "customer_id                                                   \n",
       "00000469ba478561f23a92a868bd366de6f6527a684c9a2...    0.011509\n",
       "00001bf2e77ff879fab36aa4fac689b9ba411dae63ae397...    0.000220\n",
       "0000210045da4f81e5f122c6bde5c2a617d03eef67f82c5...    0.004919\n",
       "00003b41e58ede33b8daf61ab56d9952f17c9ad1c3976cf...    0.169137\n",
       "00004b22eaeeeb0ec976890c1d9bfc14fd9427e98c4ee9a...    0.206078"
      ]
     },
     "execution_count": 89,
     "metadata": {},
     "output_type": "execute_result"
    }
   ],
   "source": [
    "mdf = data_weighting(path='./ignore/XGB_target.csv')\n",
    "# print(mdf['statement_key'].value_counts())\n",
    "mdf.head()"
   ]
  },
  {
   "cell_type": "code",
   "execution_count": 90,
   "metadata": {},
   "outputs": [],
   "source": [
    "# Change me to set the path name for submission\n",
    "save_path = './ignore/XGB_target_weighted.csv'\n",
    "mdf.to_csv(save_path)"
   ]
  },
  {
   "cell_type": "markdown",
   "metadata": {},
   "source": [
    "# XGB Last Statement Target: "
   ]
  },
  {
   "cell_type": "code",
   "execution_count": null,
   "metadata": {},
   "outputs": [
    {
     "data": {
      "text/plain": [
       "statement_count  statement_num  statement_checksum\n",
       "1.0              1.0            1.0                     5827\n",
       "2.0              1.0            2.0                     8174\n",
       "                 2.0            4.0                     8174\n",
       "3.0              1.0            3.0                   910620\n",
       "                 2.0            6.0                   910620\n",
       "                 3.0            9.0                   910620\n",
       "dtype: int64"
      ]
     },
     "metadata": {},
     "output_type": "display_data"
    }
   ],
   "source": [
    "mdf = data_weighting(path='./ignore/XGB_last_statement_target.csv')\n",
    "mdf.to_csv('./ignore/XGB_last_statement_target_weighted.csv')"
   ]
  },
  {
   "cell_type": "markdown",
   "metadata": {},
   "source": [
    "# XGB only last statements:"
   ]
  },
  {
   "cell_type": "code",
   "execution_count": 88,
   "metadata": {},
   "outputs": [
    {
     "data": {
      "text/html": [
       "<div>\n",
       "<style scoped>\n",
       "    .dataframe tbody tr th:only-of-type {\n",
       "        vertical-align: middle;\n",
       "    }\n",
       "\n",
       "    .dataframe tbody tr th {\n",
       "        vertical-align: top;\n",
       "    }\n",
       "\n",
       "    .dataframe thead th {\n",
       "        text-align: right;\n",
       "    }\n",
       "</style>\n",
       "<table border=\"1\" class=\"dataframe\">\n",
       "  <thead>\n",
       "    <tr style=\"text-align: right;\">\n",
       "      <th></th>\n",
       "      <th>customer_id</th>\n",
       "      <th>prediction</th>\n",
       "    </tr>\n",
       "  </thead>\n",
       "  <tbody>\n",
       "    <tr>\n",
       "      <th>8</th>\n",
       "      <td>00000469ba478561f23a92a868bd366de6f6527a684c9a...</td>\n",
       "      <td>0.016107</td>\n",
       "    </tr>\n",
       "    <tr>\n",
       "      <th>21</th>\n",
       "      <td>00001bf2e77ff879fab36aa4fac689b9ba411dae63ae39...</td>\n",
       "      <td>0.010916</td>\n",
       "    </tr>\n",
       "    <tr>\n",
       "      <th>34</th>\n",
       "      <td>0000210045da4f81e5f122c6bde5c2a617d03eef67f82c...</td>\n",
       "      <td>0.414932</td>\n",
       "    </tr>\n",
       "    <tr>\n",
       "      <th>47</th>\n",
       "      <td>00003b41e58ede33b8daf61ab56d9952f17c9ad1c3976c...</td>\n",
       "      <td>0.562851</td>\n",
       "    </tr>\n",
       "    <tr>\n",
       "      <th>60</th>\n",
       "      <td>00004b22eaeeeb0ec976890c1d9bfc14fd9427e98c4ee9...</td>\n",
       "      <td>0.997745</td>\n",
       "    </tr>\n",
       "  </tbody>\n",
       "</table>\n",
       "</div>"
      ],
      "text/plain": [
       "                                          customer_id  prediction\n",
       "8   00000469ba478561f23a92a868bd366de6f6527a684c9a...    0.016107\n",
       "21  00001bf2e77ff879fab36aa4fac689b9ba411dae63ae39...    0.010916\n",
       "34  0000210045da4f81e5f122c6bde5c2a617d03eef67f82c...    0.414932\n",
       "47  00003b41e58ede33b8daf61ab56d9952f17c9ad1c3976c...    0.562851\n",
       "60  00004b22eaeeeb0ec976890c1d9bfc14fd9427e98c4ee9...    0.997745"
      ]
     },
     "execution_count": 88,
     "metadata": {},
     "output_type": "execute_result"
    }
   ],
   "source": [
    "mdf = pd.read_csv('./ignore/XGB_only_last_statements.csv')\n",
    "mdf = mdf[mdf.groupby('customer_id').s_2.transform('max') == mdf.s_2]\n",
    "mdf = mdf[['customer_id', 'proba']]\n",
    "mdf.columns = ['customer_id', 'prediction']\n",
    "mdf.head()"
   ]
  },
  {
   "cell_type": "code",
   "execution_count": null,
   "metadata": {},
   "outputs": [],
   "source": []
  },
  {
   "cell_type": "code",
   "execution_count": null,
   "metadata": {},
   "outputs": [],
   "source": []
  }
 ],
 "metadata": {
  "kernelspec": {
   "display_name": "Python 3.8.10 ('venv': venv)",
   "language": "python",
   "name": "python3"
  },
  "language_info": {
   "codemirror_mode": {
    "name": "ipython",
    "version": 3
   },
   "file_extension": ".py",
   "mimetype": "text/x-python",
   "name": "python",
   "nbconvert_exporter": "python",
   "pygments_lexer": "ipython3",
   "version": "3.8.10"
  },
  "orig_nbformat": 4,
  "vscode": {
   "interpreter": {
    "hash": "5dcb6b7e2f26f70306738e96e7445a78b658183e0554cf15e38890769044d88c"
   }
  }
 },
 "nbformat": 4,
 "nbformat_minor": 2
}

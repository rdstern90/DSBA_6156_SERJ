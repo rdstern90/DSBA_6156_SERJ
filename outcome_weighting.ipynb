{
 "cells": [
  {
   "cell_type": "code",
   "execution_count": 36,
   "metadata": {},
   "outputs": [],
   "source": [
    "import pandas as pd\n",
    "import numpy as np"
   ]
  },
  {
   "cell_type": "code",
   "execution_count": null,
   "metadata": {},
   "outputs": [],
   "source": [
    "# Defining the outcome weighting. \n",
    "def conditions(x):\n",
    "    if   x == 1:   return 0.1\n",
    "    elif x == 2:   return 0.15\n",
    "    elif x == 3:   return 0.75\n",
    "    else:           return \"error\"\n"
   ]
  },
  {
   "cell_type": "code",
   "execution_count": 63,
   "metadata": {},
   "outputs": [],
   "source": [
    "# Prepare data\n",
    "def data_weighting(path, nrows=None):\n",
    "    # Read in the results .csv\n",
    "    mdf = pd.read_csv(path, nrows=nrows)\n",
    "    \n",
    "    # Filter the result set down to the columns we need\n",
    "    mdf = mdf[['customer_id', 'proba', 's_2']]\n",
    "    \n",
    "    # Sort by s_2 and grab last 3 statments for each customer. Change the value in tail() if you want to include more or less statements.\n",
    "    mdf = mdf.sort_values('s_2').groupby('customer_id').tail(3)\n",
    "    \n",
    "    # Create ordinal statement counts, with 1 being the oldest and 3 being the newest.\n",
    "    mdf[\"statement_count\"] = mdf.groupby(\"customer_id\")[\"s_2\"].rank(method=\"first\", ascending=True)\n",
    "    \n",
    "    # Creating the weights per statement number in numpy\n",
    "    func = np.vectorize(conditions)\n",
    "    weights = func(mdf[\"statement_count\"])\n",
    "    # Bringing numpy array back to the pandas df\n",
    "    mdf['weights'] = weights\n",
    "    \n",
    "    # Calculating the weighted sum\n",
    "    mdf ['weighted_proba'] = mdf['proba'] * mdf['weights']\n",
    "    mdf = mdf[['customer_id', 'weighted_proba']]\n",
    "    \n",
    "    # Grouping those weighted sums by customer_id to give granularity of 1 proba per customer\n",
    "    mdf = mdf.groupby('customer_id').sum()\n",
    "    \n",
    "    return mdf\n",
    "    "
   ]
  },
  {
   "cell_type": "markdown",
   "metadata": {},
   "source": [
    "# Example below:"
   ]
  },
  {
   "cell_type": "code",
   "execution_count": 64,
   "metadata": {},
   "outputs": [
    {
     "data": {
      "text/html": [
       "<div>\n",
       "<style scoped>\n",
       "    .dataframe tbody tr th:only-of-type {\n",
       "        vertical-align: middle;\n",
       "    }\n",
       "\n",
       "    .dataframe tbody tr th {\n",
       "        vertical-align: top;\n",
       "    }\n",
       "\n",
       "    .dataframe thead th {\n",
       "        text-align: right;\n",
       "    }\n",
       "</style>\n",
       "<table border=\"1\" class=\"dataframe\">\n",
       "  <thead>\n",
       "    <tr style=\"text-align: right;\">\n",
       "      <th></th>\n",
       "      <th>weighted_proba</th>\n",
       "    </tr>\n",
       "    <tr>\n",
       "      <th>customer_id</th>\n",
       "      <th></th>\n",
       "    </tr>\n",
       "  </thead>\n",
       "  <tbody>\n",
       "    <tr>\n",
       "      <th>00000469ba478561f23a92a868bd366de6f6527a684c9a2e78fb826dcac3b9b7</th>\n",
       "      <td>0.028074</td>\n",
       "    </tr>\n",
       "    <tr>\n",
       "      <th>00001bf2e77ff879fab36aa4fac689b9ba411dae63ae397d4263dafa1daedef5</th>\n",
       "      <td>0.000724</td>\n",
       "    </tr>\n",
       "    <tr>\n",
       "      <th>0000210045da4f81e5f122c6bde5c2a617d03eef67f82c5e400fc98e7bd43ce8</th>\n",
       "      <td>0.020628</td>\n",
       "    </tr>\n",
       "    <tr>\n",
       "      <th>00003b41e58ede33b8daf61ab56d9952f17c9ad1c3976cf6e56734528702d694</th>\n",
       "      <td>0.567482</td>\n",
       "    </tr>\n",
       "    <tr>\n",
       "      <th>00004b22eaeeeb0ec976890c1d9bfc14fd9427e98c4ee9a4693dd914fca22557</th>\n",
       "      <td>0.739097</td>\n",
       "    </tr>\n",
       "  </tbody>\n",
       "</table>\n",
       "</div>"
      ],
      "text/plain": [
       "                                                    weighted_proba\n",
       "customer_id                                                       \n",
       "00000469ba478561f23a92a868bd366de6f6527a684c9a2...        0.028074\n",
       "00001bf2e77ff879fab36aa4fac689b9ba411dae63ae397...        0.000724\n",
       "0000210045da4f81e5f122c6bde5c2a617d03eef67f82c5...        0.020628\n",
       "00003b41e58ede33b8daf61ab56d9952f17c9ad1c3976cf...        0.567482\n",
       "00004b22eaeeeb0ec976890c1d9bfc14fd9427e98c4ee9a...        0.739097"
      ]
     },
     "execution_count": 64,
     "metadata": {},
     "output_type": "execute_result"
    }
   ],
   "source": [
    "mdf = data_weighting(path='./ignore/XBG_target.csv', nrows=1000)\n",
    "mdf.head()"
   ]
  }
 ],
 "metadata": {
  "kernelspec": {
   "display_name": "Python 3.8.10 ('venv': venv)",
   "language": "python",
   "name": "python3"
  },
  "language_info": {
   "codemirror_mode": {
    "name": "ipython",
    "version": 3
   },
   "file_extension": ".py",
   "mimetype": "text/x-python",
   "name": "python",
   "nbconvert_exporter": "python",
   "pygments_lexer": "ipython3",
   "version": "3.8.10"
  },
  "orig_nbformat": 4,
  "vscode": {
   "interpreter": {
    "hash": "5dcb6b7e2f26f70306738e96e7445a78b658183e0554cf15e38890769044d88c"
   }
  }
 },
 "nbformat": 4,
 "nbformat_minor": 2
}

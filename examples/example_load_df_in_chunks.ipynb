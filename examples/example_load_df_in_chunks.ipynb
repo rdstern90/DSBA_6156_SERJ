{
 "cells": [
  {
   "cell_type": "code",
   "execution_count": 2,
   "metadata": {},
   "outputs": [
    {
     "name": "stdout",
     "output_type": "stream",
     "text": [
      "11363763\n"
     ]
    }
   ],
   "source": [
    "#imports\n",
    "import pandas as pd\n",
    "\n",
    "#constants\n",
    "df_chunk_num_lines = 500000 #number of lines you want in each df chunk - make this lower if you get a memory error"
   ]
  },
  {
   "cell_type": "code",
   "execution_count": null,
   "metadata": {},
   "outputs": [],
   "source": [
    "current_position = 0 #defines starting position and keeps track of where in file to read\n",
    "df_columns = None #object to hold the col names collected from the first df chunk\n",
    "while True:\n",
    "    try:\n",
    "        df_chunk = pd.read_csv(r'.\\amex-default-prediction\\test_data.csv', skiprows=current_position, nrows=df_chunk_num_lines,)\n",
    "        df_chunk.columns = df_chunk.columns.str.lower() #convert all the column names to lowercase so that they match the column names from the database\n",
    "        if current_position == 0:\n",
    "            df_columns = df_chunk.columns\n",
    "        else:\n",
    "            df_chunk.columns = df_columns\n",
    "\n",
    "\n",
    "        print(\"df len\", str(len(df_chunk)))\n",
    "        print(df_chunk.columns)\n",
    "        #you get DF chunks that you can do whatever with here\n",
    "\n",
    "        current_position += df_chunk_num_lines #increments position by chunk size for the next loop\n",
    "    except pd.errors.EmptyDataError:\n",
    "        break"
   ]
  }
 ],
 "metadata": {
  "kernelspec": {
   "display_name": "Python 3.10.2 64-bit",
   "language": "python",
   "name": "python3"
  },
  "language_info": {
   "codemirror_mode": {
    "name": "ipython",
    "version": 3
   },
   "file_extension": ".py",
   "mimetype": "text/x-python",
   "name": "python",
   "nbconvert_exporter": "python",
   "pygments_lexer": "ipython3",
   "version": "3.10.2"
  },
  "orig_nbformat": 4,
  "vscode": {
   "interpreter": {
    "hash": "b38687464f26cc788bd6aab5d6ae24f3673c8f039be5f165e71e31106dd7d5ca"
   }
  }
 },
 "nbformat": 4,
 "nbformat_minor": 2
}
